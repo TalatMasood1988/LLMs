{
 "cells": [
  {
   "cell_type": "markdown",
   "id": "46235b8e-4303-44df-9f7e-df37365dfa6b",
   "metadata": {},
   "source": [
    "# The Price is Right\n",
    "A more complex solution for estimating prices of goods.\n",
    "\n",
    "1. This notebook: create a RAG database with our 400,000 training data\n",
    "2. Pr11.ThePriceIsRight-Rag2.1 notebook: visualize in 2D\n",
    "3. Pr11.ThePriceIsRight-Rag2.2 notebook: visualize in 3D\n",
    "4. Pr11.ThePriceIsRight-Rag2.3 notebook: build and test a RAG pipeline with GPT-4o-mini\n",
    "5. Pr11.ThePriceIsRight-Rag2.4 notebook: (a) bring back our Random Forest pricer (b) Create a Ensemble pricer that allows contributions from all the pricers\n",
    "\n",
    "Phew! That's a lot to get through in one day!\n"
   ]
  },
  {
   "cell_type": "code",
   "execution_count": 1,
   "id": "20153519-c3cc-4fbb-ba63-415125511879",
   "metadata": {},
   "outputs": [],
   "source": [
    "import os\n",
    "import re\n",
    "import math\n",
    "import json\n",
    "from tqdm import tqdm\n",
    "import random\n",
    "from dotenv import load_dotenv\n",
    "from huggingface_hub import login\n",
    "import numpy as np\n",
    "import pickle\n",
    "from sentence_transformers import SentenceTransformer\n",
    "from datasets import load_dataset\n",
    "import chromadb\n",
    "from items import Item\n",
    "from sklearn.manifold import TSNE\n",
    "import plotly.graph_objects as go"
   ]
  },
  {
   "cell_type": "code",
   "execution_count": 2,
   "id": "f9526484-02ba-4186-9343-b264501985e6",
   "metadata": {},
   "outputs": [],
   "source": [
    "load_dotenv()\n",
    "os.environ['OPENAI_API_KEY'] = os.getenv('OPENAI_API_KEY', 'your-key-if-not-using-env')\n",
    "os.environ['HF_TOKEN'] = os.getenv('HF_TOKEN', 'your-key-if-not-using-env')\n",
    "DB = \"products_vectorstore\""
   ]
  },
  {
   "cell_type": "code",
   "execution_count": 3,
   "id": "dbae1fa8-72e6-4cba-a70b-36af7f675382",
   "metadata": {},
   "outputs": [
    {
     "name": "stderr",
     "output_type": "stream",
     "text": [
      "Note: Environment variable`HF_TOKEN` is set and is the current active token independently from the token you've just configured.\n"
     ]
    }
   ],
   "source": [
    "hf_token = os.environ['HF_TOKEN']\n",
    "login(hf_token, add_to_git_credential=True)"
   ]
  },
  {
   "cell_type": "code",
   "execution_count": 4,
   "id": "07415e46-275a-45d3-9c0e-d2538252ba02",
   "metadata": {},
   "outputs": [],
   "source": [
    "with open('train.pkl', 'rb') as file:\n",
    "    train = pickle.load(file)"
   ]
  },
  {
   "cell_type": "code",
   "execution_count": 5,
   "id": "7292bb78-a7e8-41e7-b644-dc01da34c5a4",
   "metadata": {},
   "outputs": [
    {
     "data": {
      "text/plain": [
       "'How much does this cost to the nearest dollar?\\n\\nTMEE Handrails for Outdoor Steps Fits 1 to 3 Steps Outdoor Stair Railing，Staircase Handrail Fits with Installation Kit Transitional Handrail for Concrete Steps or Wooden Stairs\\nFits 1 OR 3 Steps handrail Design --This is a suitable 2 or 3 steps outdoor stair railing, and also suitable for level surface, all kind of different stairs. Handrail length cm, support post height cm,Middle rail length DIY Stair Railing Our Hand Rails for Steps can be multi-angle adjustment maximum adjustable angle of 65 ° to suit your specific step height, not only can be used on 2 to 3 steps, but also on flat ground, and there is no need to make any modification to the railing, just adjust the middle railing so that\\n\\nPrice is $127.00'"
      ]
     },
     "execution_count": 5,
     "metadata": {},
     "output_type": "execute_result"
    }
   ],
   "source": [
    "train[0].prompt"
   ]
  },
  {
   "cell_type": "markdown",
   "id": "05ad1fb5-10dc-4fb2-aa8d-3908d9053e65",
   "metadata": {},
   "source": [
    "# Now create a Chroma Datastore\n"
   ]
  },
  {
   "cell_type": "code",
   "execution_count": 6,
   "id": "693c4216-7d81-40a8-b031-42eb141e1472",
   "metadata": {},
   "outputs": [],
   "source": [
    "client = chromadb.PersistentClient(path=DB)"
   ]
  },
  {
   "cell_type": "code",
   "execution_count": 7,
   "id": "8b43ba51-7d33-4dfe-a5ba-020c7ce4a4f9",
   "metadata": {},
   "outputs": [
    {
     "name": "stdout",
     "output_type": "stream",
     "text": [
      "Deleted existing collection: products\n"
     ]
    }
   ],
   "source": [
    "collection_name = \"products\"\n",
    "existing_collection_names = [collection.name for collection in client.list_collections()]\n",
    "if collection_name in existing_collection_names:\n",
    "    client.delete_collection(collection_name)\n",
    "    print(f\"Deleted existing collection: {collection_name}\")\n",
    "\n",
    "collection = client.create_collection(collection_name)"
   ]
  },
  {
   "cell_type": "markdown",
   "id": "d7cde9d4-b607-4f7e-89b9-9bc26e352d5e",
   "metadata": {},
   "source": [
    "# Introducing the SentenceTransfomer\n",
    "\n",
    "The all-MiniLM is a very useful model from HuggingFace that maps sentences & paragraphs to a 384 dimensional dense vector space and is ideal for tasks like semantic search.\n",
    "\n",
    "https://huggingface.co/sentence-transformers/all-MiniLM-L6-v2\n",
    "\n",
    "It can run pretty quickly locally.\n",
    "\n",
    "Last time we used OpenAI embeddings to produce vector embeddings. Benefits compared to OpenAI embeddings:\n",
    "1. It's free and fast!\n",
    "3. We can run it locally, so the data never leaves our box - might be useful if you're building a personal RAG"
   ]
  },
  {
   "cell_type": "code",
   "execution_count": 8,
   "id": "e9ed3700-d75e-4b87-8552-b8a9b3673832",
   "metadata": {},
   "outputs": [],
   "source": [
    "model = SentenceTransformer('sentence-transformers/all-MiniLM-L6-v2')"
   ]
  },
  {
   "cell_type": "code",
   "execution_count": 9,
   "id": "513d28a4-e27e-48b6-80fd-1c6c320a0662",
   "metadata": {},
   "outputs": [],
   "source": [
    "vector = model.encode([\"Well hi there\"])[0]"
   ]
  },
  {
   "cell_type": "code",
   "execution_count": 10,
   "id": "89a4e908-1680-4d37-a37a-8e6e65a91efe",
   "metadata": {},
   "outputs": [
    {
     "data": {
      "text/plain": [
       "array([-9.46715847e-02,  4.27620001e-02,  5.51620275e-02, -5.11053891e-04,\n",
       "        1.16203222e-02, -6.80131093e-02,  2.76405960e-02,  6.06974810e-02,\n",
       "        2.88531054e-02, -1.74128413e-02, -4.94346879e-02,  2.30992828e-02,\n",
       "       -1.28614111e-02, -4.31402363e-02,  2.17509605e-02,  4.26549278e-02,\n",
       "        5.10500111e-02, -7.79727548e-02, -1.23247199e-01,  3.67455184e-02,\n",
       "        4.54121036e-03,  9.47937369e-02, -5.53099252e-02,  1.70641318e-02,\n",
       "       -2.92871799e-02, -4.47124690e-02,  2.06784252e-02,  6.39320314e-02,\n",
       "        2.27427818e-02,  4.87790182e-02, -2.33499426e-03,  4.72859628e-02,\n",
       "       -2.86258813e-02,  2.30625030e-02,  2.45130733e-02,  3.95681560e-02,\n",
       "       -4.33176570e-02, -1.02316678e-01,  2.79876892e-03,  2.39304379e-02,\n",
       "        1.61556378e-02, -8.99082236e-03,  2.07255017e-02,  6.40122965e-02,\n",
       "        6.89179003e-02, -6.98361546e-02,  2.89762625e-03, -8.10989290e-02,\n",
       "        1.71123147e-02,  2.50651571e-03, -1.06529072e-01, -4.87733446e-02,\n",
       "       -1.67762097e-02, -2.28662565e-02,  1.14816539e-01,  4.87413518e-02,\n",
       "       -1.64961424e-02, -6.90832511e-02,  1.13612130e-01, -7.18485415e-02,\n",
       "       -9.01571512e-02,  3.92894390e-06, -8.66768807e-02, -4.05916497e-02,\n",
       "        3.71317379e-02, -1.77617967e-02, -5.57464324e-02, -4.57097925e-02,\n",
       "       -5.43141477e-02, -4.00612168e-02, -4.60227095e-02,  2.82194111e-02,\n",
       "       -2.33606528e-02,  1.44406520e-02, -1.52777312e-02, -4.34328131e-02,\n",
       "        6.81274012e-02,  8.21895525e-02,  7.83892162e-03, -2.85973791e-02,\n",
       "        6.14309534e-02, -4.92685065e-02,  3.27062234e-03, -2.72682384e-02,\n",
       "       -4.59347144e-02, -2.60167345e-02,  5.70649467e-02, -5.86481881e-04,\n",
       "       -4.37076464e-02, -2.47842603e-04, -8.73550102e-02,  3.48776728e-02,\n",
       "        1.39326453e-02, -1.60043743e-02,  2.86958553e-02, -9.48596150e-02,\n",
       "        9.40612778e-02,  5.92686310e-02, -8.65014121e-02,  1.45011485e-01,\n",
       "        2.35388074e-02,  3.43325064e-02,  2.51477788e-04,  7.15541095e-02,\n",
       "       -3.12183034e-02,  3.86665948e-02, -2.47744415e-02,  6.52674213e-02,\n",
       "       -8.28817636e-02, -2.80246679e-02,  9.34544299e-03, -7.85532966e-03,\n",
       "        5.30727729e-02,  2.96894945e-02,  3.27329375e-02,  4.94737402e-02,\n",
       "        2.52208877e-02,  4.67067771e-02,  5.03404029e-02, -7.23744780e-02,\n",
       "        2.54434682e-02, -3.67216468e-02,  1.27570638e-02,  1.46063706e-02,\n",
       "        2.11491939e-02, -5.56908585e-02, -9.18521080e-03, -5.63395800e-34,\n",
       "        9.58770066e-02,  5.94577901e-02,  5.11444956e-02,  3.36359404e-02,\n",
       "       -1.34414611e-02, -2.77203508e-02, -3.48436646e-02,  1.80352200e-02,\n",
       "       -2.53210329e-02,  6.73576351e-03,  5.47840372e-02, -3.60574387e-02,\n",
       "       -5.20870201e-02, -2.90346388e-02,  4.38956451e-03,  6.50022998e-02,\n",
       "        3.07485089e-02,  2.00220793e-02,  1.73039816e-03,  2.96729617e-03,\n",
       "        3.40951048e-03, -6.78144544e-02,  3.41305211e-02,  8.37865006e-03,\n",
       "        5.39904200e-02,  2.70390343e-02,  7.84119517e-02, -1.30136266e-01,\n",
       "        4.84650172e-02,  5.14179617e-02, -7.94677902e-03,  5.57886995e-03,\n",
       "       -5.31025752e-02,  3.81299220e-02, -3.05513367e-02, -7.69778565e-02,\n",
       "        1.20530874e-02, -4.08993624e-02, -8.69358853e-02,  6.38056025e-02,\n",
       "        1.68675315e-02,  1.68740295e-03,  6.28894567e-02, -1.67711619e-02,\n",
       "        2.15585940e-02,  7.10048014e-04,  2.81027914e-03, -8.89800489e-03,\n",
       "       -1.80886928e-02, -2.16216836e-02, -5.59150279e-02,  1.78774428e-02,\n",
       "       -9.27093551e-02,  7.27908500e-03, -1.27753600e-01, -4.86938469e-02,\n",
       "        1.45872356e-02, -1.62751079e-02,  6.75622150e-02,  3.87702696e-02,\n",
       "        7.23295286e-02,  9.14991722e-02, -9.65291262e-02,  4.84791137e-02,\n",
       "       -1.06274135e-01, -1.05042430e-02,  8.90349522e-02, -8.07526037e-02,\n",
       "        7.87082016e-02, -2.04916932e-02, -5.55079803e-02, -3.31532806e-02,\n",
       "       -2.14429554e-02,  4.94699180e-02, -7.05118999e-02,  6.63998201e-02,\n",
       "        7.39671215e-02, -2.70116702e-03,  1.62262544e-02, -3.98228541e-02,\n",
       "        5.94091900e-02, -7.14360736e-03, -3.33480164e-02,  2.30418760e-02,\n",
       "        1.87185705e-02, -6.15724921e-02, -8.55346909e-04, -1.05786599e-01,\n",
       "       -8.43619853e-02, -3.92993726e-02, -3.16447243e-02,  6.60644323e-02,\n",
       "        9.41816643e-02, -8.35982561e-02,  9.50880442e-03,  1.25501654e-34,\n",
       "        6.38198629e-02,  2.11371239e-02, -1.65900290e-02,  1.88641753e-02,\n",
       "       -5.57018630e-02,  1.82812789e-03, -1.37587339e-02,  8.16278607e-02,\n",
       "       -9.13296640e-02,  7.06855729e-02,  6.79991916e-02, -5.44536412e-02,\n",
       "        3.80394757e-02,  3.80506692e-03,  1.03689790e-01,  7.32696033e-04,\n",
       "        2.95661315e-02,  4.19424586e-02, -1.20444268e-01,  1.24932565e-02,\n",
       "       -5.53506762e-02,  1.75228156e-02, -2.28165351e-02, -5.79299368e-02,\n",
       "        9.42934118e-03, -5.42279799e-03, -3.94945778e-03,  2.82348692e-02,\n",
       "       -1.28066882e-01, -1.31304665e-02,  7.42956772e-02, -1.74529180e-02,\n",
       "       -9.72758085e-02,  8.25625192e-03,  2.06900779e-02, -5.29764500e-03,\n",
       "       -1.37695577e-02, -3.50974463e-02,  1.74978636e-02, -1.76234040e-02,\n",
       "       -6.50826022e-02, -3.84675525e-02, -8.76396522e-02,  3.21291462e-02,\n",
       "        2.55016121e-03, -2.09378861e-02,  5.55309765e-02,  2.57095657e-02,\n",
       "       -2.94735804e-02,  1.25047741e-02, -6.83466271e-02, -8.00623074e-02,\n",
       "       -1.46905622e-02,  1.03745060e-02, -8.51863176e-02, -1.10539058e-02,\n",
       "        2.14596409e-02,  4.08608615e-02,  3.31647396e-02, -2.76757181e-02,\n",
       "       -2.01878101e-02,  8.98878183e-03,  3.92048806e-02,  1.15103342e-01,\n",
       "        5.50441034e-02,  2.72755250e-02, -1.09526761e-01, -1.72623228e-02,\n",
       "        1.33438269e-02, -1.73702184e-02, -5.04370918e-03, -2.00292114e-02,\n",
       "        1.16672307e-01, -1.84322633e-02,  3.70626263e-02,  1.60885770e-02,\n",
       "        3.48829739e-02,  5.50574102e-02, -6.60804380e-03,  7.06828684e-02,\n",
       "        4.07849401e-02, -1.43314293e-02, -2.85445713e-03,  2.74251383e-02,\n",
       "       -4.26768921e-02,  1.26582999e-02,  3.34343463e-02,  1.62645280e-02,\n",
       "        1.19263008e-02, -2.92119253e-02,  2.73977444e-02,  3.44305374e-02,\n",
       "        2.52832398e-02,  3.07513829e-02,  3.22558060e-02, -1.74628507e-08,\n",
       "       -1.52691090e-02,  5.37684932e-03,  1.41246527e-01,  5.08366786e-02,\n",
       "        5.32256290e-02,  9.67938453e-02,  4.33674194e-02, -6.48312364e-03,\n",
       "        1.58603415e-02,  4.05631699e-02,  6.94985241e-02,  6.04905449e-02,\n",
       "       -6.26188889e-02, -3.96144688e-02,  1.10648803e-01,  1.67735834e-02,\n",
       "       -7.68690417e-03,  2.59616747e-02, -5.28792627e-02, -2.22319439e-02,\n",
       "        1.74595397e-02,  4.75340188e-02,  3.27674896e-02, -4.59684394e-02,\n",
       "        2.01770812e-02, -1.60876308e-02, -1.58613659e-02, -1.66658163e-02,\n",
       "       -3.05246226e-02, -3.87907289e-02, -1.27654988e-02,  6.57610968e-02,\n",
       "       -2.22502239e-02, -9.44990106e-03,  2.32080258e-02,  2.66038422e-02,\n",
       "        2.14203689e-02, -7.54583022e-03,  8.84752199e-02, -9.43514258e-02,\n",
       "       -5.74869961e-02, -7.77098760e-02,  1.95787521e-03, -1.50347464e-02,\n",
       "       -8.08487926e-03,  1.88217871e-02,  8.42518732e-03, -3.78592573e-02,\n",
       "        1.24533828e-02, -7.94995502e-02, -2.15791110e-02,  1.20276641e-02,\n",
       "        1.74870472e-02,  8.74479488e-02,  6.64090961e-02,  3.13737802e-02,\n",
       "       -1.00628873e-02,  2.07701046e-02, -5.20163253e-02, -8.91336519e-03,\n",
       "        1.48542270e-01, -2.51259841e-03,  9.93156433e-02,  2.34929379e-02],\n",
       "      dtype=float32)"
      ]
     },
     "execution_count": 10,
     "metadata": {},
     "output_type": "execute_result"
    }
   ],
   "source": [
    "vector"
   ]
  },
  {
   "cell_type": "code",
   "execution_count": 11,
   "id": "c4bd9eda-25d4-4ae4-9734-763e4623367d",
   "metadata": {},
   "outputs": [],
   "source": [
    "def description(item):\n",
    "    text = item.prompt.replace(\"How much does this cost to the nearest dollar?\\n\\n\", \"\")\n",
    "    return text.split(\"\\n\\nPrice is $\")[0]"
   ]
  },
  {
   "cell_type": "code",
   "execution_count": 12,
   "id": "17d33cc1-9417-4607-a199-cd0ff84d2692",
   "metadata": {},
   "outputs": [
    {
     "data": {
      "text/plain": [
       "'TMEE Handrails for Outdoor Steps Fits 1 to 3 Steps Outdoor Stair Railing，Staircase Handrail Fits with Installation Kit Transitional Handrail for Concrete Steps or Wooden Stairs\\nFits 1 OR 3 Steps handrail Design --This is a suitable 2 or 3 steps outdoor stair railing, and also suitable for level surface, all kind of different stairs. Handrail length cm, support post height cm,Middle rail length DIY Stair Railing Our Hand Rails for Steps can be multi-angle adjustment maximum adjustable angle of 65 ° to suit your specific step height, not only can be used on 2 to 3 steps, but also on flat ground, and there is no need to make any modification to the railing, just adjust the middle railing so that'"
      ]
     },
     "execution_count": 12,
     "metadata": {},
     "output_type": "execute_result"
    }
   ],
   "source": [
    "description(train[0])"
   ]
  },
  {
   "cell_type": "code",
   "execution_count": 13,
   "id": "2a45b6ee-a227-4e58-9eca-b025ad42d6e2",
   "metadata": {},
   "outputs": [
    {
     "name": "stderr",
     "output_type": "stream",
     "text": [
      "100%|████████████████████████████████████████████████████████████████████████████| 400/400 [42:13:26<00:00, 380.02s/it]\n"
     ]
    }
   ],
   "source": [
    "for i in tqdm(range(0, len(train), 1000)):\n",
    "    documents = [description(item) for item in train[i: i+1000]]\n",
    "    vectors = model.encode(documents).astype(float).tolist()\n",
    "    metadatas = [{\"category\": item.category, \"price\": item.price} for item in train[i: i+1000]]\n",
    "    ids = [f\"doc_{j}\" for j in range(i, i+1000)]\n",
    "    collection.add(\n",
    "        ids=ids,\n",
    "        documents=documents,\n",
    "        embeddings=vectors,\n",
    "        metadatas=metadatas\n",
    "    )"
   ]
  },
  {
   "cell_type": "code",
   "execution_count": null,
   "id": "dace1c33-d7ad-449b-9a68-2fd238888a85",
   "metadata": {},
   "outputs": [],
   "source": []
  }
 ],
 "metadata": {
  "kernelspec": {
   "display_name": "Python 3 (ipykernel)",
   "language": "python",
   "name": "python3"
  },
  "language_info": {
   "codemirror_mode": {
    "name": "ipython",
    "version": 3
   },
   "file_extension": ".py",
   "mimetype": "text/x-python",
   "name": "python",
   "nbconvert_exporter": "python",
   "pygments_lexer": "ipython3",
   "version": "3.11.10"
  }
 },
 "nbformat": 4,
 "nbformat_minor": 5
}

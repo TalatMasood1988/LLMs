{
 "cells": [
  {
   "cell_type": "markdown",
   "id": "2ee21baa-724f-4cb9-9e30-be0368298192",
   "metadata": {},
   "source": [
    "# The Price is Right\n",
    "\n",
    "It is a project for ScanningAgent that looks for promising deals by subscribing to RSS feeds."
   ]
  },
  {
   "cell_type": "code",
   "execution_count": 1,
   "id": "87e1684b-be61-48c4-b8be-1b721a5060af",
   "metadata": {},
   "outputs": [],
   "source": [
    "import os\n",
    "import json\n",
    "from dotenv import load_dotenv\n",
    "from openai import OpenAI\n",
    "from agents.deals import ScrapedDeal, DealSelection"
   ]
  },
  {
   "cell_type": "code",
   "execution_count": 2,
   "id": "5d86de21-238c-4f6e-9ca9-64e647e210f2",
   "metadata": {},
   "outputs": [],
   "source": [
    "load_dotenv()\n",
    "os.environ['OPENAI_API_KEY'] = os.getenv('OPENAI_API_KEY', 'your-key-if-not-using-env')\n",
    "MODEL = 'gpt-4o-mini'\n",
    "openai = OpenAI()"
   ]
  },
  {
   "cell_type": "code",
   "execution_count": 4,
   "id": "da12e589-e812-4d91-b329-5b35049fed29",
   "metadata": {},
   "outputs": [
    {
     "name": "stderr",
     "output_type": "stream",
     "text": [
      "100%|███████████████████████████████████████████████████████████████████████████████████| 5/5 [15:16<00:00, 183.28s/it]\n"
     ]
    }
   ],
   "source": [
    "deals = ScrapedDeal.fetch(show_progress=True)"
   ]
  },
  {
   "cell_type": "code",
   "execution_count": 5,
   "id": "39a7e22a-e557-4db2-b141-daf4dd44080c",
   "metadata": {},
   "outputs": [
    {
     "data": {
      "text/plain": [
       "50"
      ]
     },
     "execution_count": 5,
     "metadata": {},
     "output_type": "execute_result"
    }
   ],
   "source": [
    "len(deals)"
   ]
  },
  {
   "cell_type": "code",
   "execution_count": 6,
   "id": "150b15d9-ffba-4f3b-be42-9793b58a3a69",
   "metadata": {},
   "outputs": [
    {
     "data": {
      "text/plain": [
       "\"Title: LG Major Appliance Special Values at Lowe's: Up to 50% off + Extra 10% off select $396+ + Pickup or $29 delivery\\nDetails: Shop over 200 major appliances from LG. Select items priced $396 or more get an extra 10% off in cart. We've pictured the LG 4.5-cu ft High Efficiency Stackable Front-Load Washer for $647.99 ($251 off). Buy Now at Lowe's\\nFeatures: \\nURL: https://www.dealnews.com/LG-Major-Appliance-Special-Values-at-Lowes-Up-to-50-off-Extra-10-off-select-396-Pickup-or-29-delivery/21694120.html?iref=rss-c196\""
      ]
     },
     "execution_count": 6,
     "metadata": {},
     "output_type": "execute_result"
    }
   ],
   "source": [
    "deals[44].describe()"
   ]
  },
  {
   "cell_type": "code",
   "execution_count": 7,
   "id": "0c908337-1675-45e8-9dc7-32f178ecb34f",
   "metadata": {},
   "outputs": [],
   "source": [
    "system_prompt = \"\"\"You identify and summarize the 5 most detailed deals from a list, by selecting deals that have the most detailed, high quality description and the most clear price.\n",
    "Respond strictly in JSON with no explanation, using this format. You should provide the price as a number derived from the description. If the price of a deal isn't clear, do not include that deal in your response.\n",
    "Most important is that you respond with the 5 deals that have the most detailed product description with price. It's not important to mention the terms of the deal; most important is a thorough description of the product.\n",
    "Be careful with products that are described as \"$XXX off\" or \"reduced by $XXX\" - this isn't the actual price of the product. Only respond with products when you are highly confident about the price. \n",
    "\n",
    "{\"deals\": [\n",
    "    {\n",
    "        \"product_description\": \"Your clearly expressed summary of the product in 4-5 sentences. Details of the item are much more important than why it's a good deal. Avoid mentioning discounts and coupons; focus on the item itself. There should be a paragpraph of text for each item you choose.\",\n",
    "        \"price\": 99.99,\n",
    "        \"url\": \"the url as provided\"\n",
    "    },\n",
    "    ...\n",
    "]}\"\"\""
   ]
  },
  {
   "cell_type": "code",
   "execution_count": 8,
   "id": "06eba5e6-50d0-4c4d-bc10-522c2778d1a4",
   "metadata": {},
   "outputs": [],
   "source": [
    "user_prompt = \"\"\"Respond with the most promising 5 deals from this list, selecting those which have the most detailed, high quality product description and a clear price.\n",
    "Respond strictly in JSON, and only JSON. You should rephrase the description to be a summary of the product itself, not the terms of the deal.\n",
    "Remember to respond with a paragraph of text in the product_description field for each of the 5 items that you select.\n",
    "Be careful with products that are described as \"$XXX off\" or \"reduced by $XXX\" - this isn't the actual price of the product. Only respond with products when you are highly confident about the price. \n",
    "\n",
    "Deals:\n",
    "\n",
    "\"\"\"\n",
    "user_prompt += '\\n\\n'.join([deal.describe() for deal in deals])"
   ]
  },
  {
   "cell_type": "code",
   "execution_count": 9,
   "id": "da311efa-d81e-435a-b48e-dd6aa438e90b",
   "metadata": {},
   "outputs": [
    {
     "name": "stdout",
     "output_type": "stream",
     "text": [
      "Respond with the most promising 5 deals from this list, selecting those which have the most detailed, high quality product description and a clear price.\n",
      "Respond strictly in JSON, and only JSON. You should rephrase the description to be a summary of the product itself, not the terms of the deal.\n",
      "Remember to respond with a paragraph of text in the product_description field for each of the 5 items that you select.\n",
      "Be careful with products that are described as \"$XXX off\" or \"reduced by $XXX\" - this isn't the actual price of the product. Only respond with products when you are highly confident about the price. \n",
      "\n",
      "Deals:\n",
      "\n",
      "Title: Best Buy Black Friday TV Sale: Up to 45% off + free shipping\n",
      "Details: Big-brand 50\" smart TVs start at $250, 75\" models at $850, and 85\" at $1,300. Pictured is the Samsung Q70D Series QN65Q70DAFXZA 75\" TV, which is $800 (a $200 drop). Shop Now at Best Buy\n",
      "Features: \n",
      "URL: https://www.dealnews.com/Best-Buy-Black-Friday-TV-Sale-Up-to-45-off-free-shipping/21694160.html?iref=rss-c142\n",
      "\n",
      "Title: Philips Hue White & Color Ambiance A19 LED Starter Kit for $110 + free shipping\n",
      "Details: That's the best deal we could find for this 3-bulb kit by $20, but most stores charge closer to $170. Buy Now at Dell Technologies\n",
      "Features: timer sync with media 16 million colors Hue Bridge smart home automation hub Model: 556704SKU\n",
      "URL: https://www.dealnews.com/products/Philips/Philips-Hue-White-Color-Ambiance-A19-LED-Starter-Kit/375866.html?iref=rss-c142\n",
      "\n",
      "Title: Best Buy Daily Deals: Deals on TVs, smart watches, smart home, more + free shipping\n",
      "Details: Today's Best Buy daily deals include best-ever prices on a 55\" and 65\" smart TV and many other tech and toy deals. Pictured is the Samsung Galaxy Watch6 44mm Aluminum Smartwatch, which is $170 (it's $190 elsewhere). My Best Buy members get free shipping on all orders (it's free to join). Shop Now at Best Buy\n",
      "Features: \n",
      "URL: https://www.dealnews.com/Best-Buy-Daily-Deals-Deals-on-TVs-smart-watches-smart-home-more-free-shippin\n"
     ]
    }
   ],
   "source": [
    "print(user_prompt[:2000])"
   ]
  },
  {
   "cell_type": "code",
   "execution_count": 10,
   "id": "1336852c-9250-421f-b468-f4087713b573",
   "metadata": {},
   "outputs": [],
   "source": [
    "def get_recommendations():\n",
    "    completion = openai.beta.chat.completions.parse(\n",
    "        model=\"gpt-4o-mini\",\n",
    "        messages=[\n",
    "            {\"role\": \"system\", \"content\": system_prompt},\n",
    "            {\"role\": \"user\", \"content\": user_prompt}\n",
    "      ],\n",
    "        response_format=DealSelection\n",
    "    )\n",
    "    result = completion.choices[0].message.parsed\n",
    "    return result"
   ]
  },
  {
   "cell_type": "code",
   "execution_count": 11,
   "id": "ce225f0b-2cf7-41f3-a702-7eb45311bba5",
   "metadata": {},
   "outputs": [],
   "source": [
    "result = get_recommendations()"
   ]
  },
  {
   "cell_type": "code",
   "execution_count": 21,
   "id": "2746a495-a4f6-4ffb-9ff5-6bc0b578d926",
   "metadata": {},
   "outputs": [
    {
     "data": {
      "text/plain": [
       "5"
      ]
     },
     "execution_count": 21,
     "metadata": {},
     "output_type": "execute_result"
    }
   ],
   "source": [
    "len(result.deals)"
   ]
  },
  {
   "cell_type": "code",
   "execution_count": 22,
   "id": "d87e7ae8-a3fe-4039-b5aa-2e60913c30e0",
   "metadata": {},
   "outputs": [
    {
     "data": {
      "text/plain": [
       "Deal(product_description='The Hisense A7 Series 65A7N 65\" Class 4K UHD Smart Google TV offers a stunning 3840x2160 native resolution for a crystal-clear viewing experience. Built-in Google Assistant and Amazon Alexa support offer seamless voice control, and you have access to popular streaming services like Netflix, Disney+, and YouTube directly from the TV. The device features WiFi connectivity and includes three HDMI inputs, making it easy to connect multiple devices. This model is designed for a smart home experience with modern technology.', price=350.0, url='https://www.dealnews.com/products/Hisense/Hisense-A7-Series-65-A7-N-65-Class-4-K-UHD-Smart-Google-TV/471574.html?iref=rss-c142')"
      ]
     },
     "execution_count": 22,
     "metadata": {},
     "output_type": "execute_result"
    }
   ],
   "source": [
    "result.deals[1]"
   ]
  },
  {
   "cell_type": "code",
   "execution_count": 23,
   "id": "cb226fa8-9be1-4147-880e-ac0ed084abcb",
   "metadata": {},
   "outputs": [],
   "source": [
    "from agents.scanner_agent import ScannerAgent"
   ]
  },
  {
   "cell_type": "code",
   "execution_count": 24,
   "id": "48af9f59-990b-47a3-a7f0-132a792857a6",
   "metadata": {},
   "outputs": [],
   "source": [
    "agent = ScannerAgent()\n",
    "result = agent.scan()"
   ]
  },
  {
   "cell_type": "code",
   "execution_count": 25,
   "id": "554b9923-c382-41c1-98d0-d6450bda6d96",
   "metadata": {},
   "outputs": [
    {
     "data": {
      "text/plain": [
       "DealSelection(deals=[Deal(product_description='The Philips Hue White & Color Ambiance A19 LED Starter Kit is an innovative light solution that includes three smart LED bulbs. With the ability to produce 16 million colors and a timer sync feature for media, it seamlessly integrates into your smart home. This kit requires a Hue Bridge for automation, making it an ideal choice for enhancing your home’s ambiance. Model: 556704SKU.', price=110.0, url='https://www.dealnews.com/products/Philips/Philips-Hue-White-Color-Ambiance-A19-LED-Starter-Kit/375866.html?iref=rss-f1912'), Deal(product_description='The Hisense A7 Series 65A7N is a 65-inch Class 4K UHD Smart Google TV, offering a stunning 3840x2160 native resolution. With built-in Google Assistant and Amazon Alexa compatibility, it provides seamless access to streaming services like Netflix, Disney+, and YouTube. Equipped with WiFi connectivity and three HDMI inputs, this smart TV is perfect for a modern entertainment experience.', price=350.0, url='https://www.dealnews.com/products/Hisense/Hisense-A7-Series-65-A7-N-65-Class-4-K-UHD-Smart-Google-TV/471574.html?iref=rss-c142'), Deal(product_description='The Samsung Odyssey G51C is a 32-inch 1440p gaming monitor designed for optimal performance with a QHD display. It boasts a 165Hz refresh rate and a rapid 1ms response time, ensuring smooth gameplay. This monitor supports AMD FreeSync Premium technology and is fully adjustable for comfort during long gaming sessions. Model: LS32CG512ENXZA.', price=200.0, url='https://www.dealnews.com/Samsung-Odyssey-G51-C-32-1440-p-Gaming-Monitor-for-200-free-shipping-w-Prime/21694223.html?iref=rss-c39'), Deal(product_description='The Lenovo Yoga 7i is a powerful 16-inch 2-in-1 touchscreen laptop featuring the Intel Core Ultra 5 125U processor. With 16GB of RAM and a 512GB SSD, it delivers swift performance for multitasking and storage. The high-resolution 1920 x 1200 IPS LCD touchscreen allows for intuitive navigation and productivity, making it perfect for work or entertainment. Model: 83DL0000US.', price=500.0, url='https://www.dealnews.com/Lenovo-Yoga-7-i-Intel-Core-Ultra-5-16-2-in-1-Touchscreen-Laptop-for-500-free-shipping/21694215.html?iref=rss-c39'), Deal(product_description=\"The 2nd-Gen Google Nest Wired Video Doorbell is designed to enhance your home security with features like two-way audio, night vision, and motion sensing capabilities. With its IP65 waterproof rating, it's built to withstand various weather conditions. This doorbell integrates with Google Assistant and Amazon Alexa for seamless smart home control. Model: G28DR.\", price=100.0, url='https://www.dealnews.com/products/Google/2-nd-Gen-Google-Nest-Wired-Video-Doorbell/483570.html?iref=rss-f1912')])"
      ]
     },
     "execution_count": 25,
     "metadata": {},
     "output_type": "execute_result"
    }
   ],
   "source": [
    "result"
   ]
  },
  {
   "cell_type": "code",
   "execution_count": 26,
   "id": "25623424-a3f9-43e6-8720-dd1aa149dabf",
   "metadata": {},
   "outputs": [
    {
     "name": "stdout",
     "output_type": "stream",
     "text": [
      "test\n"
     ]
    }
   ],
   "source": [
    "print(\"test\")"
   ]
  },
  {
   "cell_type": "code",
   "execution_count": null,
   "id": "c3d4b905-3a8e-4374-a954-a7cc67dc62df",
   "metadata": {},
   "outputs": [],
   "source": []
  }
 ],
 "metadata": {
  "kernelspec": {
   "display_name": "Python 3 (ipykernel)",
   "language": "python",
   "name": "python3"
  },
  "language_info": {
   "codemirror_mode": {
    "name": "ipython",
    "version": 3
   },
   "file_extension": ".py",
   "mimetype": "text/x-python",
   "name": "python",
   "nbconvert_exporter": "python",
   "pygments_lexer": "ipython3",
   "version": "3.11.10"
  }
 },
 "nbformat": 4,
 "nbformat_minor": 5
}

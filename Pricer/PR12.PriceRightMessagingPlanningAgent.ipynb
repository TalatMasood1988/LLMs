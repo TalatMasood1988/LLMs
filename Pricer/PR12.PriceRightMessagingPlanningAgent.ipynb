{
 "cells": [
  {
   "cell_type": "markdown",
   "id": "288e544f-dbd3-4a12-908f-b3699b0fc55a",
   "metadata": {},
   "source": [
    "# The Price is Right\n",
    "\n",
    "The **Messaging Agent** to send push notifications\n",
    "\n",
    "The **Planning Agent** to coordinate activities\n",
    "\n",
    "Then we'll put it all together into an Agent Framework.\n",
    "\n",
    "For the Push Notification, we will be using a nifty platform called Pushover.  \n",
    "You'll need to set up a free account and add 2 tokens to your `.env` file:\n",
    "\n",
    "```\n",
    "PUSHOVER_USER=xxx\n",
    "PUSHOVER_TOKEN=xxx\n",
    "```"
   ]
  },
  {
   "cell_type": "code",
   "execution_count": 29,
   "id": "a3803ed9-d24d-4c99-bc50-93d026d85d20",
   "metadata": {},
   "outputs": [],
   "source": [
    "from dotenv import load_dotenv\n",
    "from agents.messaging_agent import MessagingAgent"
   ]
  },
  {
   "cell_type": "code",
   "execution_count": 30,
   "id": "4b382069-6bdf-418e-a87b-3fb8a6a44324",
   "metadata": {},
   "outputs": [],
   "source": [
    "load_dotenv()\n",
    "DB = \"products_vectorstore\""
   ]
  },
  {
   "cell_type": "code",
   "execution_count": 31,
   "id": "29ed6cd3-62fb-4353-b0bc-f835e39dd8a2",
   "metadata": {},
   "outputs": [],
   "source": [
    "agent = MessagingAgent()"
   ]
  },
  {
   "cell_type": "code",
   "execution_count": 32,
   "id": "f7a49591-28e2-4bfe-ae4a-c433f2048f65",
   "metadata": {},
   "outputs": [],
   "source": [
    "agent.push(\"MASSIVE NEWS!!!\")"
   ]
  },
  {
   "cell_type": "code",
   "execution_count": null,
   "id": "5257476b-6c52-4ed3-b2d9-c79d3d6fd06c",
   "metadata": {},
   "outputs": [],
   "source": []
  },
  {
   "cell_type": "code",
   "execution_count": 18,
   "id": "d9eae0aa-ac59-4d66-bceb-0c79c50f3ccd",
   "metadata": {},
   "outputs": [
    {
     "name": "stderr",
     "output_type": "stream",
     "text": [
      "C:\\Users\\QIRAT\\anaconda3\\envs\\llms\\Lib\\site-packages\\sentence_transformers\\cross_encoder\\CrossEncoder.py:13: TqdmExperimentalWarning: Using `tqdm.autonotebook.tqdm` in notebook mode. Use `tqdm.tqdm` instead to force console mode (e.g. in jupyter console)\n",
      "  from tqdm.autonotebook import tqdm, trange\n"
     ]
    }
   ],
   "source": [
    "import chromadb\n",
    "DB = \"products_vectorstore\"\n",
    "client = chromadb.PersistentClient(path=DB)\n",
    "collection = client.get_or_create_collection('products')\n",
    "from agents.planning_agent import PlanningAgent"
   ]
  },
  {
   "cell_type": "code",
   "execution_count": 19,
   "id": "a5427d6f-ee13-492d-b7e6-f802021cfbb9",
   "metadata": {},
   "outputs": [],
   "source": [
    "planner = PlanningAgent(collection)"
   ]
  },
  {
   "cell_type": "code",
   "execution_count": 20,
   "id": "ab905d45-0bac-4c19-ab93-928dff9a4778",
   "metadata": {},
   "outputs": [
    {
     "data": {
      "text/plain": [
       "Opportunity(deal=Deal(product_description='The Lenovo Yoga 7i is a versatile 16-inch 2-in-1 touchscreen laptop powered by an Intel Core Ultra 5 processor and equipped with 16GB of RAM and a 512GB SSD. It features a 1920 x 1200 IPS LCD touchscreen that provides vibrant visuals and an interactive experience, allowing for use in both laptop and tablet modes. This laptop is designed for productivity and convenience, suitable for work, entertainment, or creative projects. Its sleek design makes it a stylish choice for users on the go.', price=500.0, url='https://www.dealnews.com/Lenovo-Yoga-7-i-Intel-Core-Ultra-5-16-2-in-1-Touchscreen-Laptop-for-500-free-shipping/21694215.html?iref=rss-c39'), estimate=921.9678620012722, discount=421.96786200127224)"
      ]
     },
     "execution_count": 20,
     "metadata": {},
     "output_type": "execute_result"
    }
   ],
   "source": [
    "planner.plan()"
   ]
  },
  {
   "cell_type": "code",
   "execution_count": null,
   "id": "a6bb7741-297d-49d1-ad30-90a03d2be64f",
   "metadata": {},
   "outputs": [],
   "source": []
  }
 ],
 "metadata": {
  "kernelspec": {
   "display_name": "Python 3 (ipykernel)",
   "language": "python",
   "name": "python3"
  },
  "language_info": {
   "codemirror_mode": {
    "name": "ipython",
    "version": 3
   },
   "file_extension": ".py",
   "mimetype": "text/x-python",
   "name": "python",
   "nbconvert_exporter": "python",
   "pygments_lexer": "ipython3",
   "version": "3.11.10"
  }
 },
 "nbformat": 4,
 "nbformat_minor": 5
}

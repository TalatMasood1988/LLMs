{
 "cells": [
  {
   "cell_type": "markdown",
   "id": "46235b8e-4303-44df-9f7e-df37365dfa6b",
   "metadata": {},
   "source": [
    "# The Price is Right\n",
    "A more complex solution for estimating prices of goods.\n",
    "\n",
    "1. This notebook: create a RAG database with our 400,000 training data\n",
    "2. Pr11.ThePriceIsRight-Rag2.1 notebook: visualize in 2D\n",
    "3. Pr11.ThePriceIsRight-Rag2.2 notebook: visualize in 3D\n",
    "4. Pr11.ThePriceIsRight-Rag2.3 notebook: build and test a RAG pipeline with GPT-4o-mini\n",
    "5. Pr11.ThePriceIsRight-Rag2.4 notebook: (a) bring back our Random Forest pricer (b) Create a Ensemble pricer that allows contributions from all the pricers\n",
    "\n",
    "Phew! That's a lot to get through in one day!\n"
   ]
  },
  {
   "cell_type": "code",
   "execution_count": 1,
   "id": "20153519-c3cc-4fbb-ba63-415125511879",
   "metadata": {},
   "outputs": [],
   "source": [
    "# imports\n",
    "\n",
    "import os\n",
    "import re\n",
    "import math\n",
    "import json\n",
    "from tqdm import tqdm\n",
    "import random\n",
    "from dotenv import load_dotenv\n",
    "from huggingface_hub import login\n",
    "import matplotlib.pyplot as plt\n",
    "import numpy as np\n",
    "import pickle\n",
    "from openai import OpenAI\n",
    "from sentence_transformers import SentenceTransformer\n",
    "from datasets import load_dataset\n",
    "import chromadb\n",
    "from items import Item\n",
    "from testing import Tester"
   ]
  },
  {
   "cell_type": "code",
   "execution_count": 3,
   "id": "f9526484-02ba-4186-9343-b264501985e6",
   "metadata": {},
   "outputs": [],
   "source": [
    "# environment\n",
    "\n",
    "load_dotenv()\n",
    "os.environ['OPENAI_API_KEY'] = os.getenv('OPENAI_API_KEY', 'your-key-if-not-using-env')\n",
    "os.environ['HF_TOKEN'] = os.getenv('HF_TOKEN', 'your-key-if-not-using-env')"
   ]
  },
  {
   "cell_type": "code",
   "execution_count": 4,
   "id": "dbae1fa8-72e6-4cba-a70b-36af7f675382",
   "metadata": {},
   "outputs": [],
   "source": [
    "openai = OpenAI()"
   ]
  },
  {
   "cell_type": "code",
   "execution_count": 5,
   "id": "07415e46-275a-45d3-9c0e-d2538252ba02",
   "metadata": {},
   "outputs": [],
   "source": [
    "with open('test.pkl', 'rb') as file:\n",
    "    test = pickle.load(file)"
   ]
  },
  {
   "cell_type": "code",
   "execution_count": 6,
   "id": "7292bb78-a7e8-41e7-b644-dc01da34c5a4",
   "metadata": {},
   "outputs": [
    {
     "data": {
      "text/plain": [
       "'How much does this cost to the nearest dollar?\\n\\n3-in-1 Pocket Hole Jig Kit, Woodworking Doweling Jig Set, Positioning Punch Tools with Positioning Clip, Adjustable Drilling Guide for Puncher Locator Carpentry Woodwork\\n(Specifics)This finely machined hole drilling guide kit was designed with precision scale on its main body, the scale is adjustable according to the thickness of the plank to make your woodworking much precise and convenient. (Material) The drill kit and ring are made of carbon steel, the positioner is made of Anti-Rust hence durable aluminum. (Multi-function) Multi-purpose drill guide, for drilling dowel holes and vertical holes. Complete set of combinations meet your different drilling needs under multiple circumstances. (Premium Precision) The oblique jig was processed in high precision CNC machining to ensure an exact and\\n\\nPrice is $60.00'"
      ]
     },
     "execution_count": 6,
     "metadata": {},
     "output_type": "execute_result"
    }
   ],
   "source": [
    "test[0].prompt"
   ]
  },
  {
   "cell_type": "code",
   "execution_count": 7,
   "id": "ecaf9022-e442-4bde-a04a-c725fa2c0a7e",
   "metadata": {},
   "outputs": [],
   "source": [
    "def make_context(similars, prices):\n",
    "    message = \"To provide some context, here are some other items that might be similar to the item you need to estimate.\\n\\n\"\n",
    "    for similar, price in zip(similars, prices):\n",
    "        message += f\"Potentially related product:\\n{similar}\\nPrice is ${price:.2f}\\n\\n\"\n",
    "    return message"
   ]
  },
  {
   "cell_type": "code",
   "execution_count": 8,
   "id": "b6e72c50-67ce-4d63-b8e9-b64500d61721",
   "metadata": {},
   "outputs": [],
   "source": [
    "def messages_for(item, similars, prices):\n",
    "    system_message = \"You estimate prices of items. Reply only with the price, no explanation\"\n",
    "    user_prompt = make_context(similars, prices)\n",
    "    user_prompt += \"And now the question for you:\\n\\n\"\n",
    "    user_prompt += item.test_prompt().replace(\" to the nearest dollar\",\"\").replace(\"\\n\\nPrice is $\",\"\")\n",
    "    return [\n",
    "        {\"role\": \"system\", \"content\": system_message},\n",
    "        {\"role\": \"user\", \"content\": user_prompt},\n",
    "        {\"role\": \"assistant\", \"content\": \"Price is $\"}\n",
    "    ]"
   ]
  },
  {
   "cell_type": "code",
   "execution_count": 9,
   "id": "3aca68b9-fd29-4047-b9ee-ccfb54c17473",
   "metadata": {},
   "outputs": [],
   "source": [
    "DB = \"products_vectorstore\""
   ]
  },
  {
   "cell_type": "code",
   "execution_count": 10,
   "id": "b659d634-0b03-4d8f-a9e7-ec297809a5ee",
   "metadata": {},
   "outputs": [],
   "source": [
    "client = chromadb.PersistentClient(path=DB)\n",
    "collection = client.get_or_create_collection('products')"
   ]
  },
  {
   "cell_type": "code",
   "execution_count": 11,
   "id": "61fbb81e-42d3-43cf-bc37-a3006cc4c4c5",
   "metadata": {},
   "outputs": [],
   "source": [
    "def description(item):\n",
    "    text = item.prompt.replace(\"How much does this cost to the nearest dollar?\\n\\n\", \"\")\n",
    "    return text.split(\"\\n\\nPrice is $\")[0]"
   ]
  },
  {
   "cell_type": "code",
   "execution_count": 12,
   "id": "f2c45756-68a3-4d69-8043-447d6417278e",
   "metadata": {},
   "outputs": [
    {
     "data": {
      "text/plain": [
       "'3-in-1 Pocket Hole Jig Kit, Woodworking Doweling Jig Set, Positioning Punch Tools with Positioning Clip, Adjustable Drilling Guide for Puncher Locator Carpentry Woodwork\\n(Specifics)This finely machined hole drilling guide kit was designed with precision scale on its main body, the scale is adjustable according to the thickness of the plank to make your woodworking much precise and convenient. (Material) The drill kit and ring are made of carbon steel, the positioner is made of Anti-Rust hence durable aluminum. (Multi-function) Multi-purpose drill guide, for drilling dowel holes and vertical holes. Complete set of combinations meet your different drilling needs under multiple circumstances. (Premium Precision) The oblique jig was processed in high precision CNC machining to ensure an exact and'"
      ]
     },
     "execution_count": 12,
     "metadata": {},
     "output_type": "execute_result"
    }
   ],
   "source": [
    "description(test[0])"
   ]
  },
  {
   "cell_type": "code",
   "execution_count": 13,
   "id": "88054e5a-14dd-41d9-83ab-3b56db8b6121",
   "metadata": {},
   "outputs": [],
   "source": [
    "model = SentenceTransformer('sentence-transformers/all-MiniLM-L6-v2')"
   ]
  },
  {
   "cell_type": "code",
   "execution_count": 14,
   "id": "3823e337-787e-4ffc-9478-3e29a90853fb",
   "metadata": {},
   "outputs": [],
   "source": [
    "def vector(item):\n",
    "    return model.encode([description(item)])"
   ]
  },
  {
   "cell_type": "code",
   "execution_count": 15,
   "id": "855892da-1f09-46f9-b920-20f3b7a95afd",
   "metadata": {},
   "outputs": [],
   "source": [
    "def find_similars(item):\n",
    "    results = collection.query(query_embeddings=vector(item).astype(float).tolist(), n_results=5)\n",
    "    documents = results['documents'][0][:]\n",
    "    prices = [m['price'] for m in results['metadatas'][0][:]]\n",
    "    return documents, prices"
   ]
  },
  {
   "cell_type": "code",
   "execution_count": 16,
   "id": "3c1adb7e-ff56-4e82-a018-c12520f66e2d",
   "metadata": {},
   "outputs": [
    {
     "data": {
      "text/plain": [
       "'How much does this cost to the nearest dollar?\\n\\nBioluz LED 8 Pack 5 75 Watt (Uses 12W) 90 CRI Dimmable LED Retrofit Recessed Lighting Fixture - 3000K LED Ceiling Light 840 Lumen Soft White UL Listed JA8 CEC 2016 Title 20 (Pack of 8)\\nDimmable LED Fixture; 3000K Temperature, (Halogen Appearance) Fits 6 canned/recessed fixtures 80 watts of light using only 13 watts 900 Lumens & Instant-On at full brightness with 90+ degree beam Beautiful white light - not yellow or bluish - 3000K matches halogen appearance Brand Bioluz LED, Color 3000K Soft White, Material Aluminum, Plastic, Style Recessed Downlight, Light fixture\\n\\nPrice is $80.00'"
      ]
     },
     "execution_count": 16,
     "metadata": {},
     "output_type": "execute_result"
    }
   ],
   "source": [
    "test[1].prompt"
   ]
  },
  {
   "cell_type": "code",
   "execution_count": 17,
   "id": "f2cac2f2-98e5-4248-85b6-79166531d08a",
   "metadata": {},
   "outputs": [],
   "source": [
    "documents, prices = find_similars(test[1])"
   ]
  },
  {
   "cell_type": "code",
   "execution_count": 18,
   "id": "e7be5121-01b4-4081-9e15-b87cc98c6b67",
   "metadata": {},
   "outputs": [
    {
     "name": "stdout",
     "output_type": "stream",
     "text": [
      "To provide some context, here are some other items that might be similar to the item you need to estimate.\n",
      "\n",
      "Potentially related product:\n",
      "AmazonCommercial 75 Watt Equivalent, 15000 Hours, Dimmable, 800 Lumens, Energy Star Compliant, E26 Base, PAR30 LED Light Bulb - Pack of 10, Soft White\n",
      "An Amazon Brand Soft white light creates a warm, welcoming atmosphere in any room Instant brightness provides 800 lumens of light immediately, with no waiting time to warm up to full brightness Dimmable accommodates personal needs—enjoy brighter light when working on tasks and less light when wanting more comfortable ambiance Long lasting with a life of 15,000 hours, the bulb will last over 13 years (based on 3 hours of use each day) Energy saving the LED light bulb uses less energy compared to its incandescent equivalent Brand AmazonCommercial, Light Type LED,\n",
      "Price is $59.92\n",
      "\n",
      "Potentially related product:\n",
      "HALO LED Recessed Lighting 6 inch (12 Pack) – 3000K Warm White - Canless LED Recessed Light – HLBE 6 inch LED Downlight – 6 inch LED Recessed Lighting\n",
      "HALO LED Recessed Lighting 6 inch LED Downlights are complete canless LED recessed light 6 inch disk lights designed for use in new construction, remodel, and recessed lighting 6 inch retrofit installation, without needing a housing or j-box. Ultra-slim disc design goes where LED can lights can’t. This Halo 6 inch LED recessed light fixture features 3000K warm white color temperature and an LED driver that offers dimming capability. The HBLE line of Halo canless 6 inch LED recessed lighting features a\n",
      "Price is $159.72\n",
      "\n",
      "Potentially related product:\n",
      "5CCT LED Slim Recessed Lighting, 6 inch Downlight, Dimmable, 850LM CRI 90+, Selectable, Simple Retrofit Installation, Wet Rated, ETL&Energy Star Listed, 12 Pack\n",
      "5CCT LED Slim Recessed Lighting, 6 inch Downlight, Dimmable, 850LM CRI 90+, Selectable, Simple Retrofit Installation, Wet Rated, ETL&Energy Star Listed, 12 Pack IC RATED These canless LED recessed lights are IC rated, which is permitted to be in contact with insulations in ceilings, meaning the junction box is thermally protected Technical Parameter 14 Watt equivalent to 85 Watt incandescent bulbs, saving 86% on your electric bill. CRI 90\n",
      "Price is $52.99\n",
      "\n",
      "Potentially related product:\n",
      "LEDYOND LED Bulb BR56 5/6 Inch Dimmable Retrofit Lumen (Pack of 2)\n",
      "We are proud to present LEDYOND LED Recessed high output Downlight- our latest collection for high quality and energy efficiency with dimmable 5-6 Inch Retrofit Kit. It is ideal for residential use in kitchens, living rooms, dining rooms and commercial use including general lighting in retail and hospitality area. It fits most 5 in. and 6 in. recessed lighting cans and includes a 2700K soft white light that is dimmable and able to replace a incandescent bulb. It produces a light output equivalent to 950 Lumens, uses 10.2 watts of electricity. This kit is easy to install and comes with\n",
      "Price is $22.99\n",
      "\n",
      "Potentially related product:\n",
      "Consciot Ultra-Thin LED Recessed Lighting 6 Inch 12 Pack, Slim Junction Box, 5CCT Dimmable Canless Retrofit Recessed Light Fixtures, 16W, 1150LM Wafer Downlight, ETL\n",
      "Consciot 6 Inch LED Recessed Ceiling Light with Junction Box 12pack Our ultra-thin LED recessed ceiling light upholds the highest industry standard, and is ETL & FCC certified. The junction box is thermally protected, the 1.15 ultra-slim body only requires as tiny as 1.5 inches of ceiling space and fits various ceilings and joists. Recessed can is no longer a limitation for your choice. smooth dimming, CRI over to 90, high\n",
      "Price is $101.88\n",
      "\n",
      "\n"
     ]
    }
   ],
   "source": [
    "print(make_context(documents, prices))"
   ]
  },
  {
   "cell_type": "code",
   "execution_count": 19,
   "id": "01980472-a365-47a9-83f9-8e16075da171",
   "metadata": {},
   "outputs": [
    {
     "name": "stdout",
     "output_type": "stream",
     "text": [
      "[{'role': 'system', 'content': 'You estimate prices of items. Reply only with the price, no explanation'}, {'role': 'user', 'content': 'To provide some context, here are some other items that might be similar to the item you need to estimate.\\n\\nPotentially related product:\\nAmazonCommercial 75 Watt Equivalent, 15000 Hours, Dimmable, 800 Lumens, Energy Star Compliant, E26 Base, PAR30 LED Light Bulb - Pack of 10, Soft White\\nAn Amazon Brand Soft white light creates a warm, welcoming atmosphere in any room Instant brightness provides 800 lumens of light immediately, with no waiting time to warm up to full brightness Dimmable accommodates personal needs—enjoy brighter light when working on tasks and less light when wanting more comfortable ambiance Long lasting with a life of 15,000 hours, the bulb will last over 13 years (based on 3 hours of use each day) Energy saving the LED light bulb uses less energy compared to its incandescent equivalent Brand AmazonCommercial, Light Type LED,\\nPrice is $59.92\\n\\nPotentially related product:\\nHALO LED Recessed Lighting 6 inch (12 Pack) – 3000K Warm White - Canless LED Recessed Light – HLBE 6 inch LED Downlight – 6 inch LED Recessed Lighting\\nHALO LED Recessed Lighting 6 inch LED Downlights are complete canless LED recessed light 6 inch disk lights designed for use in new construction, remodel, and recessed lighting 6 inch retrofit installation, without needing a housing or j-box. Ultra-slim disc design goes where LED can lights can’t. This Halo 6 inch LED recessed light fixture features 3000K warm white color temperature and an LED driver that offers dimming capability. The HBLE line of Halo canless 6 inch LED recessed lighting features a\\nPrice is $159.72\\n\\nPotentially related product:\\n5CCT LED Slim Recessed Lighting, 6 inch Downlight, Dimmable, 850LM CRI 90+, Selectable, Simple Retrofit Installation, Wet Rated, ETL&Energy Star Listed, 12 Pack\\n5CCT LED Slim Recessed Lighting, 6 inch Downlight, Dimmable, 850LM CRI 90+, Selectable, Simple Retrofit Installation, Wet Rated, ETL&Energy Star Listed, 12 Pack IC RATED These canless LED recessed lights are IC rated, which is permitted to be in contact with insulations in ceilings, meaning the junction box is thermally protected Technical Parameter 14 Watt equivalent to 85 Watt incandescent bulbs, saving 86% on your electric bill. CRI 90\\nPrice is $52.99\\n\\nPotentially related product:\\nLEDYOND LED Bulb BR56 5/6 Inch Dimmable Retrofit Lumen (Pack of 2)\\nWe are proud to present LEDYOND LED Recessed high output Downlight- our latest collection for high quality and energy efficiency with dimmable 5-6 Inch Retrofit Kit. It is ideal for residential use in kitchens, living rooms, dining rooms and commercial use including general lighting in retail and hospitality area. It fits most 5 in. and 6 in. recessed lighting cans and includes a 2700K soft white light that is dimmable and able to replace a incandescent bulb. It produces a light output equivalent to 950 Lumens, uses 10.2 watts of electricity. This kit is easy to install and comes with\\nPrice is $22.99\\n\\nPotentially related product:\\nConsciot Ultra-Thin LED Recessed Lighting 6 Inch 12 Pack, Slim Junction Box, 5CCT Dimmable Canless Retrofit Recessed Light Fixtures, 16W, 1150LM Wafer Downlight, ETL\\nConsciot 6 Inch LED Recessed Ceiling Light with Junction Box 12pack Our ultra-thin LED recessed ceiling light upholds the highest industry standard, and is ETL & FCC certified. The junction box is thermally protected, the 1.15 ultra-slim body only requires as tiny as 1.5 inches of ceiling space and fits various ceilings and joists. Recessed can is no longer a limitation for your choice. smooth dimming, CRI over to 90, high\\nPrice is $101.88\\n\\nAnd now the question for you:\\n\\nHow much does this cost?\\n\\nBioluz LED 8 Pack 5 75 Watt (Uses 12W) 90 CRI Dimmable LED Retrofit Recessed Lighting Fixture - 3000K LED Ceiling Light 840 Lumen Soft White UL Listed JA8 CEC 2016 Title 20 (Pack of 8)\\nDimmable LED Fixture; 3000K Temperature, (Halogen Appearance) Fits 6 canned/recessed fixtures 80 watts of light using only 13 watts 900 Lumens & Instant-On at full brightness with 90+ degree beam Beautiful white light - not yellow or bluish - 3000K matches halogen appearance Brand Bioluz LED, Color 3000K Soft White, Material Aluminum, Plastic, Style Recessed Downlight, Light fixture'}, {'role': 'assistant', 'content': 'Price is $'}]\n"
     ]
    }
   ],
   "source": [
    "print(messages_for(test[1], documents, prices))"
   ]
  },
  {
   "cell_type": "code",
   "execution_count": 20,
   "id": "b3aed7dc-f744-4874-8c7c-9a8edbb1d73b",
   "metadata": {},
   "outputs": [],
   "source": [
    "def get_price(s):\n",
    "    s = s.replace('$','').replace(',','')\n",
    "    match = re.search(r\"[-+]?\\d*\\.\\d+|\\d+\", s)\n",
    "    return float(match.group()) if match else 0"
   ]
  },
  {
   "cell_type": "code",
   "execution_count": 21,
   "id": "055f55e8-c6ed-4929-85df-b9d0d3bbbf6b",
   "metadata": {},
   "outputs": [],
   "source": [
    "def gpt_4o_mini_rag(item):\n",
    "    documents, prices = find_similars(item)\n",
    "    response = openai.chat.completions.create(\n",
    "        model=\"gpt-4o-mini\", \n",
    "        messages=messages_for(item, documents, prices),\n",
    "        seed=42,\n",
    "        max_tokens=5\n",
    "    )\n",
    "    reply = response.choices[0].message.content\n",
    "    return get_price(reply)"
   ]
  },
  {
   "cell_type": "code",
   "execution_count": 22,
   "id": "b973361c-8cd9-4827-a50e-4754578880b1",
   "metadata": {},
   "outputs": [
    {
     "data": {
      "text/plain": [
       "42.99"
      ]
     },
     "execution_count": 22,
     "metadata": {},
     "output_type": "execute_result"
    }
   ],
   "source": [
    "gpt_4o_mini_rag(test[1])"
   ]
  },
  {
   "cell_type": "code",
   "execution_count": 23,
   "id": "f44fd50e-c45a-45b6-995f-04a3d441a184",
   "metadata": {},
   "outputs": [
    {
     "data": {
      "text/plain": [
       "79.99"
      ]
     },
     "execution_count": 23,
     "metadata": {},
     "output_type": "execute_result"
    }
   ],
   "source": [
    "test[1].price"
   ]
  },
  {
   "cell_type": "code",
   "execution_count": 24,
   "id": "0c1255d8-bc5b-4ec2-b2bb-a2ff1638ac23",
   "metadata": {},
   "outputs": [
    {
     "name": "stdout",
     "output_type": "stream",
     "text": [
      "\u001b[92m1: Guess: $47.99 Truth: $59.99 Error: $12.00 SLE: 0.05 Item: 3-in-1 Pocket Hole Jig Kit, Woodworking ...\u001b[0m\n",
      "\u001b[92m2: Guess: $42.99 Truth: $79.99 Error: $37.00 SLE: 0.37 Item: Bioluz LED 8 Pack 5\"/6-inch 75 Watt (Use...\u001b[0m\n",
      "\u001b[92m3: Guess: $29.99 Truth: $29.99 Error: $0.00 SLE: 0.00 Item: FiberShack - Fiber Optic ST Coupler & 2....\u001b[0m\n",
      "\u001b[93m4: Guess: $39.00 Truth: $82.99 Error: $43.99 SLE: 0.55 Item: Mig Gun Welding Torch Holder Mig Gun Hol...\u001b[0m\n",
      "\u001b[92m5: Guess: $149.99 Truth: $182.00 Error: $32.01 SLE: 0.04 Item: EGLO Mundazo 4-Light Semi Flush Modern C...\u001b[0m\n",
      "\u001b[92m6: Guess: $150.00 Truth: $118.45 Error: $31.55 SLE: 0.05 Item: Lenovo 32GB TruDDR4 Memory Module\u001b[0m\n",
      "\u001b[92m7: Guess: $299.00 Truth: $249.99 Error: $49.01 SLE: 0.03 Item: Jackson JS Series Monarkh SC JS22, Amara...\u001b[0m\n",
      "\u001b[93m8: Guess: $437.00 Truth: $667.00 Error: $230.00 SLE: 0.18 Item: MagnaFlow Direct-Fit Catalytic Converter...\u001b[0m\n",
      "\u001b[91m9: Guess: $198.86 Truth: $368.86 Error: $170.00 SLE: 0.38 Item: Gigabyte G1.Sniper Z87 LGA 1150 Intel Cr...\u001b[0m\n",
      "\u001b[93m10: Guess: $59.99 Truth: $124.96 Error: $64.97 SLE: 0.53 Item: Happy Atoms Magnetic Molecular Modeling ...\u001b[0m\n",
      "\u001b[92m11: Guess: $129.99 Truth: $119.00 Error: $10.99 SLE: 0.01 Item: Freeman PFN1564 Pneumatic 15-Gauge 34 De...\u001b[0m\n",
      "\u001b[91m12: Guess: $199.00 Truth: $435.83 Error: $236.83 SLE: 0.61 Item: RAM Clutches 78183 Hydraulic Release Bea...\u001b[0m\n",
      "\u001b[91m13: Guess: $179.99 Truth: $458.56 Error: $278.57 SLE: 0.87 Item: Contractor Deck Railing 8ft x 36in Alumi...\u001b[0m\n",
      "\u001b[92m14: Guess: $299.99 Truth: $319.97 Error: $19.98 SLE: 0.00 Item: Water Mat Floating Mat for Lake | 12 x 6...\u001b[0m\n",
      "\u001b[93m15: Guess: $159.95 Truth: $244.00 Error: $84.05 SLE: 0.18 Item: Eagle High Fits 170 High Amp alternator ...\u001b[0m\n",
      "\u001b[92m16: Guess: $99.00 Truth: $105.25 Error: $6.25 SLE: 0.00 Item: WAC Landscape Lighting, LEDme 120V LED V...\u001b[0m\n",
      "\u001b[93m17: Guess: $259.99 Truth: $338.00 Error: $78.01 SLE: 0.07 Item: YHY LED Tail Lights for Toyota 4Runner 2...\u001b[0m\n",
      "\u001b[92m18: Guess: $149.99 Truth: $186.83 Error: $36.84 SLE: 0.05 Item: CarPartsDepot FWD Front Bumper Primed Bl...\u001b[0m\n",
      "\u001b[92m19: Guess: $36.99 Truth: $34.74 Error: $2.25 SLE: 0.00 Item: Wymisnit 62Wh Type 6MT4T Battery for Del...\u001b[0m\n",
      "\u001b[92m20: Guess: $139.99 Truth: $114.98 Error: $25.01 SLE: 0.04 Item: LEDIN 36\" Lx6.5 H Towing Hitch Step Bar ...\u001b[0m\n",
      "\u001b[92m21: Guess: $98.75 Truth: $96.99 Error: $1.76 SLE: 0.00 Item: Wade 72-01401 Truck Bed Rail Caps Black ...\u001b[0m\n",
      "\u001b[93m22: Guess: $109.99 Truth: $165.86 Error: $55.87 SLE: 0.17 Item: Rowabi Rattan Pendant Light - Bamboo Pen...\u001b[0m\n",
      "\u001b[92m23: Guess: $209.99 Truth: $171.00 Error: $38.99 SLE: 0.04 Item: Sony Alpha A100K 10.2MP Digital SLR Came...\u001b[0m\n",
      "\u001b[92m24: Guess: $327.60 Truth: $364.00 Error: $36.40 SLE: 0.01 Item: Emtek Davos Style Trim Handleset in Poli...\u001b[0m\n",
      "\u001b[91m25: Guess: $299.99 Truth: $629.99 Error: $330.00 SLE: 0.55 Item: CKX Helmet Mission AMS DL Solid Carb Mat...\u001b[0m\n",
      "\u001b[93m26: Guess: $355.99 Truth: $526.89 Error: $170.90 SLE: 0.15 Item: Westin 21-534310 Stainless Steel 5\" ProT...\u001b[0m\n",
      "\u001b[92m27: Guess: $59.99 Truth: $72.16 Error: $12.17 SLE: 0.03 Item: Roller Racer The Original Flying Turtle ...\u001b[0m\n",
      "\u001b[91m28: Guess: $191.99 Truth: $109.60 Error: $82.39 SLE: 0.31 Item: Quorum 43306-6, Estate White 30\" Ceiling...\u001b[0m\n",
      "\u001b[93m29: Guess: $239.99 Truth: $173.99 Error: $66.00 SLE: 0.10 Item: Compatible with Polaris Ranger XP Half U...\u001b[0m\n",
      "\u001b[93m30: Guess: $249.00 Truth: $195.00 Error: $54.00 SLE: 0.06 Item: Lenovo 2019 Chromebook S330 14\" Thin and...\u001b[0m\n",
      "\u001b[92m31: Guess: $249.99 Truth: $274.48 Error: $24.49 SLE: 0.01 Item: Milwaukee Leather USA MADE MLJKM5006 Men...\u001b[0m\n",
      "\u001b[92m32: Guess: $193.18 Truth: $182.23 Error: $10.95 SLE: 0.00 Item: APS iBoard Running Boards Compatible wit...\u001b[0m\n",
      "\u001b[92m33: Guess: $79.99 Truth: $82.99 Error: $3.00 SLE: 0.00 Item: ODROID XU4 with Active Cooler and Power ...\u001b[0m\n",
      "\u001b[93m34: Guess: $210.00 Truth: $163.64 Error: $46.36 SLE: 0.06 Item: Four Seasons 67445 A/C Compressor\u001b[0m\n",
      "\u001b[92m35: Guess: $298.41 Truth: $264.41 Error: $34.00 SLE: 0.01 Item: AC Compressor & A/C Kit For Hyundai Sant...\u001b[0m\n",
      "\u001b[92m36: Guess: $12.99 Truth: $3.99 Error: $9.00 SLE: 1.06 Item: 40 Inch Giant Navy Blue Number 9 Balloon...\u001b[0m\n",
      "\u001b[92m37: Guess: $122.00 Truth: $102.00 Error: $20.00 SLE: 0.03 Item: Beautiful Large Tree Wall Decal Deco Art...\u001b[0m\n",
      "\u001b[91m38: Guess: $159.99 Truth: $299.99 Error: $140.00 SLE: 0.39 Item: Possini Euro Design Modern Lamp Floor St...\u001b[0m\n",
      "\u001b[92m39: Guess: $139.99 Truth: $127.99 Error: $12.00 SLE: 0.01 Item: KOLO Motorcycle Ramp, 81\" L x 12\" W Alum...\u001b[0m\n",
      "\u001b[92m40: Guess: $225.99 Truth: $191.07 Error: $34.92 SLE: 0.03 Item: Hyundai 3Q062-ADU00 Auto Dimming Mirror ...\u001b[0m\n",
      "\u001b[92m41: Guess: $8.99 Truth: $3.99 Error: $5.00 SLE: 0.48 Item: Odoria 1/12 Miniature Tennis Racket Racq...\u001b[0m\n",
      "\u001b[93m42: Guess: $199.99 Truth: $131.41 Error: $68.58 SLE: 0.17 Item: Air Lift 52301 LoadLifter 5000 Ultimate ...\u001b[0m\n",
      "\u001b[93m43: Guess: $141.00 Truth: $217.61 Error: $76.61 SLE: 0.19 Item: Allied Brass WS-72/30 Washington Square ...\u001b[0m\n",
      "\u001b[92m44: Guess: $799.00 Truth: $759.00 Error: $40.00 SLE: 0.00 Item: AVKANS NDI Camera, 20X Optical PTZ Camer...\u001b[0m\n",
      "\u001b[92m45: Guess: $210.64 Truth: $228.40 Error: $17.76 SLE: 0.01 Item: Dunlop American Elite Front Motorcycle T...\u001b[0m\n",
      "\u001b[93m46: Guess: $299.99 Truth: $445.41 Error: $145.42 SLE: 0.16 Item: Car Player,KIMISS 12.1in 1080P HD Touch ...\u001b[0m\n",
      "\u001b[92m47: Guess: $2.99 Truth: $3.99 Error: $1.00 SLE: 0.05 Item: Danger Apprentice, I Make Decals™, 3 Pac...\u001b[0m\n",
      "\u001b[91m48: Guess: $95.99 Truth: $253.19 Error: $157.20 SLE: 0.93 Item: HGFHGD 3D Mural Wallpaper Golden Hotel L...\u001b[0m\n",
      "\u001b[92m49: Guess: $245.87 Truth: $213.07 Error: $32.80 SLE: 0.02 Item: Callahan CDS05994 FRONT 300mm + REAR 292...\u001b[0m\n",
      "\u001b[92m50: Guess: $165.99 Truth: $126.03 Error: $39.96 SLE: 0.07 Item: AutoShack EMCC64784 Catalytic Converter ...\u001b[0m\n",
      "\u001b[93m51: Guess: $199.99 Truth: $150.88 Error: $49.11 SLE: 0.08 Item: Compatible with GMC Sierra/Yukon GMT800 ...\u001b[0m\n",
      "\u001b[93m52: Guess: $109.95 Truth: $59.95 Error: $50.00 SLE: 0.36 Item: SuperATV 17\" Curved UTV Rear View Mirror...\u001b[0m\n",
      "\u001b[91m53: Guess: $1,195.00 Truth: $789.95 Error: $405.05 SLE: 0.17 Item: Furuno GP1871F, 7\" Plotter/Chirp Sounder...\u001b[0m\n",
      "\u001b[91m54: Guess: $121.99 Truth: $249.49 Error: $127.50 SLE: 0.51 Item: TOYOTA Tundra Crewmax Roof Molding Kit S...\u001b[0m\n",
      "\u001b[92m55: Guess: $0.99 Truth: $0.99 Error: $0.00 SLE: 0.00 Item: RinoGear Screen Protector for Samsung Ga...\u001b[0m\n",
      "\u001b[92m56: Guess: $8.99 Truth: $4.99 Error: $4.00 SLE: 0.26 Item: Ailun USB C Female to USB A Male Adapter...\u001b[0m\n",
      "\u001b[92m57: Guess: $129.99 Truth: $132.99 Error: $3.00 SLE: 0.00 Item: Amico 12 Pack 6 Inch 5CCT LED Recessed C...\u001b[0m\n",
      "\u001b[92m58: Guess: $39.99 Truth: $68.79 Error: $28.80 SLE: 0.28 Item: Migliore Leather Armor: Extreme Protecti...\u001b[0m\n",
      "\u001b[92m59: Guess: $99.99 Truth: $114.50 Error: $14.51 SLE: 0.02 Item: VIEWISE NC324-XD 4MP Network PoE IR Came...\u001b[0m\n",
      "\u001b[92m60: Guess: $199.99 Truth: $182.50 Error: $17.49 SLE: 0.01 Item: IPCW CWT-CE518C Crystal Eyes Crystal Cle...\u001b[0m\n",
      "\u001b[92m61: Guess: $130.00 Truth: $159.82 Error: $29.82 SLE: 0.04 Item: Seagull 6221401-71 One Light Outdoor Pen...\u001b[0m\n",
      "\u001b[93m62: Guess: $88.00 Truth: $134.99 Error: $46.99 SLE: 0.18 Item: Unknown1 3-Light Orb Finish Linen Glass ...\u001b[0m\n",
      "\u001b[91m63: Guess: $79.99 Truth: $196.99 Error: $117.00 SLE: 0.80 Item: JKM & Company Mad for Plaid Rolling Comp...\u001b[0m\n",
      "\u001b[92m64: Guess: $49.99 Truth: $39.99 Error: $10.00 SLE: 0.05 Item: Skinit Waterproof Phone Case Compatible ...\u001b[0m\n",
      "\u001b[91m65: Guess: $259.99 Truth: $99.89 Error: $160.10 SLE: 0.90 Item: DIOZZHI 16 Line Laser Level,4D Self Leve...\u001b[0m\n",
      "\u001b[92m66: Guess: $227.43 Truth: $257.82 Error: $30.39 SLE: 0.02 Item: Universal Air Conditioner KT 3219 A/C Co...\u001b[0m\n",
      "\u001b[92m67: Guess: $199.99 Truth: $219.99 Error: $20.00 SLE: 0.01 Item: Batking DIY Guitar Kits Build Your Own U...\u001b[0m\n",
      "\u001b[93m68: Guess: $89.99 Truth: $152.14 Error: $62.15 SLE: 0.27 Item: Blue Sea Systems C-Series Triple Pole To...\u001b[0m\n",
      "\u001b[91m69: Guess: $249.99 Truth: $135.99 Error: $114.00 SLE: 0.37 Item: DC Comics Supergirl 1:6 Scale Collectors...\u001b[0m\n",
      "\u001b[91m70: Guess: $130.00 Truth: $252.38 Error: $122.38 SLE: 0.44 Item: Maier Fender Flares Black for Polaris Sp...\u001b[0m\n",
      "\u001b[91m71: Guess: $191.50 Truth: $353.43 Error: $161.93 SLE: 0.37 Item: TYC Left Headlight Assembly Compatible w...\u001b[0m\n",
      "\u001b[91m72: Guess: $187.50 Truth: $353.76 Error: $166.26 SLE: 0.40 Item: Genuine Nissan Parts - Authentic Catalog...\u001b[0m\n",
      "\u001b[92m73: Guess: $259.99 Truth: $249.00 Error: $10.99 SLE: 0.00 Item: Eagle Flight 16\" Stainless Steel Wheel S...\u001b[0m\n",
      "\u001b[92m74: Guess: $220.00 Truth: $193.95 Error: $26.05 SLE: 0.02 Item: ICON FS668 Tandem Fender Skirt, Polar Wh...\u001b[0m\n",
      "\u001b[93m75: Guess: $350.99 Truth: $277.13 Error: $73.86 SLE: 0.06 Item: Xtune PRO-JH-CS07-LED-BSM Headlight (Che...\u001b[0m\n",
      "\u001b[92m76: Guess: $350.00 Truth: $350.00 Error: $0.00 SLE: 0.00 Item: Eibach Pro-Kit Performance Spring Kit 40...\u001b[0m\n",
      "\u001b[92m77: Guess: $699.00 Truth: $699.99 Error: $0.99 SLE: 0.00 Item: Thorens TD 240-2 Fully-Automatic Turntab...\u001b[0m\n",
      "\u001b[92m78: Guess: $389.90 Truth: $344.90 Error: $45.00 SLE: 0.01 Item: Occidental Leather 5089 XXL Seven Bag Fr...\u001b[0m\n",
      "\u001b[93m79: Guess: $249.99 Truth: $205.00 Error: $44.99 SLE: 0.04 Item: Headphone Amplifier\u001b[0m\n",
      "\u001b[92m80: Guess: $269.99 Truth: $299.99 Error: $30.00 SLE: 0.01 Item: OLAKIDS Inflatable Water Slide, 8 in 1 B...\u001b[0m\n",
      "\u001b[92m81: Guess: $299.99 Truth: $299.00 Error: $0.99 SLE: 0.00 Item: Sportspower Battle Ridge Inflatable Wate...\u001b[0m\n",
      "\u001b[91m82: Guess: $190.45 Truth: $77.97 Error: $112.48 SLE: 0.78 Item: Dorman 931-013 Front Passenger Side Door...\u001b[0m\n",
      "\u001b[92m83: Guess: $249.99 Truth: $257.00 Error: $7.01 SLE: 0.00 Item: STYLISH Solid Stainless Steel Sink Kitch...\u001b[0m\n",
      "\u001b[92m84: Guess: $449.99 Truth: $469.99 Error: $20.00 SLE: 0.00 Item: E-flite RC Airplane Carbon-Z Cessna 150T...\u001b[0m\n",
      "\u001b[92m85: Guess: $69.99 Truth: $59.99 Error: $10.00 SLE: 0.02 Item: Jian Ya Na 3S 3000mAh 11.1V 3.0AH Lipo R...\u001b[0m\n",
      "\u001b[93m86: Guess: $149.99 Truth: $199.00 Error: $49.01 SLE: 0.08 Item: pInstrument Plastic pBone Trombone - Mou...\u001b[0m\n",
      "\u001b[91m87: Guess: $59.99 Truth: $264.37 Error: $204.38 SLE: 2.16 Item: OmniMount OC80FM Full Motion TV Mount fo...\u001b[0m\n",
      "\u001b[93m88: Guess: $159.99 Truth: $119.99 Error: $40.00 SLE: 0.08 Item: LTDNB Custom Fit Indoor Full Car Cover D...\u001b[0m\n",
      "\u001b[92m89: Guess: $303.99 Truth: $259.35 Error: $44.64 SLE: 0.03 Item: Covercraft Carhartt Mossy Oak Camo SeatS...\u001b[0m\n",
      "\u001b[92m90: Guess: $199.99 Truth: $211.40 Error: $11.41 SLE: 0.00 Item: TAMIYA 1/10 Monster Beetle Truck 2015 2 ...\u001b[0m\n",
      "\u001b[93m91: Guess: $274.41 Truth: $217.98 Error: $56.43 SLE: 0.05 Item: AC Compressor & A/C Clutch For Chevy Ast...\u001b[0m\n",
      "\u001b[92m92: Guess: $120.00 Truth: $143.23 Error: $23.23 SLE: 0.03 Item: LaSalle Bristol 410TSDC42BNWH Ceiling Fa...\u001b[0m\n",
      "\u001b[93m93: Guess: $199.99 Truth: $156.17 Error: $43.82 SLE: 0.06 Item: FIA SB9005-1 Universal Air Supplied Sand...\u001b[0m\n",
      "\u001b[92m94: Guess: $329.41 Truth: $396.41 Error: $67.00 SLE: 0.03 Item: A/C Kit w/AC Compressor Condenser & Drie...\u001b[0m\n",
      "\u001b[92m95: Guess: $12.99 Truth: $15.99 Error: $3.00 SLE: 0.04 Item: uxcell HSS Lathe Tool Bit 8mm x 25mm x 2...\u001b[0m\n",
      "\u001b[92m96: Guess: $7.99 Truth: $12.99 Error: $5.00 SLE: 0.20 Item: Geageaus 20mm Rainbow Bands Compatible w...\u001b[0m\n",
      "\u001b[92m97: Guess: $39.99 Truth: $74.95 Error: $34.96 SLE: 0.38 Item: DWK - Light of Our Love - Garden Gnome C...\u001b[0m\n",
      "\u001b[92m98: Guess: $239.99 Truth: $249.59 Error: $9.60 SLE: 0.00 Item: GM Genuine Parts MU1757 Fuel Pump and Le...\u001b[0m\n",
      "\u001b[92m99: Guess: $19.99 Truth: $57.98 Error: $37.99 SLE: 1.07 Item: White Mountain Puzzles American Lighthou...\u001b[0m\n",
      "\u001b[92m100: Guess: $85.00 Truth: $56.32 Error: $28.68 SLE: 0.16 Item: 10 Qty. Halco 20W MR16 FL LNS 24V GU5.3 ...\u001b[0m\n",
      "\u001b[91m101: Guess: $199.99 Truth: $339.00 Error: $139.01 SLE: 0.28 Item: Canon imageFORMULA RS40 Photo and Docume...\u001b[0m\n",
      "\u001b[92m102: Guess: $229.99 Truth: $197.99 Error: $32.00 SLE: 0.02 Item: RYC AC Compressor and A/C Clutch AEG273 ...\u001b[0m\n",
      "\u001b[92m103: Guess: $114.99 Truth: $124.67 Error: $9.68 SLE: 0.01 Item: Cheng Shin Ambush C9309 Sport Tire - Rea...\u001b[0m\n",
      "\u001b[93m104: Guess: $849.99 Truth: $632.00 Error: $217.99 SLE: 0.09 Item: HP - Envy x360 2-in-1 15.6\" Touch-Screen...\u001b[0m\n",
      "\u001b[93m105: Guess: $41.97 Truth: $108.79 Error: $66.82 SLE: 0.88 Item: Timber Tuff TMC-02TCFB 2\" Tenon Cutter w...\u001b[0m\n",
      "\u001b[93m106: Guess: $149.99 Truth: $100.93 Error: $49.06 SLE: 0.15 Item: Henn&Hart 65.75 in. Metal Black and Bron...\u001b[0m\n",
      "\u001b[93m107: Guess: $209.00 Truth: $135.89 Error: $73.11 SLE: 0.18 Item: Jabra Engage 50 Wired Headset, Mono – Te...\u001b[0m\n",
      "\u001b[91m108: Guess: $79.99 Truth: $170.82 Error: $90.83 SLE: 0.57 Item: Dell RF012 3110 3115 Toner Cartridge (Cy...\u001b[0m\n",
      "\u001b[91m109: Guess: $114.99 Truth: $379.00 Error: $264.01 SLE: 1.41 Item: Simple Shapes Peony Flower Mural Wall Ar...\u001b[0m\n",
      "\u001b[92m110: Guess: $29.99 Truth: $36.99 Error: $7.00 SLE: 0.04 Item: LOENDE Christmas Lights with Timer Batte...\u001b[0m\n",
      "\u001b[91m111: Guess: $259.99 Truth: $68.11 Error: $191.88 SLE: 1.77 Item: Evan-Fischer Headlight Set Compatible wi...\u001b[0m\n",
      "\u001b[92m112: Guess: $289.99 Truth: $329.03 Error: $39.04 SLE: 0.02 Item: Garage-Pro Rear Step Bumper Compatible w...\u001b[0m\n",
      "\u001b[92m113: Guess: $139.99 Truth: $114.80 Error: $25.19 SLE: 0.04 Item: Torsion Garage Door Springs 250 x 1.75\" ...\u001b[0m\n",
      "\u001b[92m114: Guess: $55.95 Truth: $45.95 Error: $10.00 SLE: 0.04 Item: ColorRite Aerosol for Nissan Altima Auto...\u001b[0m\n",
      "\u001b[91m115: Guess: $189.99 Truth: $37.17 Error: $152.82 SLE: 2.59 Item: IDEAL INDUSTRIES INC. 36-301 TKO 7/8-Inc...\u001b[0m\n",
      "\u001b[92m116: Guess: $249.00 Truth: $249.00 Error: $0.00 SLE: 0.00 Item: Lomography Sidekick Standard Bag (Black)...\u001b[0m\n",
      "\u001b[92m117: Guess: $194.99 Truth: $174.99 Error: $20.00 SLE: 0.01 Item: WERFACTORY Tiffany Floor Lamp Blue Brown...\u001b[0m\n",
      "\u001b[92m118: Guess: $24.99 Truth: $12.19 Error: $12.80 SLE: 0.46 Item: Hasbro Gaming Speak Out Game English for...\u001b[0m\n",
      "\u001b[92m119: Guess: $25.99 Truth: $23.79 Error: $2.20 SLE: 0.01 Item: Red Label Abrasives 5 Inch 120 Grit Gold...\u001b[0m\n",
      "\u001b[93m120: Guess: $189.99 Truth: $263.84 Error: $73.85 SLE: 0.11 Item: Mazda 6 With Fog Lights Projector Headli...\u001b[0m\n",
      "\u001b[93m121: Guess: $599.99 Truth: $995.00 Error: $395.01 SLE: 0.26 Item: Icon Pro Audio QCon Pro XS - 8 Channel E...\u001b[0m\n",
      "\u001b[91m122: Guess: $189.99 Truth: $27.99 Error: $162.00 SLE: 3.55 Item: Dasbecan 8' 55 Pin Touch Screen,Radio Na...\u001b[0m\n",
      "\u001b[93m123: Guess: $120.00 Truth: $42.00 Error: $78.00 SLE: 1.07 Item: HECASA Single-Axle Trailer Fenders 8\"-12...\u001b[0m\n",
      "\u001b[92m124: Guess: $59.99 Truth: $45.99 Error: $14.00 SLE: 0.07 Item: Electronic Drum Set, Roll Up Drum Practi...\u001b[0m\n",
      "\u001b[92m125: Guess: $139.98 Truth: $174.98 Error: $35.00 SLE: 0.05 Item: (2) Odyssey BRLSPKLG Redline Large Speak...\u001b[0m\n",
      "\u001b[93m126: Guess: $29.99 Truth: $72.99 Error: $43.00 SLE: 0.76 Item: Coco Learns Spanish Bundle Deal | Musica...\u001b[0m\n",
      "\u001b[93m127: Guess: $138.23 Truth: $93.26 Error: $44.97 SLE: 0.15 Item: DB Electrical ADR0215 Alternator Compati...\u001b[0m\n",
      "\u001b[92m128: Guess: $11.00 Truth: $35.47 Error: $24.47 SLE: 1.24 Item: Let's Celebrate! Sheet of 20 Forever Fir...\u001b[0m\n",
      "\u001b[92m129: Guess: $799.99 Truth: $703.94 Error: $96.05 SLE: 0.02 Item: Liberty Furniture INDUSTRIES Magnolia Ma...\u001b[0m\n",
      "\u001b[92m130: Guess: $439.00 Truth: $479.99 Error: $40.99 SLE: 0.01 Item: Joying 9 Inch Car Multimedia Android 10 ...\u001b[0m\n",
      "\u001b[91m131: Guess: $1,199.00 Truth: $674.95 Error: $524.05 SLE: 0.33 Item: SuperATV EZ-STEER Power Steering Kit for...\u001b[0m\n",
      "\u001b[92m132: Guess: $129.99 Truth: $109.59 Error: $20.40 SLE: 0.03 Item: Knew Concepts 8\" Mk.IV Heavy Duty Hand S...\u001b[0m\n",
      "\u001b[93m133: Guess: $473.99 Truth: $391.99 Error: $82.00 SLE: 0.04 Item: Kolpin UTV Windshield - Full-TILT - Pola...\u001b[0m\n",
      "\u001b[92m134: Guess: $99.99 Truth: $102.57 Error: $2.58 SLE: 0.00 Item: Pyle Professional DJ Audio Mixer Control...\u001b[0m\n",
      "\u001b[92m135: Guess: $599.00 Truth: $586.16 Error: $12.84 SLE: 0.00 Item: DEWALT Miter Saw, 12 Inch, 15 Amp, 3,800...\u001b[0m\n",
      "\u001b[92m136: Guess: $89.99 Truth: $54.99 Error: $35.00 SLE: 0.24 Item: 2 Pairs of JVC CS-DF620 6 1/2\" drvn DF S...\u001b[0m\n",
      "\u001b[92m137: Guess: $36.99 Truth: $10.99 Error: $26.00 SLE: 1.33 Item: 3-Piece Set, Masking Tape Protective Pap...\u001b[0m\n",
      "\u001b[92m138: Guess: $101.88 Truth: $80.88 Error: $21.00 SLE: 0.05 Item: DPI 2692 Factory Style 1-Row Cooling Rad...\u001b[0m\n",
      "\u001b[92m139: Guess: $45.99 Truth: $73.50 Error: $27.51 SLE: 0.21 Item: Astro 1034 180-Degree Swivel Tamper Torx...\u001b[0m\n",
      "\u001b[92m140: Guess: $194.30 Truth: $182.58 Error: $11.72 SLE: 0.00 Item: Detroit Axle - Front & Rear Disc Rotors ...\u001b[0m\n",
      "\u001b[91m141: Guess: $342.00 Truth: $200.81 Error: $141.19 SLE: 0.28 Item: Franke EVSCG801-18 Sink, 8-Inch, Stainle...\u001b[0m\n",
      "\u001b[92m142: Guess: $200.00 Truth: $246.70 Error: $46.70 SLE: 0.04 Item: Fujitsu ScanSnap iX100 Wireless Mobile P...\u001b[0m\n",
      "\u001b[93m143: Guess: $398.99 Truth: $298.45 Error: $100.54 SLE: 0.08 Item: Walker Exhaust CalCat Carb 81817 Univers...\u001b[0m\n",
      "\u001b[92m144: Guess: $699.00 Truth: $699.00 Error: $0.00 SLE: 0.00 Item: Lotus Smart Bidet ATS-2000 Premier Class...\u001b[0m\n",
      "\u001b[91m145: Guess: $299.99 Truth: $159.00 Error: $140.99 SLE: 0.40 Item: Broan-NuTone AR110LKVV SurfaceShield Vit...\u001b[0m\n",
      "\u001b[91m146: Guess: $59.99 Truth: $198.85 Error: $138.86 SLE: 1.41 Item: Trebisky Wireless Buzzer System for Game...\u001b[0m\n",
      "\u001b[92m147: Guess: $129.00 Truth: $119.00 Error: $10.00 SLE: 0.01 Item: Linsoul WGZBLON B50 50mm Composite Diaph...\u001b[0m\n",
      "\u001b[92m148: Guess: $209.99 Truth: $174.26 Error: $35.73 SLE: 0.03 Item: Callahan CDS04726 FRONT 256mm + REAR 257...\u001b[0m\n",
      "\u001b[93m149: Guess: $228.75 Truth: $360.65 Error: $131.90 SLE: 0.21 Item: Spectra Premium CF23056 Dual Fan Assembl...\u001b[0m\n",
      "\u001b[92m150: Guess: $249.99 Truth: $309.99 Error: $60.00 SLE: 0.05 Item: Unihertz Atom XL, The Smallest DMR Walki...\u001b[0m\n",
      "\u001b[93m151: Guess: $1,149.00 Truth: $929.00 Error: $220.00 SLE: 0.05 Item: ARIEL 42\" inch Espresso Bathroom Vanity ...\u001b[0m\n",
      "\u001b[91m152: Guess: $195.78 Truth: $504.99 Error: $309.21 SLE: 0.89 Item: AM Autoparts Headlight Assembly Compatib...\u001b[0m\n",
      "\u001b[93m153: Guess: $199.99 Truth: $128.31 Error: $71.68 SLE: 0.19 Item: Splitdeck 4K 8-port HDMI 2.0 Splitter by...\u001b[0m\n",
      "\u001b[91m154: Guess: $129.99 Truth: $376.00 Error: $246.01 SLE: 1.12 Item: RBP RBP-757109-SS Red/Black Stainless Ba...\u001b[0m\n",
      "\u001b[93m155: Guess: $199.99 Truth: $139.00 Error: $60.99 SLE: 0.13 Item: 2.2X High Definition Telephoto Lens Comp...\u001b[0m\n",
      "\u001b[93m156: Guess: $95.00 Truth: $137.18 Error: $42.18 SLE: 0.13 Item: Goodyear 3125 Serpentine Belt Drive Comp...\u001b[0m\n",
      "\u001b[92m157: Guess: $99.99 Truth: $99.95 Error: $0.04 SLE: 0.00 Item: Alpine eX-10 - Bluetooth hands-free car ...\u001b[0m\n",
      "\u001b[92m158: Guess: $149.99 Truth: $150.94 Error: $0.95 SLE: 0.00 Item: Omix | 18887.03 | Transmission Bearing R...\u001b[0m\n",
      "\u001b[92m159: Guess: $99.99 Truth: $71.49 Error: $28.50 SLE: 0.11 Item: intel Core i7-4790 Processor - BX80646I7...\u001b[0m\n",
      "\u001b[92m160: Guess: $42.99 Truth: $35.33 Error: $7.66 SLE: 0.04 Item: DUDUBUY Gear Shift Cable for Arctic Cat ...\u001b[0m\n",
      "\u001b[92m161: Guess: $59.99 Truth: $31.99 Error: $28.00 SLE: 0.38 Item: ProCase Keyboard Case for Lenovo Tab P11...\u001b[0m\n",
      "\u001b[93m162: Guess: $114.99 Truth: $177.80 Error: $62.81 SLE: 0.19 Item: Ginger Cayden 24\" Tempered Glass Shelf -...\u001b[0m\n",
      "\u001b[93m163: Guess: $180.50 Truth: $282.43 Error: $101.93 SLE: 0.20 Item: Garage-Pro Headlight Compatible with 200...\u001b[0m\n",
      "\u001b[93m164: Guess: $199.99 Truth: $319.99 Error: $120.00 SLE: 0.22 Item: Carson 3D Series 8x32mm High Definition ...\u001b[0m\n",
      "\u001b[91m165: Guess: $114.99 Truth: $345.99 Error: $231.00 SLE: 1.20 Item: WARN 88140 Winch Mounting Plate, Fits: J...\u001b[0m\n",
      "\u001b[92m166: Guess: $191.83 Truth: $187.18 Error: $4.65 SLE: 0.00 Item: SMARTLINER Custom Fit Floor Mats 3 Row L...\u001b[0m\n",
      "\u001b[91m167: Guess: $330.00 Truth: $148.16 Error: $181.84 SLE: 0.64 Item: Eibach PRO-KIT Lowering Hardware Kit 381...\u001b[0m\n",
      "\u001b[92m168: Guess: $399.00 Truth: $355.00 Error: $44.00 SLE: 0.01 Item: Homecart 24\" White Laundry Utility Cabin...\u001b[0m\n",
      "\u001b[92m169: Guess: $79.99 Truth: $73.99 Error: $6.00 SLE: 0.01 Item: Derengge 223-QF-MT 8 Inch 2 Handle Wides...\u001b[0m\n",
      "\u001b[92m170: Guess: $89.99 Truth: $63.99 Error: $26.00 SLE: 0.11 Item: GPC Image Compatible Toner Cartridge Rep...\u001b[0m\n",
      "\u001b[91m171: Guess: $149.99 Truth: $347.41 Error: $197.42 SLE: 0.70 Item: For Porsche 911 1994 1995 1996 1997 New ...\u001b[0m\n",
      "\u001b[91m172: Guess: $45.99 Truth: $209.99 Error: $164.00 SLE: 2.26 Item: NIUYAO Vivid Bird Wall Lamp, Retro Antiq...\u001b[0m\n",
      "\u001b[92m173: Guess: $150.00 Truth: $126.23 Error: $23.77 SLE: 0.03 Item: NOVA 48286 G3 Lite Wood Turning Chuck wi...\u001b[0m\n",
      "\u001b[92m174: Guess: $294.72 Truth: $320.63 Error: $25.91 SLE: 0.01 Item: Athena (P400270870054) Complete Gasket K...\u001b[0m\n",
      "\u001b[92m175: Guess: $179.99 Truth: $166.99 Error: $13.00 SLE: 0.01 Item: WERFACTORY Tiffany Floor Lamp Cream Ambe...\u001b[0m\n",
      "\u001b[92m176: Guess: $45.99 Truth: $34.95 Error: $11.04 SLE: 0.07 Item: PARRIS CLASSIC QUALITY TOYS EST. 1936 We...\u001b[0m\n",
      "\u001b[93m177: Guess: $150.00 Truth: $199.00 Error: $49.00 SLE: 0.08 Item: Cisco CISCO871-SEC-K9 871 Integrated Ser...\u001b[0m\n",
      "\u001b[92m178: Guess: $699.00 Truth: $626.00 Error: $73.00 SLE: 0.01 Item: Bose Lifestyle 18 DVD Home Entertainment...\u001b[0m\n",
      "\u001b[93m179: Guess: $178.99 Truth: $224.99 Error: $46.00 SLE: 0.05 Item: DMT Stainless Wall Shelf. 60\" X 8\" Deep....\u001b[0m\n",
      "\u001b[91m180: Guess: $139.99 Truth: $240.32 Error: $100.33 SLE: 0.29 Item: DNA Motoring GRLDBEN-CSIL14-BK ABS Plast...\u001b[0m\n",
      "\u001b[92m181: Guess: $399.99 Truth: $405.99 Error: $6.00 SLE: 0.00 Item: Zorvo Laminating Machine 18 inch Film Co...\u001b[0m\n",
      "\u001b[93m182: Guess: $85.99 Truth: $143.01 Error: $57.02 SLE: 0.25 Item: Tabbies Shipping & Handling Labels White...\u001b[0m\n",
      "\u001b[93m183: Guess: $79.99 Truth: $155.85 Error: $75.86 SLE: 0.44 Item: Digital IO Board V1.2 DE10 Nano USB Hub ...\u001b[0m\n",
      "\u001b[92m184: Guess: $99.99 Truth: $124.95 Error: $24.96 SLE: 0.05 Item: Rockville RockPAR TRI LED RGB Compact Pa...\u001b[0m\n",
      "\u001b[92m185: Guess: $75.99 Truth: $76.92 Error: $0.93 SLE: 0.00 Item: Filterbuy 20x21x1 Air Filter MERV 8 Dust...\u001b[0m\n",
      "\u001b[92m186: Guess: $247.46 Truth: $256.09 Error: $8.63 SLE: 0.00 Item: Pump Mtr, Split Ph, 1/2hp, 1725, 115/230...\u001b[0m\n",
      "\u001b[92m187: Guess: $369.99 Truth: $369.99 Error: $0.00 SLE: 0.00 Item: Custom Coat Mesa Gray 2 Gallon (8 Quart)...\u001b[0m\n",
      "\u001b[92m188: Guess: $299.00 Truth: $369.99 Error: $70.99 SLE: 0.05 Item: Nouhaus Ergo3D Ergonomic Office Chair - ...\u001b[0m\n",
      "\u001b[91m189: Guess: $499.00 Truth: $287.40 Error: $211.60 SLE: 0.30 Item: APC NetShelter SX Roof Fan Tray\u001b[0m\n",
      "\u001b[93m190: Guess: $189.99 Truth: $287.99 Error: $98.00 SLE: 0.17 Item: PTM 40'X40' Extra Heavy Duty White Tarp\u001b[0m\n",
      "\u001b[92m191: Guess: $51.99 Truth: $86.98 Error: $34.99 SLE: 0.26 Item: K&N Engine Air Filter: Reusable, Clean E...\u001b[0m\n",
      "\u001b[91m192: Guess: $139.99 Truth: $311.10 Error: $171.11 SLE: 0.63 Item: Stromberg Carlson EHS-102-R Second Step ...\u001b[0m\n",
      "\u001b[92m193: Guess: $427.99 Truth: $424.14 Error: $3.85 SLE: 0.00 Item: Power Stop K2371-26 Front and Rear Z26 C...\u001b[0m\n",
      "\u001b[92m194: Guess: $149.99 Truth: $153.99 Error: $4.00 SLE: 0.00 Item: Renovators Supply Manufacturing Alexande...\u001b[0m\n",
      "\u001b[93m195: Guess: $109.99 Truth: $52.95 Error: $57.04 SLE: 0.52 Item: VCT 10PC 3/8\" DRIVE UNIVERSAL DEEP IMPAC...\u001b[0m\n",
      "\u001b[92m196: Guess: $165.99 Truth: $181.98 Error: $15.99 SLE: 0.01 Item: Lisle 18000 Universal Camshaft Bearing T...\u001b[0m\n",
      "\u001b[92m197: Guess: $12.99 Truth: $8.99 Error: $4.00 SLE: 0.11 Item: uxcell RP-SMA Male to N Type Female Conn...\u001b[0m\n",
      "\u001b[92m198: Guess: $179.99 Truth: $150.98 Error: $29.01 SLE: 0.03 Item: Power Stop Rear S4858 Pair of High-Temp ...\u001b[0m\n",
      "\u001b[92m199: Guess: $109.99 Truth: $112.99 Error: $3.00 SLE: 0.00 Item: SilverStone Technology 500W SFX-L Form F...\u001b[0m\n",
      "\u001b[91m200: Guess: $149.99 Truth: $269.99 Error: $120.00 SLE: 0.34 Item: MEIXISUE Large Modern Farmhouse Chandeli...\u001b[0m\n",
      "\u001b[92m201: Guess: $257.99 Truth: $273.37 Error: $15.38 SLE: 0.00 Item: Gerber D304118BS Widespread Faucet, Sati...\u001b[0m\n",
      "\u001b[92m202: Guess: $124.99 Truth: $158.00 Error: $33.01 SLE: 0.05 Item: Tenedos Square Iridescent Recycled Glass...\u001b[0m\n",
      "\u001b[92m203: Guess: $157.99 Truth: $157.99 Error: $0.00 SLE: 0.00 Item: A-Premium Pair (2) Front CV Axle Shaft A...\u001b[0m\n",
      "\u001b[91m204: Guess: $209.21 Truth: $113.59 Error: $95.62 SLE: 0.37 Item: Cardone 60-9313 Remanufactured CV Consta...\u001b[0m\n",
      "\u001b[93m205: Guess: $99.99 Truth: $146.99 Error: $47.00 SLE: 0.15 Item: Roland TDM25 Non-Slip Drum Rug, 77\" x 63...\u001b[0m\n",
      "\u001b[93m206: Guess: $899.00 Truth: $679.00 Error: $220.00 SLE: 0.08 Item: ThnkSystem Lenovo ThinkSystem ST50 7Y49A...\u001b[0m\n",
      "\u001b[92m207: Guess: $239.99 Truth: $201.46 Error: $38.53 SLE: 0.03 Item: ACDelco Gold MU2300 Fuel Tank Fuel Pump ...\u001b[0m\n",
      "\u001b[92m208: Guess: $47.99 Truth: $42.68 Error: $5.31 SLE: 0.01 Item: Protecto Wrap 4In Flash Bt25-Xl 75' Tape...\u001b[0m\n",
      "\u001b[91m209: Guess: $489.95 Truth: $343.12 Error: $146.83 SLE: 0.13 Item: A.O. Smith C313 1 HP, 1725 RPM, 1 Speed,...\u001b[0m\n",
      "\u001b[92m210: Guess: $207.90 Truth: $217.90 Error: $10.00 SLE: 0.00 Item: WeatherTech Custom Fit FloorLiners for A...\u001b[0m\n",
      "\u001b[93m211: Guess: $160.99 Truth: $112.32 Error: $48.67 SLE: 0.13 Item: StarTech.com 2 Port HDMI KVM Switch - 4K...\u001b[0m\n",
      "\u001b[93m212: Guess: $49.99 Truth: $94.99 Error: $45.00 SLE: 0.40 Item: Microsoft Wireless Presenter 3000 Gray\u001b[0m\n",
      "\u001b[92m213: Guess: $45.99 Truth: $27.44 Error: $18.55 SLE: 0.25 Item: Goodyear Belts 1070683 Serpentine Belt, ...\u001b[0m\n",
      "\u001b[92m214: Guess: $90.00 Truth: $72.00 Error: $18.00 SLE: 0.05 Item: Larsen Tzigane 4/4 Violin String Set - M...\u001b[0m\n",
      "\u001b[92m215: Guess: $499.00 Truth: $449.99 Error: $49.01 SLE: 0.01 Item: HP 2021 Newest 15z-ef100 15.6\" HD Laptop...\u001b[0m\n",
      "\u001b[92m216: Guess: $29.99 Truth: $43.99 Error: $14.00 SLE: 0.14 Item: Sruix LED Alphabet Combine Letter Light ...\u001b[0m\n",
      "\u001b[93m217: Guess: $244.99 Truth: $175.41 Error: $69.58 SLE: 0.11 Item: Tusk Removable Full Windshield Clear - S...\u001b[0m\n",
      "\u001b[92m218: Guess: $24.99 Truth: $21.45 Error: $3.54 SLE: 0.02 Item: Heavy Duty Professional Knee Pads With M...\u001b[0m\n",
      "\u001b[91m219: Guess: $149.99 Truth: $279.95 Error: $129.96 SLE: 0.39 Item: MPC 4-Button Remote Starter for 2011-201...\u001b[0m\n",
      "\u001b[91m220: Guess: $499.99 Truth: $274.97 Error: $225.02 SLE: 0.36 Item: Visionis FPC-6130 Two Doors Access Contr...\u001b[0m\n",
      "\u001b[93m221: Guess: $29.99 Truth: $109.76 Error: $79.77 SLE: 1.62 Item: Thomas & Betts TY5277M Cable Tie, Nylon,...\u001b[0m\n",
      "\u001b[92m222: Guess: $105.89 Truth: $131.59 Error: $25.70 SLE: 0.05 Item: DB Electrical AND0272 Alternator for 5.9...\u001b[0m\n",
      "\u001b[92m223: Guess: $192.45 Truth: $224.95 Error: $32.50 SLE: 0.02 Item: Audio-Technica Wireless Microphone Syste...\u001b[0m\n",
      "\u001b[92m224: Guess: $159.99 Truth: $138.00 Error: $21.99 SLE: 0.02 Item: Stehlen 714937188365 Compatible with 200...\u001b[0m\n",
      "\u001b[93m225: Guess: $432.50 Truth: $550.00 Error: $117.50 SLE: 0.06 Item: Black Horse Grille Guard Modular Black C...\u001b[0m\n",
      "\u001b[93m226: Guess: $198.00 Truth: $252.00 Error: $54.00 SLE: 0.06 Item: B + W 67mm XS-Pro Vario Neutral Density ...\u001b[0m\n",
      "\u001b[92m227: Guess: $244.33 Truth: $244.33 Error: $0.00 SLE: 0.00 Item: Dynatek 2000i Ignition D2KI-1P\u001b[0m\n",
      "\u001b[93m228: Guess: $469.99 Truth: $345.01 Error: $124.98 SLE: 0.10 Item: Covercraft Custom Fit Vehicle Cover for ...\u001b[0m\n",
      "\u001b[91m229: Guess: $189.99 Truth: $59.00 Error: $130.99 SLE: 1.34 Item: Front Upper Lower Grille Matte Black For...\u001b[0m\n",
      "\u001b[92m230: Guess: $236.99 Truth: $232.99 Error: $4.00 SLE: 0.00 Item: CURT 121653 Class 2 Trailer Hitch with B...\u001b[0m\n",
      "\u001b[92m231: Guess: $168.99 Truth: $187.05 Error: $18.06 SLE: 0.01 Item: BFGoodrich Long Trail T/A Tour All-Seaso...\u001b[0m\n",
      "\u001b[92m232: Guess: $88.45 Truth: $77.79 Error: $10.66 SLE: 0.02 Item: Tempo Communications NC-100 Professional...\u001b[0m\n",
      "\u001b[92m233: Guess: $12.99 Truth: $4.99 Error: $8.00 SLE: 0.72 Item: FirefixTM New Ringer Ringtone Loud Speak...\u001b[0m\n",
      "\u001b[91m234: Guess: $114.99 Truth: $214.95 Error: $99.96 SLE: 0.39 Item: Powerhobby 4s 8000MAH 100C 14.8V Lipo Ba...\u001b[0m\n",
      "\u001b[92m235: Guess: $68.99 Truth: $65.99 Error: $3.00 SLE: 0.00 Item: NIUYAO Lighting Vintage Industrial Pipe ...\u001b[0m\n",
      "\u001b[92m236: Guess: $640.00 Truth: $640.00 Error: $0.00 SLE: 0.00 Item: Mustang Smooth One-Piece Touring Seat fo...\u001b[0m\n",
      "\u001b[92m237: Guess: $62.50 Truth: $64.50 Error: $2.00 SLE: 0.00 Item: CIVIVI Sinisys Pocket Knife for EDC, Lig...\u001b[0m\n",
      "\u001b[93m238: Guess: $29.99 Truth: $85.90 Error: $55.91 SLE: 1.06 Item: Gas Leak Detector for Home Natural Gas P...\u001b[0m\n",
      "\u001b[92m239: Guess: $199.99 Truth: $167.24 Error: $32.75 SLE: 0.03 Item: Binding Machine for Office - Fellowes 4 ...\u001b[0m\n",
      "\u001b[92m240: Guess: $174.95 Truth: $191.95 Error: $17.00 SLE: 0.01 Item: Spec-D Tuning Black Housing Smoke Lens H...\u001b[0m\n",
      "\u001b[92m241: Guess: $269.99 Truth: $269.99 Error: $0.00 SLE: 0.00 Item: TOTALLY COVERS Compatible with 2008-2012...\u001b[0m\n",
      "\u001b[92m242: Guess: $99.99 Truth: $104.44 Error: $4.45 SLE: 0.00 Item: Premium American Brand | Ancient Neon “B...\u001b[0m\n",
      "\u001b[92m243: Guess: $127.66 Truth: $117.66 Error: $10.00 SLE: 0.01 Item: Detroit Axle- Front Wheel Hub and Bearin...\u001b[0m\n",
      "\u001b[91m244: Guess: $299.99 Truth: $549.95 Error: $249.96 SLE: 0.37 Item: MTX Polaris RZR Remote Control Bluetooth...\u001b[0m\n",
      "\u001b[92m245: Guess: $59.99 Truth: $44.06 Error: $15.93 SLE: 0.09 Item: BOSCH BC966 QuietCast Premium Ceramic Di...\u001b[0m\n",
      "\u001b[91m246: Guess: $17.99 Truth: $100.00 Error: $82.01 SLE: 2.79 Item: Gamma Seal Lid, Assorted Colors, - New! ...\u001b[0m\n",
      "\u001b[93m247: Guess: $559.99 Truth: $439.99 Error: $120.00 SLE: 0.06 Item: SLP Performance Parts M31014 Loud Mouth ...\u001b[0m\n",
      "\u001b[92m248: Guess: $249.99 Truth: $287.06 Error: $37.07 SLE: 0.02 Item: RCF N850 Vehicle Speaker, Black\u001b[0m\n",
      "\u001b[93m249: Guess: $121.99 Truth: $57.93 Error: $64.06 SLE: 0.54 Item: Quest Manufacturing Hinged Wall Mount Br...\u001b[0m\n",
      "\u001b[91m250: Guess: $419.00 Truth: $280.80 Error: $138.20 SLE: 0.16 Item: Hudson Valley Lighting 1173-SN Kirkland ...\u001b[0m\n"
     ]
    },
    {
     "data": {
      "image/png": "[encoded data removed]",
      "text/plain": [
       "<Figure size 1200x800 with 1 Axes>"
      ]
     },
     "metadata": {},
     "output_type": "display_data"
    }
   ],
   "source": [
    "Tester.test(gpt_4o_mini_rag, test)"
   ]
  },
  {
   "cell_type": "code",
   "execution_count": 31,
   "id": "9e7ff362-b722-49e9-99a9-46b0a89b4b75",
   "metadata": {},
   "outputs": [],
   "source": [
    "from agents.frontier_agent import FrontierAgent"
   ]
  },
  {
   "cell_type": "code",
   "execution_count": 32,
   "id": "d8f5af3f-0906-4c49-8751-81292d043924",
   "metadata": {},
   "outputs": [],
   "source": [
    "agent = FrontierAgent(collection)"
   ]
  },
  {
   "cell_type": "code",
   "execution_count": 33,
   "id": "0c3d9d2b-7c76-4878-b9b8-5ddf4385ec6b",
   "metadata": {},
   "outputs": [
    {
     "data": {
      "text/plain": [
       "154.59"
      ]
     },
     "execution_count": 33,
     "metadata": {},
     "output_type": "execute_result"
    }
   ],
   "source": [
    "agent.price(\"Quadcast HyperX condenser mic for high quality podcasting\")"
   ]
  },
  {
   "cell_type": "code",
   "execution_count": 34,
   "id": "d9d8e5aa-3747-4c51-b1f4-a49f9f5396dc",
   "metadata": {},
   "outputs": [],
   "source": [
    "from agents.specialist_agent import SpecialistAgent"
   ]
  },
  {
   "cell_type": "code",
   "execution_count": 35,
   "id": "d0911571-a173-4d9f-8b7e-a8481f2c53bc",
   "metadata": {},
   "outputs": [],
   "source": [
    "agent2 = SpecialistAgent()"
   ]
  },
  {
   "cell_type": "code",
   "execution_count": 36,
   "id": "01a57a4b-e996-434e-ba32-2f35f68677f9",
   "metadata": {},
   "outputs": [
    {
     "data": {
      "text/plain": [
       "189.0"
      ]
     },
     "execution_count": 36,
     "metadata": {},
     "output_type": "execute_result"
    }
   ],
   "source": [
    "agent2.price(\"Quadcast HyperX condenser mic for high quality podcasting\")"
   ]
  },
  {
   "cell_type": "code",
   "execution_count": null,
   "id": "e37bb804-d879-493e-a5a6-309691069a87",
   "metadata": {},
   "outputs": [],
   "source": []
  }
 ],
 "metadata": {
  "kernelspec": {
   "display_name": "Python 3 (ipykernel)",
   "language": "python",
   "name": "python3"
  },
  "language_info": {
   "codemirror_mode": {
    "name": "ipython",
    "version": 3
   },
   "file_extension": ".py",
   "mimetype": "text/x-python",
   "name": "python",
   "nbconvert_exporter": "python",
   "pygments_lexer": "ipython3",
   "version": "3.11.10"
  }
 },
 "nbformat": 4,
 "nbformat_minor": 5
}

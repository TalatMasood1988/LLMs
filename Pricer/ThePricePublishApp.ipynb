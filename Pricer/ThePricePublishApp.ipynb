{
 "cells": [
  {
   "cell_type": "code",
   "execution_count": 1,
   "id": "738816c1-20a6-4d03-a33a-49093c28dcbd",
   "metadata": {},
   "outputs": [],
   "source": [
    "import modal\n",
    "import os\n",
    "os.environ['PYTHONIOENCODING'] = 'utf-8'\n",
    "os.environ[\"MODAL_TOKEN_ID\"] = \"ak-CgFPLvQE2NDQiMQJW9Disl\"\n",
    "os.environ[\"MODAL_TOKEN_SECRET\"] = \"as-gj7xpsqMLWsinoAnEfxQVf\"\n",
    "os.environ[\"MODAL_ACTIVE\"] = \"true\""
   ]
  },
  {
   "cell_type": "code",
   "execution_count": 2,
   "id": "5dfa102c-88ad-47b7-8939-183eaacf554d",
   "metadata": {},
   "outputs": [
    {
     "name": "stdout",
     "output_type": "stream",
     "text": [
      "Test1\n"
     ]
    }
   ],
   "source": [
    "print(\"Test1\")"
   ]
  },
  {
   "cell_type": "code",
   "execution_count": 6,
   "id": "68527e55-4184-4752-8b33-26243e127829",
   "metadata": {},
   "outputs": [
    {
     "name": "stdout",
     "output_type": "stream",
     "text": [
      "â ‹ Waiting for authentication in the web browser\n",
      "The web browser should have opened for you to authenticate and get an API \n",
      "token.\n",
      "If it didn't, please copy this URL into your web browser manually:\n",
      "\n",
      "â ‹ Waiting for authentication in the web browser\n",
      "https://modal.com/token-flow/tf-5iFRkayGpDtDrZKdJUmIK1\n",
      "\n",
      "â ‹ Waiting for authentication in the web browser\n",
      "â ‹ Waiting for authentication in the web browser\n",
      "\n",
      "â ‹ Waiting for token flow to complete...\n",
      "â ™ Waiting for token flow to complete...\n",
      "â ¹ Waiting for token flow to complete...\n",
      "â ¸ Waiting for token flow to complete...\n",
      "â ¼ Waiting for token flow to complete...\n",
      "â ´ Waiting for token flow to complete...\n",
      "â ¦ Waiting for token flow to complete...\n",
      "â § Waiting for token flow to complete...\n",
      "â ‡ Waiting for token flow to complete...\n",
      "â ‹ Waiting for token flow to complete...\n",
      "â ™ Waiting for token flow to complete...\n",
      "â ¹ Waiting for token flow to complete...\n",
      "â ¸ Waiting for token flow to complete...\n",
      "â ¼ Waiting for token flow to complete...\n",
      "â ´ Waiting for token flow to complete...\n",
      "â ¦ Waiting for token flow to complete...\n",
      "â ‡ Waiting for token flow to complete...\n",
      "â � Waiting for token flow to complete...\n",
      "â ‹ Waiting for token flow to complete...\n",
      "â ™ Waiting for token flow to complete...\n",
      "â ¹ Waiting for token flow to complete...\n",
      "â ¼ Waiting for token flow to complete...\n",
      "â ´ Waiting for token flow to complete...\n",
      "â ¦ Waiting for token flow to complete...\n",
      "â § Waiting for token flow to complete...\n",
      "â ‡ Waiting for token flow to complete...\n",
      "â � Waiting for token flow to complete...\n",
      "â ‹ Waiting for token flow to complete...\n",
      "â ™ Waiting for token flow to complete...\n",
      "â ¹ Waiting for token flow to complete...\n",
      "â ¸ Waiting for token flow to complete...\n",
      "â ¼ Waiting for token flow to complete...\n",
      "â ´ Waiting for token flow to complete...\n",
      "â ¦ Waiting for token flow to complete...\n",
      "â § Waiting for token flow to complete...\n",
      "â � Waiting for token flow to complete...\n",
      "â ‹ Waiting for token flow to complete...\n",
      "â ™ Waiting for token flow to complete...\n",
      "â ¹ Waiting for token flow to complete...\n",
      "â ¸ Waiting for token flow to complete...\n",
      "â ¼ Waiting for token flow to complete...\n",
      "â ¦ Waiting for token flow to complete...\n",
      "â § Waiting for token flow to complete...\n",
      "â ‡ Waiting for token flow to complete...\n",
      "â � Waiting for token flow to complete...\n",
      "â ‹ Waiting for token flow to complete...\n",
      "â ™ Waiting for token flow to complete...\n",
      "â ¹ Waiting for token flow to complete...\n",
      "â ¼ Waiting for token flow to complete...\n",
      "â ´ Waiting for token flow to complete...\n",
      "â ¦ Waiting for token flow to complete...\n",
      "â § Waiting for token flow to complete...\n",
      "â ‡ Waiting for token flow to complete...\n",
      "â � Waiting for token flow to complete...\n",
      "â ™ Waiting for token flow to complete...\n",
      "â ¹ Waiting for token flow to complete...\n",
      "â ¸ Waiting for token flow to complete...\n",
      "â ¼ Waiting for token flow to complete...\n",
      "â ´ Waiting for token flow to complete...\n",
      "â ¦ Waiting for token flow to complete...\n",
      "â ‡ Waiting for token flow to complete...\n",
      "â � Waiting for token flow to complete...\n",
      "â ‹ Waiting for token flow to complete...\n",
      "â ™ Waiting for token flow to complete...\n",
      "â ¹ Waiting for token flow to complete...\n",
      "â ¼ Waiting for token flow to complete...\n",
      "â ¼ Waiting for token flow to complete...\n",
      "\n",
      "Web authentication finished successfully!\n",
      "Token is connected to the talatmasood1988 workspace.\n",
      "Verifying token against https://api.modal.com\n",
      "Token verified successfully!\n",
      "â ‹ Storing token\n",
      "\n",
      "Token written to C:\\Users\\QIRAT/.modal.toml in profile talatmasood1988.\n"
     ]
    }
   ],
   "source": [
    "#!modal setup"
   ]
  },
  {
   "cell_type": "code",
   "execution_count": 3,
   "id": "4e44684d-9eae-48c5-a0ea-93ac102be260",
   "metadata": {},
   "outputs": [],
   "source": [
    "from hello import app, hello\n",
    "\n"
   ]
  },
  {
   "cell_type": "code",
   "execution_count": 4,
   "id": "6b3b3ed9-6d01-4606-87f0-d5775d83e7c1",
   "metadata": {},
   "outputs": [
    {
     "data": {
      "text/plain": [
       "'Hello from Dubai, Dubai, AE!!'"
      ]
     },
     "execution_count": 4,
     "metadata": {},
     "output_type": "execute_result"
    }
   ],
   "source": [
    "with app.run(show_progress=False):\n",
    "    reply=hello.local()\n",
    "reply"
   ]
  },
  {
   "cell_type": "code",
   "execution_count": 5,
   "id": "c1c69782-a848-4f99-8c37-76ccd5e29b96",
   "metadata": {},
   "outputs": [
    {
     "data": {
      "text/plain": [
       "'Hello from Columbus, Ohio, US!!'"
      ]
     },
     "execution_count": 5,
     "metadata": {},
     "output_type": "execute_result"
    }
   ],
   "source": [
    "with app.run(show_progress=False):\n",
    "    reply=hello.remote()\n",
    "reply"
   ]
  },
  {
   "cell_type": "markdown",
   "id": "9970691a-3297-4096-b452-03f5ec3a25f2",
   "metadata": {},
   "source": [
    "# First set HuggingFace Token as a secret in Modal"
   ]
  },
  {
   "cell_type": "code",
   "execution_count": 66,
   "id": "a4fd2633-7324-4d56-a4b2-d17be7425d3d",
   "metadata": {},
   "outputs": [],
   "source": [
    "# from llama import app, generate"
   ]
  },
  {
   "cell_type": "code",
   "execution_count": 31,
   "id": "313573ee-59d6-475e-b2b3-67a533624f9a",
   "metadata": {},
   "outputs": [
    {
     "data": {
      "application/vnd.jupyter.widget-view+json": {
       "model_id": "",
       "version_major": 2,
       "version_minor": 0
      },
      "text/plain": [
       "Output()"
      ]
     },
     "metadata": {},
     "output_type": "display_data"
    },
    {
     "data": {
      "text/html": [
       "<pre style=\"white-space:pre;overflow-x:auto;line-height:normal;font-family:Menlo,'DejaVu Sans Mono',consolas,'Courier New',monospace\"><span style=\"color: #008000; text-decoration-color: #008000\">✓</span> Initialized. <span style=\"color: #b2b2b2; text-decoration-color: #b2b2b2\">View run at </span><span style=\"color: #b2b2b2; text-decoration-color: #b2b2b2; text-decoration: underline\">https://modal.com/apps/talatmasood1988/main/ap-NjN7djKQ8KtmPQUkwi8gvB</span>\n",
       "</pre>\n"
      ],
      "text/plain": [
       "\u001b[32m✓\u001b[0m Initialized. \u001b[38;5;249mView run at \u001b[0m\u001b[4;38;5;249mhttps://modal.com/apps/talatmasood1988/main/ap-NjN7djKQ8KtmPQUkwi8gvB\u001b[0m\n"
      ]
     },
     "metadata": {},
     "output_type": "display_data"
    },
    {
     "data": {
      "text/html": [
       "<pre style=\"white-space:pre;overflow-x:auto;line-height:normal;font-family:Menlo,'DejaVu Sans Mono',consolas,'Courier New',monospace\"></pre>\n"
      ],
      "text/plain": []
     },
     "metadata": {},
     "output_type": "display_data"
    },
    {
     "data": {
      "application/vnd.jupyter.widget-view+json": {
       "model_id": "",
       "version_major": 2,
       "version_minor": 0
      },
      "text/plain": [
       "Output()"
      ]
     },
     "metadata": {},
     "output_type": "display_data"
    },
    {
     "data": {
      "text/html": [
       "<pre style=\"white-space:pre;overflow-x:auto;line-height:normal;font-family:Menlo,'DejaVu Sans Mono',consolas,'Courier New',monospace\"></pre>\n"
      ],
      "text/plain": []
     },
     "metadata": {},
     "output_type": "display_data"
    },
    {
     "data": {
      "text/html": [
       "<pre style=\"white-space:pre;overflow-x:auto;line-height:normal;font-family:Menlo,'DejaVu Sans Mono',consolas,'Courier New',monospace\"><span style=\"color: #008000; text-decoration-color: #008000\">✓</span> Created objects.\n",
       "<span style=\"color: #808080; text-decoration-color: #808080\">├── </span>🔨 Created mount C:\\Users\\QIRAT\\Desktop\\DigitalPayments\\MachineLearning\\LLMs\\llm_engineering\\week8\\llama.py\n",
       "<span style=\"color: #808080; text-decoration-color: #808080\">├── </span>🔨 Created mount PythonPackage:hello\n",
       "<span style=\"color: #808080; text-decoration-color: #808080\">└── </span>🔨 Created function generate.\n",
       "</pre>\n"
      ],
      "text/plain": [
       "\u001b[32m✓\u001b[0m Created objects.\n",
       "\u001b[38;5;244m├── \u001b[0m🔨 Created mount C:\\Users\\QIRAT\\Desktop\\DigitalPayments\\MachineLearning\\LLMs\\llm_engineering\\week8\\llama.py\n",
       "\u001b[38;5;244m├── \u001b[0m🔨 Created mount PythonPackage:hello\n",
       "\u001b[38;5;244m└── \u001b[0m🔨 Created function generate.\n"
      ]
     },
     "metadata": {},
     "output_type": "display_data"
    },
    {
     "data": {
      "application/vnd.jupyter.widget-view+json": {
       "model_id": "",
       "version_major": 2,
       "version_minor": 0
      },
      "text/plain": [
       "Output()"
      ]
     },
     "metadata": {},
     "output_type": "display_data"
    },
    {
     "data": {
      "text/html": [
       "<pre style=\"white-space:pre;overflow-x:auto;line-height:normal;font-family:Menlo,'DejaVu Sans Mono',consolas,'Courier New',monospace\"><span style=\"color: #800000; text-decoration-color: #800000\">\n",
       "</span></pre>\n"
      ],
      "text/plain": [
       "\u001b[31m\n",
       "\u001b[0m"
      ]
     },
     "metadata": {},
     "output_type": "display_data"
    },
    {
     "data": {
      "text/html": [
       "<pre style=\"white-space:pre;overflow-x:auto;line-height:normal;font-family:Menlo,'DejaVu Sans Mono',consolas,'Courier New',monospace\"><span style=\"color: #800000; text-decoration-color: #800000\">\u001b[1ADownloading shards:   0%|          | 0/4 [00:00&lt;?, ?it/s]</span></pre>\n"
      ],
      "text/plain": [
       "\u001b[31m\u001b[1ADownloading shards:   0%|          | 0/4 [00:00<?, ?it/s]\u001b[0m"
      ]
     },
     "metadata": {},
     "output_type": "display_data"
    },
    {
     "data": {
      "text/html": [
       "<pre style=\"white-space:pre;overflow-x:auto;line-height:normal;font-family:Menlo,'DejaVu Sans Mono',consolas,'Courier New',monospace\"><span style=\"color: #800000; text-decoration-color: #800000\">\n",
       "</span></pre>\n"
      ],
      "text/plain": [
       "\u001b[31m\n",
       "\u001b[0m"
      ]
     },
     "metadata": {},
     "output_type": "display_data"
    },
    {
     "data": {
      "text/html": [
       "<pre style=\"white-space:pre;overflow-x:auto;line-height:normal;font-family:Menlo,'DejaVu Sans Mono',consolas,'Courier New',monospace\"><span style=\"color: #800000; text-decoration-color: #800000\">\u001b[1ADownloading shards:  25%|██▌       | 1/4 [01:58&lt;05:55, 118.56s/it]</span></pre>\n"
      ],
      "text/plain": [
       "\u001b[31m\u001b[1ADownloading shards:  25%|██▌       | 1/4 [01:58<05:55, 118.56s/it]\u001b[0m"
      ]
     },
     "metadata": {},
     "output_type": "display_data"
    },
    {
     "data": {
      "text/html": [
       "<pre style=\"white-space:pre;overflow-x:auto;line-height:normal;font-family:Menlo,'DejaVu Sans Mono',consolas,'Courier New',monospace\"><span style=\"color: #800000; text-decoration-color: #800000\">\n",
       "</span></pre>\n"
      ],
      "text/plain": [
       "\u001b[31m\n",
       "\u001b[0m"
      ]
     },
     "metadata": {},
     "output_type": "display_data"
    },
    {
     "data": {
      "text/html": [
       "<pre style=\"white-space:pre;overflow-x:auto;line-height:normal;font-family:Menlo,'DejaVu Sans Mono',consolas,'Courier New',monospace\"><span style=\"color: #800000; text-decoration-color: #800000\">\u001b[1ADownloading shards:  50%|█████     | 2/4 [03:57&lt;03:57, 118.56s/it]</span></pre>\n"
      ],
      "text/plain": [
       "\u001b[31m\u001b[1ADownloading shards:  50%|█████     | 2/4 [03:57<03:57, 118.56s/it]\u001b[0m"
      ]
     },
     "metadata": {},
     "output_type": "display_data"
    },
    {
     "data": {
      "text/html": [
       "<pre style=\"white-space:pre;overflow-x:auto;line-height:normal;font-family:Menlo,'DejaVu Sans Mono',consolas,'Courier New',monospace\"><span style=\"color: #800000; text-decoration-color: #800000\">\n",
       "</span></pre>\n"
      ],
      "text/plain": [
       "\u001b[31m\n",
       "\u001b[0m"
      ]
     },
     "metadata": {},
     "output_type": "display_data"
    },
    {
     "data": {
      "text/html": [
       "<pre style=\"white-space:pre;overflow-x:auto;line-height:normal;font-family:Menlo,'DejaVu Sans Mono',consolas,'Courier New',monospace\"><span style=\"color: #800000; text-decoration-color: #800000\">\u001b[1ADownloading shards:  50%|█████     | 2/4 [04:50&lt;04:50, 145.05s/it]\n",
       "</span></pre>\n"
      ],
      "text/plain": [
       "\u001b[31m\u001b[1ADownloading shards:  50%|█████     | 2/4 [04:50<04:50, 145.05s/it]\n",
       "\u001b[0m"
      ]
     },
     "metadata": {},
     "output_type": "display_data"
    },
    {
     "data": {
      "text/html": [
       "<pre style=\"white-space:pre;overflow-x:auto;line-height:normal;font-family:Menlo,'DejaVu Sans Mono',consolas,'Courier New',monospace\"></pre>\n"
      ],
      "text/plain": []
     },
     "metadata": {},
     "output_type": "display_data"
    },
    {
     "data": {
      "text/html": [
       "<pre style=\"white-space:pre;overflow-x:auto;line-height:normal;font-family:Menlo,'DejaVu Sans Mono',consolas,'Courier New',monospace\"><span style=\"color: #808000; text-decoration-color: #808000\">Task's current input in-01JC58RCV4SH73G3CX5H2HBND2:1731048780647-0 hit its timeout of 300s\n",
       "</span></pre>\n"
      ],
      "text/plain": [
       "\u001b[33mTask's current input in-01JC58RCV4SH73G3CX5H2HBND2:1731048780647-0 hit its timeout of 300s\n",
       "\u001b[0m"
      ]
     },
     "metadata": {},
     "output_type": "display_data"
    },
    {
     "data": {
      "text/html": [
       "<pre style=\"white-space:pre;overflow-x:auto;line-height:normal;font-family:Menlo,'DejaVu Sans Mono',consolas,'Courier New',monospace\"><span style=\"color: #808000; text-decoration-color: #808000\">Stopping app - uncaught exception raised locally: FunctionTimeoutError(\"Task's current input in-01JC58RCV4SH73G3CX5H2HBND2:1731048780647-0 hit its timeout of 300s\").\n",
       "</span></pre>\n"
      ],
      "text/plain": [
       "\u001b[33mStopping app - uncaught exception raised locally: FunctionTimeoutError(\"Task's current input in-01JC58RCV4SH73G3CX5H2HBND2:1731048780647-0 hit its timeout of 300s\").\n",
       "\u001b[0m"
      ]
     },
     "metadata": {},
     "output_type": "display_data"
    },
    {
     "ename": "FunctionTimeoutError",
     "evalue": "Task's current input in-01JC58RCV4SH73G3CX5H2HBND2:1731048780647-0 hit its timeout of 300s",
     "output_type": "error",
     "traceback": [
      "\u001b[1;31m---------------------------------------------------------------------------\u001b[0m",
      "\u001b[1;31mFunctionTimeoutError\u001b[0m                      Traceback (most recent call last)",
      "Cell \u001b[1;32mIn[31], line 3\u001b[0m\n\u001b[0;32m      1\u001b[0m \u001b[38;5;28;01mwith\u001b[39;00m modal\u001b[38;5;241m.\u001b[39menable_output():\n\u001b[0;32m      2\u001b[0m     \u001b[38;5;28;01mwith\u001b[39;00m app\u001b[38;5;241m.\u001b[39mrun():\n\u001b[1;32m----> 3\u001b[0m         result\u001b[38;5;241m=\u001b[39m\u001b[43mgenerate\u001b[49m\u001b[38;5;241;43m.\u001b[39;49m\u001b[43mremote\u001b[49m\u001b[43m(\u001b[49m\u001b[38;5;124;43m\"\u001b[39;49m\u001b[38;5;124;43mLife is a mystery, everyone must stand alone, I hear\u001b[39;49m\u001b[38;5;124;43m\"\u001b[39;49m\u001b[43m)\u001b[49m\n\u001b[0;32m      4\u001b[0m result\n",
      "File \u001b[1;32m~\\anaconda3\\envs\\llms\\Lib\\site-packages\\synchronicity\\synchronizer.py:577\u001b[0m, in \u001b[0;36mSynchronizer._wrap_proxy_method.<locals>.proxy_method\u001b[1;34m(self, *args, **kwargs)\u001b[0m\n\u001b[0;32m    575\u001b[0m instance \u001b[38;5;241m=\u001b[39m \u001b[38;5;28mself\u001b[39m\u001b[38;5;241m.\u001b[39m\u001b[38;5;18m__dict__\u001b[39m[synchronizer_self\u001b[38;5;241m.\u001b[39m_original_attr]\n\u001b[0;32m    576\u001b[0m \u001b[38;5;28;01mtry\u001b[39;00m:\n\u001b[1;32m--> 577\u001b[0m     \u001b[38;5;28;01mreturn\u001b[39;00m \u001b[43mwrapped_method\u001b[49m\u001b[43m(\u001b[49m\u001b[43minstance\u001b[49m\u001b[43m,\u001b[49m\u001b[43m \u001b[49m\u001b[38;5;241;43m*\u001b[39;49m\u001b[43margs\u001b[49m\u001b[43m,\u001b[49m\u001b[43m \u001b[49m\u001b[38;5;241;43m*\u001b[39;49m\u001b[38;5;241;43m*\u001b[39;49m\u001b[43mkwargs\u001b[49m\u001b[43m)\u001b[49m\n\u001b[0;32m    578\u001b[0m \u001b[38;5;28;01mexcept\u001b[39;00m UserCodeException \u001b[38;5;28;01mas\u001b[39;00m uc_exc:\n\u001b[0;32m    579\u001b[0m     uc_exc\u001b[38;5;241m.\u001b[39mexc\u001b[38;5;241m.\u001b[39m__suppress_context__ \u001b[38;5;241m=\u001b[39m \u001b[38;5;28;01mTrue\u001b[39;00m\n",
      "File \u001b[1;32m~\\anaconda3\\envs\\llms\\Lib\\site-packages\\synchronicity\\combined_types.py:29\u001b[0m, in \u001b[0;36mFunctionWithAio.__call__\u001b[1;34m(self, *args, **kwargs)\u001b[0m\n\u001b[0;32m     27\u001b[0m \u001b[38;5;28;01mexcept\u001b[39;00m UserCodeException \u001b[38;5;28;01mas\u001b[39;00m uc_exc:\n\u001b[0;32m     28\u001b[0m     uc_exc\u001b[38;5;241m.\u001b[39mexc\u001b[38;5;241m.\u001b[39m__suppress_context__ \u001b[38;5;241m=\u001b[39m \u001b[38;5;28;01mTrue\u001b[39;00m\n\u001b[1;32m---> 29\u001b[0m     \u001b[38;5;28;01mraise\u001b[39;00m uc_exc\u001b[38;5;241m.\u001b[39mexc\n",
      "File \u001b[1;32m~\\anaconda3\\envs\\llms\\Lib\\site-packages\\modal\\object.py:249\u001b[0m, in \u001b[0;36mlive_method.<locals>.wrapped\u001b[1;34m(self, *args, **kwargs)\u001b[0m\n\u001b[0;32m    246\u001b[0m \u001b[38;5;129m@wraps\u001b[39m(method)\n\u001b[0;32m    247\u001b[0m \u001b[38;5;28;01masync\u001b[39;00m \u001b[38;5;28;01mdef\u001b[39;00m \u001b[38;5;21mwrapped\u001b[39m(\u001b[38;5;28mself\u001b[39m, \u001b[38;5;241m*\u001b[39margs, \u001b[38;5;241m*\u001b[39m\u001b[38;5;241m*\u001b[39mkwargs):\n\u001b[0;32m    248\u001b[0m     \u001b[38;5;28;01mawait\u001b[39;00m \u001b[38;5;28mself\u001b[39m\u001b[38;5;241m.\u001b[39mresolve()\n\u001b[1;32m--> 249\u001b[0m     \u001b[38;5;28;01mreturn\u001b[39;00m \u001b[38;5;28;01mawait\u001b[39;00m method(\u001b[38;5;28mself\u001b[39m, \u001b[38;5;241m*\u001b[39margs, \u001b[38;5;241m*\u001b[39m\u001b[38;5;241m*\u001b[39mkwargs)\n",
      "File \u001b[1;32m~\\anaconda3\\envs\\llms\\Lib\\site-packages\\modal\\functions.py:1316\u001b[0m, in \u001b[0;36m_Function.remote\u001b[1;34m(self, *args, **kwargs)\u001b[0m\n\u001b[0;32m   1311\u001b[0m \u001b[38;5;28;01mif\u001b[39;00m \u001b[38;5;28mself\u001b[39m\u001b[38;5;241m.\u001b[39m_is_generator:\n\u001b[0;32m   1312\u001b[0m     \u001b[38;5;28;01mraise\u001b[39;00m InvalidError(\n\u001b[0;32m   1313\u001b[0m         \u001b[38;5;124m\"\u001b[39m\u001b[38;5;124mA generator function cannot be called with `.remote(...)`. Use `.remote_gen(...)` instead.\u001b[39m\u001b[38;5;124m\"\u001b[39m\n\u001b[0;32m   1314\u001b[0m     )\n\u001b[1;32m-> 1316\u001b[0m \u001b[38;5;28;01mreturn\u001b[39;00m \u001b[38;5;28;01mawait\u001b[39;00m \u001b[38;5;28mself\u001b[39m\u001b[38;5;241m.\u001b[39m_call_function(args, kwargs)\n",
      "File \u001b[1;32m~\\anaconda3\\envs\\llms\\Lib\\site-packages\\modal\\functions.py:1270\u001b[0m, in \u001b[0;36m_Function._call_function\u001b[1;34m(self, args, kwargs)\u001b[0m\n\u001b[0;32m   1262\u001b[0m \u001b[38;5;28;01masync\u001b[39;00m \u001b[38;5;28;01mdef\u001b[39;00m \u001b[38;5;21m_call_function\u001b[39m(\u001b[38;5;28mself\u001b[39m, args, kwargs) \u001b[38;5;241m-\u001b[39m\u001b[38;5;241m>\u001b[39m ReturnType:\n\u001b[0;32m   1263\u001b[0m     invocation \u001b[38;5;241m=\u001b[39m \u001b[38;5;28;01mawait\u001b[39;00m _Invocation\u001b[38;5;241m.\u001b[39mcreate(\n\u001b[0;32m   1264\u001b[0m         \u001b[38;5;28mself\u001b[39m,\n\u001b[0;32m   1265\u001b[0m         args,\n\u001b[1;32m   (...)\u001b[0m\n\u001b[0;32m   1268\u001b[0m         function_call_invocation_type\u001b[38;5;241m=\u001b[39mapi_pb2\u001b[38;5;241m.\u001b[39mFUNCTION_CALL_INVOCATION_TYPE_SYNC_LEGACY,\n\u001b[0;32m   1269\u001b[0m     )\n\u001b[1;32m-> 1270\u001b[0m     \u001b[38;5;28;01mreturn\u001b[39;00m \u001b[38;5;28;01mawait\u001b[39;00m invocation\u001b[38;5;241m.\u001b[39mrun_function()\n",
      "File \u001b[1;32m~\\anaconda3\\envs\\llms\\Lib\\site-packages\\modal\\functions.py:188\u001b[0m, in \u001b[0;36m_Invocation.run_function\u001b[1;34m(self)\u001b[0m\n\u001b[0;32m    184\u001b[0m item: api_pb2\u001b[38;5;241m.\u001b[39mFunctionGetOutputsItem \u001b[38;5;241m=\u001b[39m (\n\u001b[0;32m    185\u001b[0m     \u001b[38;5;28;01mawait\u001b[39;00m \u001b[38;5;28mself\u001b[39m\u001b[38;5;241m.\u001b[39mpop_function_call_outputs(timeout\u001b[38;5;241m=\u001b[39m\u001b[38;5;28;01mNone\u001b[39;00m, clear_on_success\u001b[38;5;241m=\u001b[39m\u001b[38;5;28;01mTrue\u001b[39;00m)\n\u001b[0;32m    186\u001b[0m )\u001b[38;5;241m.\u001b[39moutputs[\u001b[38;5;241m0\u001b[39m]\n\u001b[0;32m    187\u001b[0m \u001b[38;5;28;01massert\u001b[39;00m \u001b[38;5;129;01mnot\u001b[39;00m item\u001b[38;5;241m.\u001b[39mresult\u001b[38;5;241m.\u001b[39mgen_status\n\u001b[1;32m--> 188\u001b[0m \u001b[38;5;28;01mreturn\u001b[39;00m \u001b[38;5;28;01mawait\u001b[39;00m _process_result(item\u001b[38;5;241m.\u001b[39mresult, item\u001b[38;5;241m.\u001b[39mdata_format, \u001b[38;5;28mself\u001b[39m\u001b[38;5;241m.\u001b[39mstub, \u001b[38;5;28mself\u001b[39m\u001b[38;5;241m.\u001b[39mclient)\n",
      "File \u001b[1;32m~\\anaconda3\\envs\\llms\\Lib\\site-packages\\modal\\_utils\\function_utils.py:439\u001b[0m, in \u001b[0;36m_process_result\u001b[1;34m(result, data_format, stub, client)\u001b[0m\n\u001b[0;32m    436\u001b[0m     data \u001b[38;5;241m=\u001b[39m result\u001b[38;5;241m.\u001b[39mdata\n\u001b[0;32m    438\u001b[0m \u001b[38;5;28;01mif\u001b[39;00m result\u001b[38;5;241m.\u001b[39mstatus \u001b[38;5;241m==\u001b[39m api_pb2\u001b[38;5;241m.\u001b[39mGenericResult\u001b[38;5;241m.\u001b[39mGENERIC_STATUS_TIMEOUT:\n\u001b[1;32m--> 439\u001b[0m     \u001b[38;5;28;01mraise\u001b[39;00m FunctionTimeoutError(result\u001b[38;5;241m.\u001b[39mexception)\n\u001b[0;32m    440\u001b[0m \u001b[38;5;28;01melif\u001b[39;00m result\u001b[38;5;241m.\u001b[39mstatus \u001b[38;5;241m!=\u001b[39m api_pb2\u001b[38;5;241m.\u001b[39mGenericResult\u001b[38;5;241m.\u001b[39mGENERIC_STATUS_SUCCESS:\n\u001b[0;32m    441\u001b[0m     \u001b[38;5;28;01mif\u001b[39;00m data:\n",
      "\u001b[1;31mFunctionTimeoutError\u001b[0m: Task's current input in-01JC58RCV4SH73G3CX5H2HBND2:1731048780647-0 hit its timeout of 300s"
     ]
    }
   ],
   "source": [
    "# with modal.enable_output():\n",
    "#     with app.run():\n",
    "#         result=generate.remote(\"Life is a mystery, everyone must stand alone, I hear\")\n",
    "# result"
   ]
  },
  {
   "cell_type": "code",
   "execution_count": 40,
   "id": "3c3c1cfc-d6f2-49a7-be01-b097beb86688",
   "metadata": {},
   "outputs": [],
   "source": [
    "# import modal\n",
    "# from pricer_ephemeral import app, price"
   ]
  },
  {
   "cell_type": "code",
   "execution_count": 41,
   "id": "0a186e72-8e77-4c48-ab36-0effca488844",
   "metadata": {},
   "outputs": [
    {
     "data": {
      "application/vnd.jupyter.widget-view+json": {
       "model_id": "",
       "version_major": 2,
       "version_minor": 0
      },
      "text/plain": [
       "Output()"
      ]
     },
     "metadata": {},
     "output_type": "display_data"
    },
    {
     "data": {
      "text/html": [
       "<pre style=\"white-space:pre;overflow-x:auto;line-height:normal;font-family:Menlo,'DejaVu Sans Mono',consolas,'Courier New',monospace\"><span style=\"color: #008000; text-decoration-color: #008000\">✓</span> Initialized. <span style=\"color: #b2b2b2; text-decoration-color: #b2b2b2\">View run at </span><span style=\"color: #b2b2b2; text-decoration-color: #b2b2b2; text-decoration: underline\">https://modal.com/apps/talatmasood1988/main/ap-7GxGi96NiaxwvQGpj3rvn2</span>\n",
       "</pre>\n"
      ],
      "text/plain": [
       "\u001b[32m✓\u001b[0m Initialized. \u001b[38;5;249mView run at \u001b[0m\u001b[4;38;5;249mhttps://modal.com/apps/talatmasood1988/main/ap-7GxGi96NiaxwvQGpj3rvn2\u001b[0m\n"
      ]
     },
     "metadata": {},
     "output_type": "display_data"
    },
    {
     "data": {
      "text/html": [
       "<pre style=\"white-space:pre;overflow-x:auto;line-height:normal;font-family:Menlo,'DejaVu Sans Mono',consolas,'Courier New',monospace\"></pre>\n"
      ],
      "text/plain": []
     },
     "metadata": {},
     "output_type": "display_data"
    },
    {
     "data": {
      "application/vnd.jupyter.widget-view+json": {
       "model_id": "",
       "version_major": 2,
       "version_minor": 0
      },
      "text/plain": [
       "Output()"
      ]
     },
     "metadata": {},
     "output_type": "display_data"
    },
    {
     "data": {
      "text/html": [
       "<pre style=\"white-space:pre;overflow-x:auto;line-height:normal;font-family:Menlo,'DejaVu Sans Mono',consolas,'Courier New',monospace\"></pre>\n"
      ],
      "text/plain": []
     },
     "metadata": {},
     "output_type": "display_data"
    },
    {
     "data": {
      "text/html": [
       "<pre style=\"white-space:pre;overflow-x:auto;line-height:normal;font-family:Menlo,'DejaVu Sans Mono',consolas,'Courier New',monospace\"><span style=\"color: #008000; text-decoration-color: #008000\">✓</span> Created objects.\n",
       "<span style=\"color: #808080; text-decoration-color: #808080\">├── </span>🔨 Created mount \n",
       "<span style=\"color: #808080; text-decoration-color: #808080\">│   </span>C:\\Users\\QIRAT\\Desktop\\DigitalPayments\\MachineLearning\\LLMs\\llm_engineering\\week8\\pricer_ephemeral.py\n",
       "<span style=\"color: #808080; text-decoration-color: #808080\">├── </span>🔨 Created mount PythonPackage:llama\n",
       "<span style=\"color: #808080; text-decoration-color: #808080\">├── </span>🔨 Created mount PythonPackage:hello\n",
       "<span style=\"color: #808080; text-decoration-color: #808080\">└── </span>🔨 Created function price.\n",
       "</pre>\n"
      ],
      "text/plain": [
       "\u001b[32m✓\u001b[0m Created objects.\n",
       "\u001b[38;5;244m├── \u001b[0m🔨 Created mount \n",
       "\u001b[38;5;244m│   \u001b[0mC:\\Users\\QIRAT\\Desktop\\DigitalPayments\\MachineLearning\\LLMs\\llm_engineering\\week8\\pricer_ephemeral.py\n",
       "\u001b[38;5;244m├── \u001b[0m🔨 Created mount PythonPackage:llama\n",
       "\u001b[38;5;244m├── \u001b[0m🔨 Created mount PythonPackage:hello\n",
       "\u001b[38;5;244m└── \u001b[0m🔨 Created function price.\n"
      ]
     },
     "metadata": {},
     "output_type": "display_data"
    },
    {
     "data": {
      "application/vnd.jupyter.widget-view+json": {
       "model_id": "",
       "version_major": 2,
       "version_minor": 0
      },
      "text/plain": [
       "Output()"
      ]
     },
     "metadata": {},
     "output_type": "display_data"
    },
    {
     "data": {
      "text/html": [
       "<pre style=\"white-space:pre;overflow-x:auto;line-height:normal;font-family:Menlo,'DejaVu Sans Mono',consolas,'Courier New',monospace\"><span style=\"color: #800000; text-decoration-color: #800000\">\n",
       "</span></pre>\n"
      ],
      "text/plain": [
       "\u001b[31m\n",
       "\u001b[0m"
      ]
     },
     "metadata": {},
     "output_type": "display_data"
    },
    {
     "data": {
      "text/html": [
       "<pre style=\"white-space:pre;overflow-x:auto;line-height:normal;font-family:Menlo,'DejaVu Sans Mono',consolas,'Courier New',monospace\"><span style=\"color: #800000; text-decoration-color: #800000\">\u001b[1ADownloading shards:   0%|          | 0/4 [00:00&lt;?, ?it/s]</span></pre>\n"
      ],
      "text/plain": [
       "\u001b[31m\u001b[1ADownloading shards:   0%|          | 0/4 [00:00<?, ?it/s]\u001b[0m"
      ]
     },
     "metadata": {},
     "output_type": "display_data"
    },
    {
     "data": {
      "text/html": [
       "<pre style=\"white-space:pre;overflow-x:auto;line-height:normal;font-family:Menlo,'DejaVu Sans Mono',consolas,'Courier New',monospace\"><span style=\"color: #800000; text-decoration-color: #800000\">\n",
       "</span></pre>\n"
      ],
      "text/plain": [
       "\u001b[31m\n",
       "\u001b[0m"
      ]
     },
     "metadata": {},
     "output_type": "display_data"
    },
    {
     "data": {
      "text/html": [
       "<pre style=\"white-space:pre;overflow-x:auto;line-height:normal;font-family:Menlo,'DejaVu Sans Mono',consolas,'Courier New',monospace\"><span style=\"color: #800000; text-decoration-color: #800000\">\u001b[1ADownloading shards:  25%|██▌       | 1/4 [01:58&lt;05:55, 118.51s/it]</span></pre>\n"
      ],
      "text/plain": [
       "\u001b[31m\u001b[1ADownloading shards:  25%|██▌       | 1/4 [01:58<05:55, 118.51s/it]\u001b[0m"
      ]
     },
     "metadata": {},
     "output_type": "display_data"
    },
    {
     "data": {
      "text/html": [
       "<pre style=\"white-space:pre;overflow-x:auto;line-height:normal;font-family:Menlo,'DejaVu Sans Mono',consolas,'Courier New',monospace\"><span style=\"color: #800000; text-decoration-color: #800000\">\n",
       "</span></pre>\n"
      ],
      "text/plain": [
       "\u001b[31m\n",
       "\u001b[0m"
      ]
     },
     "metadata": {},
     "output_type": "display_data"
    },
    {
     "data": {
      "text/html": [
       "<pre style=\"white-space:pre;overflow-x:auto;line-height:normal;font-family:Menlo,'DejaVu Sans Mono',consolas,'Courier New',monospace\"><span style=\"color: #800000; text-decoration-color: #800000\">\u001b[1ADownloading shards:  50%|█████     | 2/4 [03:57&lt;03:58, 119.04s/it]</span></pre>\n"
      ],
      "text/plain": [
       "\u001b[31m\u001b[1ADownloading shards:  50%|█████     | 2/4 [03:57<03:58, 119.04s/it]\u001b[0m"
      ]
     },
     "metadata": {},
     "output_type": "display_data"
    },
    {
     "data": {
      "text/html": [
       "<pre style=\"white-space:pre;overflow-x:auto;line-height:normal;font-family:Menlo,'DejaVu Sans Mono',consolas,'Courier New',monospace\"><span style=\"color: #800000; text-decoration-color: #800000\">\n",
       "</span></pre>\n"
      ],
      "text/plain": [
       "\u001b[31m\n",
       "\u001b[0m"
      ]
     },
     "metadata": {},
     "output_type": "display_data"
    },
    {
     "data": {
      "text/html": [
       "<pre style=\"white-space:pre;overflow-x:auto;line-height:normal;font-family:Menlo,'DejaVu Sans Mono',consolas,'Courier New',monospace\"><span style=\"color: #800000; text-decoration-color: #800000\">\u001b[1ADownloading shards:  50%|█████     | 2/4 [04:48&lt;04:48, 144.18s/it]\n",
       "</span></pre>\n"
      ],
      "text/plain": [
       "\u001b[31m\u001b[1ADownloading shards:  50%|█████     | 2/4 [04:48<04:48, 144.18s/it]\n",
       "\u001b[0m"
      ]
     },
     "metadata": {},
     "output_type": "display_data"
    },
    {
     "data": {
      "text/html": [
       "<pre style=\"white-space:pre;overflow-x:auto;line-height:normal;font-family:Menlo,'DejaVu Sans Mono',consolas,'Courier New',monospace\"></pre>\n"
      ],
      "text/plain": []
     },
     "metadata": {},
     "output_type": "display_data"
    },
    {
     "data": {
      "text/html": [
       "<pre style=\"white-space:pre;overflow-x:auto;line-height:normal;font-family:Menlo,'DejaVu Sans Mono',consolas,'Courier New',monospace\"><span style=\"color: #808000; text-decoration-color: #808000\">Task's current input in-01JC5CX3YJ2X01WE9X20Q2AR5K:1731053129685-0 hit its timeout of 300s\n",
       "</span></pre>\n"
      ],
      "text/plain": [
       "\u001b[33mTask's current input in-01JC5CX3YJ2X01WE9X20Q2AR5K:1731053129685-0 hit its timeout of 300s\n",
       "\u001b[0m"
      ]
     },
     "metadata": {},
     "output_type": "display_data"
    },
    {
     "data": {
      "text/html": [
       "<pre style=\"white-space:pre;overflow-x:auto;line-height:normal;font-family:Menlo,'DejaVu Sans Mono',consolas,'Courier New',monospace\"><span style=\"color: #808000; text-decoration-color: #808000\">Stopping app - uncaught exception raised locally: FunctionTimeoutError(\"Task's current input in-01JC5CX3YJ2X01WE9X20Q2AR5K:1731053129685-0 hit its timeout of 300s\").\n",
       "</span></pre>\n"
      ],
      "text/plain": [
       "\u001b[33mStopping app - uncaught exception raised locally: FunctionTimeoutError(\"Task's current input in-01JC5CX3YJ2X01WE9X20Q2AR5K:1731053129685-0 hit its timeout of 300s\").\n",
       "\u001b[0m"
      ]
     },
     "metadata": {},
     "output_type": "display_data"
    },
    {
     "ename": "FunctionTimeoutError",
     "evalue": "Task's current input in-01JC5CX3YJ2X01WE9X20Q2AR5K:1731053129685-0 hit its timeout of 300s",
     "output_type": "error",
     "traceback": [
      "\u001b[1;31m---------------------------------------------------------------------------\u001b[0m",
      "\u001b[1;31mFunctionTimeoutError\u001b[0m                      Traceback (most recent call last)",
      "Cell \u001b[1;32mIn[41], line 3\u001b[0m\n\u001b[0;32m      1\u001b[0m \u001b[38;5;28;01mwith\u001b[39;00m modal\u001b[38;5;241m.\u001b[39menable_output():\n\u001b[0;32m      2\u001b[0m     \u001b[38;5;28;01mwith\u001b[39;00m app\u001b[38;5;241m.\u001b[39mrun():\n\u001b[1;32m----> 3\u001b[0m         result\u001b[38;5;241m=\u001b[39m\u001b[43mprice\u001b[49m\u001b[38;5;241;43m.\u001b[39;49m\u001b[43mremote\u001b[49m\u001b[43m(\u001b[49m\u001b[38;5;124;43m\"\u001b[39;49m\u001b[38;5;124;43mQuadcast HyperX condenser mic, connects via usb-c to your computer for crystal clear audio\u001b[39;49m\u001b[38;5;124;43m\"\u001b[39;49m\u001b[43m)\u001b[49m\n\u001b[0;32m      4\u001b[0m result\n",
      "File \u001b[1;32m~\\anaconda3\\envs\\llms\\Lib\\site-packages\\synchronicity\\synchronizer.py:577\u001b[0m, in \u001b[0;36mSynchronizer._wrap_proxy_method.<locals>.proxy_method\u001b[1;34m(self, *args, **kwargs)\u001b[0m\n\u001b[0;32m    575\u001b[0m instance \u001b[38;5;241m=\u001b[39m \u001b[38;5;28mself\u001b[39m\u001b[38;5;241m.\u001b[39m\u001b[38;5;18m__dict__\u001b[39m[synchronizer_self\u001b[38;5;241m.\u001b[39m_original_attr]\n\u001b[0;32m    576\u001b[0m \u001b[38;5;28;01mtry\u001b[39;00m:\n\u001b[1;32m--> 577\u001b[0m     \u001b[38;5;28;01mreturn\u001b[39;00m \u001b[43mwrapped_method\u001b[49m\u001b[43m(\u001b[49m\u001b[43minstance\u001b[49m\u001b[43m,\u001b[49m\u001b[43m \u001b[49m\u001b[38;5;241;43m*\u001b[39;49m\u001b[43margs\u001b[49m\u001b[43m,\u001b[49m\u001b[43m \u001b[49m\u001b[38;5;241;43m*\u001b[39;49m\u001b[38;5;241;43m*\u001b[39;49m\u001b[43mkwargs\u001b[49m\u001b[43m)\u001b[49m\n\u001b[0;32m    578\u001b[0m \u001b[38;5;28;01mexcept\u001b[39;00m UserCodeException \u001b[38;5;28;01mas\u001b[39;00m uc_exc:\n\u001b[0;32m    579\u001b[0m     uc_exc\u001b[38;5;241m.\u001b[39mexc\u001b[38;5;241m.\u001b[39m__suppress_context__ \u001b[38;5;241m=\u001b[39m \u001b[38;5;28;01mTrue\u001b[39;00m\n",
      "File \u001b[1;32m~\\anaconda3\\envs\\llms\\Lib\\site-packages\\synchronicity\\combined_types.py:29\u001b[0m, in \u001b[0;36mFunctionWithAio.__call__\u001b[1;34m(self, *args, **kwargs)\u001b[0m\n\u001b[0;32m     27\u001b[0m \u001b[38;5;28;01mexcept\u001b[39;00m UserCodeException \u001b[38;5;28;01mas\u001b[39;00m uc_exc:\n\u001b[0;32m     28\u001b[0m     uc_exc\u001b[38;5;241m.\u001b[39mexc\u001b[38;5;241m.\u001b[39m__suppress_context__ \u001b[38;5;241m=\u001b[39m \u001b[38;5;28;01mTrue\u001b[39;00m\n\u001b[1;32m---> 29\u001b[0m     \u001b[38;5;28;01mraise\u001b[39;00m uc_exc\u001b[38;5;241m.\u001b[39mexc\n",
      "File \u001b[1;32m~\\anaconda3\\envs\\llms\\Lib\\site-packages\\modal\\object.py:249\u001b[0m, in \u001b[0;36mlive_method.<locals>.wrapped\u001b[1;34m(self, *args, **kwargs)\u001b[0m\n\u001b[0;32m    246\u001b[0m \u001b[38;5;129m@wraps\u001b[39m(method)\n\u001b[0;32m    247\u001b[0m \u001b[38;5;28;01masync\u001b[39;00m \u001b[38;5;28;01mdef\u001b[39;00m \u001b[38;5;21mwrapped\u001b[39m(\u001b[38;5;28mself\u001b[39m, \u001b[38;5;241m*\u001b[39margs, \u001b[38;5;241m*\u001b[39m\u001b[38;5;241m*\u001b[39mkwargs):\n\u001b[0;32m    248\u001b[0m     \u001b[38;5;28;01mawait\u001b[39;00m \u001b[38;5;28mself\u001b[39m\u001b[38;5;241m.\u001b[39mresolve()\n\u001b[1;32m--> 249\u001b[0m     \u001b[38;5;28;01mreturn\u001b[39;00m \u001b[38;5;28;01mawait\u001b[39;00m method(\u001b[38;5;28mself\u001b[39m, \u001b[38;5;241m*\u001b[39margs, \u001b[38;5;241m*\u001b[39m\u001b[38;5;241m*\u001b[39mkwargs)\n",
      "File \u001b[1;32m~\\anaconda3\\envs\\llms\\Lib\\site-packages\\modal\\functions.py:1316\u001b[0m, in \u001b[0;36m_Function.remote\u001b[1;34m(self, *args, **kwargs)\u001b[0m\n\u001b[0;32m   1311\u001b[0m \u001b[38;5;28;01mif\u001b[39;00m \u001b[38;5;28mself\u001b[39m\u001b[38;5;241m.\u001b[39m_is_generator:\n\u001b[0;32m   1312\u001b[0m     \u001b[38;5;28;01mraise\u001b[39;00m InvalidError(\n\u001b[0;32m   1313\u001b[0m         \u001b[38;5;124m\"\u001b[39m\u001b[38;5;124mA generator function cannot be called with `.remote(...)`. Use `.remote_gen(...)` instead.\u001b[39m\u001b[38;5;124m\"\u001b[39m\n\u001b[0;32m   1314\u001b[0m     )\n\u001b[1;32m-> 1316\u001b[0m \u001b[38;5;28;01mreturn\u001b[39;00m \u001b[38;5;28;01mawait\u001b[39;00m \u001b[38;5;28mself\u001b[39m\u001b[38;5;241m.\u001b[39m_call_function(args, kwargs)\n",
      "File \u001b[1;32m~\\anaconda3\\envs\\llms\\Lib\\site-packages\\modal\\functions.py:1270\u001b[0m, in \u001b[0;36m_Function._call_function\u001b[1;34m(self, args, kwargs)\u001b[0m\n\u001b[0;32m   1262\u001b[0m \u001b[38;5;28;01masync\u001b[39;00m \u001b[38;5;28;01mdef\u001b[39;00m \u001b[38;5;21m_call_function\u001b[39m(\u001b[38;5;28mself\u001b[39m, args, kwargs) \u001b[38;5;241m-\u001b[39m\u001b[38;5;241m>\u001b[39m ReturnType:\n\u001b[0;32m   1263\u001b[0m     invocation \u001b[38;5;241m=\u001b[39m \u001b[38;5;28;01mawait\u001b[39;00m _Invocation\u001b[38;5;241m.\u001b[39mcreate(\n\u001b[0;32m   1264\u001b[0m         \u001b[38;5;28mself\u001b[39m,\n\u001b[0;32m   1265\u001b[0m         args,\n\u001b[1;32m   (...)\u001b[0m\n\u001b[0;32m   1268\u001b[0m         function_call_invocation_type\u001b[38;5;241m=\u001b[39mapi_pb2\u001b[38;5;241m.\u001b[39mFUNCTION_CALL_INVOCATION_TYPE_SYNC_LEGACY,\n\u001b[0;32m   1269\u001b[0m     )\n\u001b[1;32m-> 1270\u001b[0m     \u001b[38;5;28;01mreturn\u001b[39;00m \u001b[38;5;28;01mawait\u001b[39;00m invocation\u001b[38;5;241m.\u001b[39mrun_function()\n",
      "File \u001b[1;32m~\\anaconda3\\envs\\llms\\Lib\\site-packages\\modal\\functions.py:188\u001b[0m, in \u001b[0;36m_Invocation.run_function\u001b[1;34m(self)\u001b[0m\n\u001b[0;32m    184\u001b[0m item: api_pb2\u001b[38;5;241m.\u001b[39mFunctionGetOutputsItem \u001b[38;5;241m=\u001b[39m (\n\u001b[0;32m    185\u001b[0m     \u001b[38;5;28;01mawait\u001b[39;00m \u001b[38;5;28mself\u001b[39m\u001b[38;5;241m.\u001b[39mpop_function_call_outputs(timeout\u001b[38;5;241m=\u001b[39m\u001b[38;5;28;01mNone\u001b[39;00m, clear_on_success\u001b[38;5;241m=\u001b[39m\u001b[38;5;28;01mTrue\u001b[39;00m)\n\u001b[0;32m    186\u001b[0m )\u001b[38;5;241m.\u001b[39moutputs[\u001b[38;5;241m0\u001b[39m]\n\u001b[0;32m    187\u001b[0m \u001b[38;5;28;01massert\u001b[39;00m \u001b[38;5;129;01mnot\u001b[39;00m item\u001b[38;5;241m.\u001b[39mresult\u001b[38;5;241m.\u001b[39mgen_status\n\u001b[1;32m--> 188\u001b[0m \u001b[38;5;28;01mreturn\u001b[39;00m \u001b[38;5;28;01mawait\u001b[39;00m _process_result(item\u001b[38;5;241m.\u001b[39mresult, item\u001b[38;5;241m.\u001b[39mdata_format, \u001b[38;5;28mself\u001b[39m\u001b[38;5;241m.\u001b[39mstub, \u001b[38;5;28mself\u001b[39m\u001b[38;5;241m.\u001b[39mclient)\n",
      "File \u001b[1;32m~\\anaconda3\\envs\\llms\\Lib\\site-packages\\modal\\_utils\\function_utils.py:439\u001b[0m, in \u001b[0;36m_process_result\u001b[1;34m(result, data_format, stub, client)\u001b[0m\n\u001b[0;32m    436\u001b[0m     data \u001b[38;5;241m=\u001b[39m result\u001b[38;5;241m.\u001b[39mdata\n\u001b[0;32m    438\u001b[0m \u001b[38;5;28;01mif\u001b[39;00m result\u001b[38;5;241m.\u001b[39mstatus \u001b[38;5;241m==\u001b[39m api_pb2\u001b[38;5;241m.\u001b[39mGenericResult\u001b[38;5;241m.\u001b[39mGENERIC_STATUS_TIMEOUT:\n\u001b[1;32m--> 439\u001b[0m     \u001b[38;5;28;01mraise\u001b[39;00m FunctionTimeoutError(result\u001b[38;5;241m.\u001b[39mexception)\n\u001b[0;32m    440\u001b[0m \u001b[38;5;28;01melif\u001b[39;00m result\u001b[38;5;241m.\u001b[39mstatus \u001b[38;5;241m!=\u001b[39m api_pb2\u001b[38;5;241m.\u001b[39mGenericResult\u001b[38;5;241m.\u001b[39mGENERIC_STATUS_SUCCESS:\n\u001b[0;32m    441\u001b[0m     \u001b[38;5;28;01mif\u001b[39;00m data:\n",
      "\u001b[1;31mFunctionTimeoutError\u001b[0m: Task's current input in-01JC5CX3YJ2X01WE9X20Q2AR5K:1731053129685-0 hit its timeout of 300s"
     ]
    }
   ],
   "source": [
    "# with modal.enable_output():\n",
    "#     with app.run():\n",
    "#         result=price.remote(\"Quadcast HyperX condenser mic, connects via usb-c to your computer for crystal clear audio\")\n",
    "# result"
   ]
  },
  {
   "cell_type": "markdown",
   "id": "0440d5ee-a818-4aec-bfb0-49ad5a2d9071",
   "metadata": {},
   "source": [
    "## Transitioning From Ephemeral Apps to Deployed Apps"
   ]
  },
  {
   "cell_type": "code",
   "execution_count": 42,
   "id": "5d97e8fd-5a5a-4578-803e-44e92ff121b7",
   "metadata": {},
   "outputs": [
    {
     "name": "stdout",
     "output_type": "stream",
     "text": [
      "- Creating objects...\n",
      "\\ Creating objects...\n",
      "/ Creating objects...\n",
      "| Creating objects...\n",
      "â””â”€â”€ - Creating mount \n",
      "    C:\\Users\\QIRAT\\Desktop\\DigitalPayments\\MachineLearning\\LLMs\\llm_engineering\n",
      "    \\week8\\pricer_service.py: Uploaded 0/1 files\n",
      "/ Creating objects...\n",
      "â””â”€â”€ | Creating mount \n",
      "    C:\\Users\\QIRAT\\Desktop\\DigitalPayments\\MachineLearning\\LLMs\\llm_engineering\n",
      "    \\week8\\pricer_service.py: Uploaded 0/1 files\n",
      "\\ Creating objects...\n",
      "â””â”€â”€ / Creating mount \n",
      "    C:\\Users\\QIRAT\\Desktop\\DigitalPayments\\MachineLearning\\LLMs\\llm_engineering\n",
      "    \\week8\\pricer_service.py: Uploaded 0/1 files\n",
      "- Creating objects...\n",
      "â””â”€â”€ | Creating mount \n",
      "    C:\\Users\\QIRAT\\Desktop\\DigitalPayments\\MachineLearning\\LLMs\\llm_engineering\n",
      "    \\week8\\pricer_service.py: Finalizing index of 1 files\n",
      "| Creating objects...\n",
      "â””â”€â”€ ðŸ”¨ Created mount \n",
      "    C:\\Users\\QIRAT\\Desktop\\DigitalPayments\\MachineLearning\\LLMs\\llm_engineering\n",
      "    \\week8\\pricer_service.py\n",
      "/ Creating objects...\n",
      "â””â”€â”€ ðŸ”¨ Created mount \n",
      "    C:\\Users\\QIRAT\\Desktop\\DigitalPayments\\MachineLearning\\LLMs\\llm_engineering\n",
      "    \\week8\\pricer_service.py\n",
      "| Creating objects...\n",
      "â””â”€â”€ ðŸ”¨ Created mount \n",
      "    C:\\Users\\QIRAT\\Desktop\\DigitalPayments\\MachineLearning\\LLMs\\llm_engineering\n",
      "    \\week8\\pricer_service.py\n",
      "- Creating objects...\n",
      "â”œâ”€â”€ ðŸ”¨ Created mount \n",
      "â”‚   C:\\Users\\QIRAT\\Desktop\\DigitalPayments\\MachineLearning\\LLMs\\llm_engineering\n",
      "â”‚   \\week8\\pricer_service.py\n",
      "â””â”€â”€ - Creating function price...\n",
      "| Creating objects...\n",
      "â”œâ”€â”€ ðŸ”¨ Created mount \n",
      "â”‚   C:\\Users\\QIRAT\\Desktop\\DigitalPayments\\MachineLearning\\LLMs\\llm_engineering\n",
      "â”‚   \\week8\\pricer_service.py\n",
      "â””â”€â”€ | Creating function price...\n",
      "/ Creating objects...\n",
      "â”œâ”€â”€ ðŸ”¨ Created mount \n",
      "â”‚   C:\\Users\\QIRAT\\Desktop\\DigitalPayments\\MachineLearning\\LLMs\\llm_engineering\n",
      "â”‚   \\week8\\pricer_service.py\n",
      "â””â”€â”€ ðŸ”¨ Created function price.\n",
      "\n",
      "âœ“ Created objects.\n",
      "â”œâ”€â”€ ðŸ”¨ Created mount \n",
      "â”‚   C:\\Users\\QIRAT\\Desktop\\DigitalPayments\\MachineLearning\\LLMs\\llm_engineering\n",
      "â”‚   \\week8\\pricer_service.py\n",
      "â””â”€â”€ ðŸ”¨ Created function price.\n",
      "âœ“ App deployed in 4.895s! ðŸŽ‰\n",
      "\n",
      "View Deployment: \n",
      "https://modal.com/apps/talatmasood1988/main/deployed/pricer-service\n"
     ]
    }
   ],
   "source": [
    "#!modal deploy pricer_service"
   ]
  },
  {
   "cell_type": "code",
   "execution_count": 54,
   "id": "4f56e38a-dcb3-4669-9f0d-10e5d987cd36",
   "metadata": {},
   "outputs": [],
   "source": [
    "#pricer = modal.Function.lookup(\"pricer-service\", \"price\")"
   ]
  },
  {
   "cell_type": "code",
   "execution_count": 55,
   "id": "59ab0f69-4168-4cad-8295-deae12cd2ee2",
   "metadata": {},
   "outputs": [
    {
     "ename": "FunctionTimeoutError",
     "evalue": "Task's current input in-01JC5E7DBDDVC0WHT5HXJ3XHY9:1731054515567-0 hit its timeout of 1000s",
     "output_type": "error",
     "traceback": [
      "\u001b[1;31m---------------------------------------------------------------------------\u001b[0m",
      "\u001b[1;31mFunctionTimeoutError\u001b[0m                      Traceback (most recent call last)",
      "Cell \u001b[1;32mIn[55], line 1\u001b[0m\n\u001b[1;32m----> 1\u001b[0m \u001b[43mpricer\u001b[49m\u001b[38;5;241;43m.\u001b[39;49m\u001b[43mremote\u001b[49m\u001b[43m(\u001b[49m\u001b[38;5;124;43m\"\u001b[39;49m\u001b[38;5;124;43mQuadcast HyperX condenser mic, connects via usb-c to your computer for crystal clear audio\u001b[39;49m\u001b[38;5;124;43m\"\u001b[39;49m\u001b[43m)\u001b[49m\n",
      "File \u001b[1;32m~\\anaconda3\\envs\\llms\\Lib\\site-packages\\synchronicity\\synchronizer.py:577\u001b[0m, in \u001b[0;36mSynchronizer._wrap_proxy_method.<locals>.proxy_method\u001b[1;34m(self, *args, **kwargs)\u001b[0m\n\u001b[0;32m    575\u001b[0m instance \u001b[38;5;241m=\u001b[39m \u001b[38;5;28mself\u001b[39m\u001b[38;5;241m.\u001b[39m\u001b[38;5;18m__dict__\u001b[39m[synchronizer_self\u001b[38;5;241m.\u001b[39m_original_attr]\n\u001b[0;32m    576\u001b[0m \u001b[38;5;28;01mtry\u001b[39;00m:\n\u001b[1;32m--> 577\u001b[0m     \u001b[38;5;28;01mreturn\u001b[39;00m \u001b[43mwrapped_method\u001b[49m\u001b[43m(\u001b[49m\u001b[43minstance\u001b[49m\u001b[43m,\u001b[49m\u001b[43m \u001b[49m\u001b[38;5;241;43m*\u001b[39;49m\u001b[43margs\u001b[49m\u001b[43m,\u001b[49m\u001b[43m \u001b[49m\u001b[38;5;241;43m*\u001b[39;49m\u001b[38;5;241;43m*\u001b[39;49m\u001b[43mkwargs\u001b[49m\u001b[43m)\u001b[49m\n\u001b[0;32m    578\u001b[0m \u001b[38;5;28;01mexcept\u001b[39;00m UserCodeException \u001b[38;5;28;01mas\u001b[39;00m uc_exc:\n\u001b[0;32m    579\u001b[0m     uc_exc\u001b[38;5;241m.\u001b[39mexc\u001b[38;5;241m.\u001b[39m__suppress_context__ \u001b[38;5;241m=\u001b[39m \u001b[38;5;28;01mTrue\u001b[39;00m\n",
      "File \u001b[1;32m~\\anaconda3\\envs\\llms\\Lib\\site-packages\\synchronicity\\combined_types.py:29\u001b[0m, in \u001b[0;36mFunctionWithAio.__call__\u001b[1;34m(self, *args, **kwargs)\u001b[0m\n\u001b[0;32m     27\u001b[0m \u001b[38;5;28;01mexcept\u001b[39;00m UserCodeException \u001b[38;5;28;01mas\u001b[39;00m uc_exc:\n\u001b[0;32m     28\u001b[0m     uc_exc\u001b[38;5;241m.\u001b[39mexc\u001b[38;5;241m.\u001b[39m__suppress_context__ \u001b[38;5;241m=\u001b[39m \u001b[38;5;28;01mTrue\u001b[39;00m\n\u001b[1;32m---> 29\u001b[0m     \u001b[38;5;28;01mraise\u001b[39;00m uc_exc\u001b[38;5;241m.\u001b[39mexc\n",
      "File \u001b[1;32m~\\anaconda3\\envs\\llms\\Lib\\site-packages\\modal\\object.py:249\u001b[0m, in \u001b[0;36mlive_method.<locals>.wrapped\u001b[1;34m(self, *args, **kwargs)\u001b[0m\n\u001b[0;32m    246\u001b[0m \u001b[38;5;129m@wraps\u001b[39m(method)\n\u001b[0;32m    247\u001b[0m \u001b[38;5;28;01masync\u001b[39;00m \u001b[38;5;28;01mdef\u001b[39;00m \u001b[38;5;21mwrapped\u001b[39m(\u001b[38;5;28mself\u001b[39m, \u001b[38;5;241m*\u001b[39margs, \u001b[38;5;241m*\u001b[39m\u001b[38;5;241m*\u001b[39mkwargs):\n\u001b[0;32m    248\u001b[0m     \u001b[38;5;28;01mawait\u001b[39;00m \u001b[38;5;28mself\u001b[39m\u001b[38;5;241m.\u001b[39mresolve()\n\u001b[1;32m--> 249\u001b[0m     \u001b[38;5;28;01mreturn\u001b[39;00m \u001b[38;5;28;01mawait\u001b[39;00m method(\u001b[38;5;28mself\u001b[39m, \u001b[38;5;241m*\u001b[39margs, \u001b[38;5;241m*\u001b[39m\u001b[38;5;241m*\u001b[39mkwargs)\n",
      "File \u001b[1;32m~\\anaconda3\\envs\\llms\\Lib\\site-packages\\modal\\functions.py:1316\u001b[0m, in \u001b[0;36m_Function.remote\u001b[1;34m(self, *args, **kwargs)\u001b[0m\n\u001b[0;32m   1311\u001b[0m \u001b[38;5;28;01mif\u001b[39;00m \u001b[38;5;28mself\u001b[39m\u001b[38;5;241m.\u001b[39m_is_generator:\n\u001b[0;32m   1312\u001b[0m     \u001b[38;5;28;01mraise\u001b[39;00m InvalidError(\n\u001b[0;32m   1313\u001b[0m         \u001b[38;5;124m\"\u001b[39m\u001b[38;5;124mA generator function cannot be called with `.remote(...)`. Use `.remote_gen(...)` instead.\u001b[39m\u001b[38;5;124m\"\u001b[39m\n\u001b[0;32m   1314\u001b[0m     )\n\u001b[1;32m-> 1316\u001b[0m \u001b[38;5;28;01mreturn\u001b[39;00m \u001b[38;5;28;01mawait\u001b[39;00m \u001b[38;5;28mself\u001b[39m\u001b[38;5;241m.\u001b[39m_call_function(args, kwargs)\n",
      "File \u001b[1;32m~\\anaconda3\\envs\\llms\\Lib\\site-packages\\modal\\functions.py:1270\u001b[0m, in \u001b[0;36m_Function._call_function\u001b[1;34m(self, args, kwargs)\u001b[0m\n\u001b[0;32m   1262\u001b[0m \u001b[38;5;28;01masync\u001b[39;00m \u001b[38;5;28;01mdef\u001b[39;00m \u001b[38;5;21m_call_function\u001b[39m(\u001b[38;5;28mself\u001b[39m, args, kwargs) \u001b[38;5;241m-\u001b[39m\u001b[38;5;241m>\u001b[39m ReturnType:\n\u001b[0;32m   1263\u001b[0m     invocation \u001b[38;5;241m=\u001b[39m \u001b[38;5;28;01mawait\u001b[39;00m _Invocation\u001b[38;5;241m.\u001b[39mcreate(\n\u001b[0;32m   1264\u001b[0m         \u001b[38;5;28mself\u001b[39m,\n\u001b[0;32m   1265\u001b[0m         args,\n\u001b[1;32m   (...)\u001b[0m\n\u001b[0;32m   1268\u001b[0m         function_call_invocation_type\u001b[38;5;241m=\u001b[39mapi_pb2\u001b[38;5;241m.\u001b[39mFUNCTION_CALL_INVOCATION_TYPE_SYNC_LEGACY,\n\u001b[0;32m   1269\u001b[0m     )\n\u001b[1;32m-> 1270\u001b[0m     \u001b[38;5;28;01mreturn\u001b[39;00m \u001b[38;5;28;01mawait\u001b[39;00m invocation\u001b[38;5;241m.\u001b[39mrun_function()\n",
      "File \u001b[1;32m~\\anaconda3\\envs\\llms\\Lib\\site-packages\\modal\\functions.py:188\u001b[0m, in \u001b[0;36m_Invocation.run_function\u001b[1;34m(self)\u001b[0m\n\u001b[0;32m    184\u001b[0m item: api_pb2\u001b[38;5;241m.\u001b[39mFunctionGetOutputsItem \u001b[38;5;241m=\u001b[39m (\n\u001b[0;32m    185\u001b[0m     \u001b[38;5;28;01mawait\u001b[39;00m \u001b[38;5;28mself\u001b[39m\u001b[38;5;241m.\u001b[39mpop_function_call_outputs(timeout\u001b[38;5;241m=\u001b[39m\u001b[38;5;28;01mNone\u001b[39;00m, clear_on_success\u001b[38;5;241m=\u001b[39m\u001b[38;5;28;01mTrue\u001b[39;00m)\n\u001b[0;32m    186\u001b[0m )\u001b[38;5;241m.\u001b[39moutputs[\u001b[38;5;241m0\u001b[39m]\n\u001b[0;32m    187\u001b[0m \u001b[38;5;28;01massert\u001b[39;00m \u001b[38;5;129;01mnot\u001b[39;00m item\u001b[38;5;241m.\u001b[39mresult\u001b[38;5;241m.\u001b[39mgen_status\n\u001b[1;32m--> 188\u001b[0m \u001b[38;5;28;01mreturn\u001b[39;00m \u001b[38;5;28;01mawait\u001b[39;00m _process_result(item\u001b[38;5;241m.\u001b[39mresult, item\u001b[38;5;241m.\u001b[39mdata_format, \u001b[38;5;28mself\u001b[39m\u001b[38;5;241m.\u001b[39mstub, \u001b[38;5;28mself\u001b[39m\u001b[38;5;241m.\u001b[39mclient)\n",
      "File \u001b[1;32m~\\anaconda3\\envs\\llms\\Lib\\site-packages\\modal\\_utils\\function_utils.py:439\u001b[0m, in \u001b[0;36m_process_result\u001b[1;34m(result, data_format, stub, client)\u001b[0m\n\u001b[0;32m    436\u001b[0m     data \u001b[38;5;241m=\u001b[39m result\u001b[38;5;241m.\u001b[39mdata\n\u001b[0;32m    438\u001b[0m \u001b[38;5;28;01mif\u001b[39;00m result\u001b[38;5;241m.\u001b[39mstatus \u001b[38;5;241m==\u001b[39m api_pb2\u001b[38;5;241m.\u001b[39mGenericResult\u001b[38;5;241m.\u001b[39mGENERIC_STATUS_TIMEOUT:\n\u001b[1;32m--> 439\u001b[0m     \u001b[38;5;28;01mraise\u001b[39;00m FunctionTimeoutError(result\u001b[38;5;241m.\u001b[39mexception)\n\u001b[0;32m    440\u001b[0m \u001b[38;5;28;01melif\u001b[39;00m result\u001b[38;5;241m.\u001b[39mstatus \u001b[38;5;241m!=\u001b[39m api_pb2\u001b[38;5;241m.\u001b[39mGenericResult\u001b[38;5;241m.\u001b[39mGENERIC_STATUS_SUCCESS:\n\u001b[0;32m    441\u001b[0m     \u001b[38;5;28;01mif\u001b[39;00m data:\n",
      "\u001b[1;31mFunctionTimeoutError\u001b[0m: Task's current input in-01JC5E7DBDDVC0WHT5HXJ3XHY9:1731054515567-0 hit its timeout of 1000s"
     ]
    }
   ],
   "source": [
    "#pricer.remote(\"Quadcast HyperX condenser mic, connects via usb-c to your computer for crystal clear audio\")"
   ]
  },
  {
   "cell_type": "code",
   "execution_count": 6,
   "id": "25464973-c722-493b-9372-094ed382c277",
   "metadata": {},
   "outputs": [
    {
     "name": "stdout",
     "output_type": "stream",
     "text": [
      "- Creating objects...\n",
      "| Creating objects...\n",
      "- Creating objects...\n",
      "â””â”€â”€ - Creating mount \n",
      "    C:\\Users\\QIRAT\\Desktop\\DigitalPayments\\MachineLearning\\LLMs\\llm_engineering\n",
      "    \\week8\\pricer_service2.py: Uploaded 0/1 files\n",
      "| Creating objects...\n",
      "â””â”€â”€ \\ Creating mount \n",
      "    C:\\Users\\QIRAT\\Desktop\\DigitalPayments\\MachineLearning\\LLMs\\llm_engineering\n",
      "    \\week8\\pricer_service2.py: Uploaded 0/1 files\n",
      "/ Creating objects...\n",
      "â””â”€â”€ / Creating mount \n",
      "    C:\\Users\\QIRAT\\Desktop\\DigitalPayments\\MachineLearning\\LLMs\\llm_engineering\n",
      "    \\week8\\pricer_service2.py: Uploaded 0/1 files\n",
      "\\ Creating objects...\n",
      "â””â”€â”€ \\ Creating mount \n",
      "    C:\\Users\\QIRAT\\Desktop\\DigitalPayments\\MachineLearning\\LLMs\\llm_engineering\n",
      "    \\week8\\pricer_service2.py: Finalizing index of 1 files\n",
      "- Creating objects...\n",
      "â””â”€â”€ / Creating mount \n",
      "    C:\\Users\\QIRAT\\Desktop\\DigitalPayments\\MachineLearning\\LLMs\\llm_engineering\n",
      "    \\week8\\pricer_service2.py: Finalizing index of 1 files\n",
      "| Creating objects...\n",
      "â””â”€â”€ \\ Creating mount \n",
      "    C:\\Users\\QIRAT\\Desktop\\DigitalPayments\\MachineLearning\\LLMs\\llm_engineering\n",
      "    \\week8\\pricer_service2.py: Finalizing index of 1 files\n",
      "- Creating objects...\n",
      "â””â”€â”€ ðŸ”¨ Created mount \n",
      "    C:\\Users\\QIRAT\\Desktop\\DigitalPayments\\MachineLearning\\LLMs\\llm_engineering\n",
      "    \\week8\\pricer_service2.py\n",
      "| Creating objects...\n",
      "â”œâ”€â”€ ðŸ”¨ Created mount \n",
      "â”‚   C:\\Users\\QIRAT\\Desktop\\DigitalPayments\\MachineLearning\\LLMs\\llm_engineering\n",
      "â”‚   \\week8\\pricer_service2.py\n",
      "â””â”€â”€ - Creating function Pricer.download_model_to_folder...\n",
      "- Creating objects...\n",
      "â”œâ”€â”€ ðŸ”¨ Created mount \n",
      "â”‚   C:\\Users\\QIRAT\\Desktop\\DigitalPayments\\MachineLearning\\LLMs\\llm_engineering\n",
      "â”‚   \\week8\\pricer_service2.py\n",
      "â””â”€â”€ \\ Creating function Pricer.download_model_to_folder...\n",
      "| Creating objects...\n",
      "â”œâ”€â”€ ðŸ”¨ Created mount \n",
      "â”‚   C:\\Users\\QIRAT\\Desktop\\DigitalPayments\\MachineLearning\\LLMs\\llm_engineering\n",
      "â”‚   \\week8\\pricer_service2.py\n",
      "â””â”€â”€ ðŸ”¨ Created function Pricer.download_model_to_folder.\n",
      "- Creating objects...\n",
      "â”œâ”€â”€ ðŸ”¨ Created mount \n",
      "â”‚   C:\\Users\\QIRAT\\Desktop\\DigitalPayments\\MachineLearning\\LLMs\\llm_engineering\n",
      "â”‚   \\week8\\pricer_service2.py\n",
      "â””â”€â”€ ðŸ”¨ Created function Pricer.download_model_to_folder.\n",
      "| Creating objects...\n",
      "â”œâ”€â”€ ðŸ”¨ Created mount \n",
      "â”‚   C:\\Users\\QIRAT\\Desktop\\DigitalPayments\\MachineLearning\\LLMs\\llm_engineering\n",
      "â”‚   \\week8\\pricer_service2.py\n",
      "â””â”€â”€ ðŸ”¨ Created function Pricer.download_model_to_folder.\n",
      "- Creating objects...\n",
      "â”œâ”€â”€ ðŸ”¨ Created mount \n",
      "â”‚   C:\\Users\\QIRAT\\Desktop\\DigitalPayments\\MachineLearning\\LLMs\\llm_engineering\n",
      "â”‚   \\week8\\pricer_service2.py\n",
      "â””â”€â”€ ðŸ”¨ Created function Pricer.download_model_to_folder.\n",
      "| Creating objects...\n",
      "â”œâ”€â”€ ðŸ”¨ Created mount \n",
      "â”‚   C:\\Users\\QIRAT\\Desktop\\DigitalPayments\\MachineLearning\\LLMs\\llm_engineering\n",
      "â”‚   \\week8\\pricer_service2.py\n",
      "â”œâ”€â”€ ðŸ”¨ Created function Pricer.download_model_to_folder.\n",
      "â””â”€â”€ - Creating function Pricer.*...\n",
      "- Creating objects...\n",
      "â”œâ”€â”€ ðŸ”¨ Created mount \n",
      "â”‚   C:\\Users\\QIRAT\\Desktop\\DigitalPayments\\MachineLearning\\LLMs\\llm_engineering\n",
      "â”‚   \\week8\\pricer_service2.py\n",
      "â”œâ”€â”€ ðŸ”¨ Created function Pricer.download_model_to_folder.\n",
      "â”œâ”€â”€ ðŸ”¨ Created function Pricer.*.\n",
      "â”œâ”€â”€ - Creating function Pricer.price...\n",
      "â””â”€â”€ - Creating function Pricer.wake_up...\n",
      "| Creating objects...\n",
      "â”œâ”€â”€ ðŸ”¨ Created mount \n",
      "â”‚   C:\\Users\\QIRAT\\Desktop\\DigitalPayments\\MachineLearning\\LLMs\\llm_engineering\n",
      "â”‚   \\week8\\pricer_service2.py\n",
      "â”œâ”€â”€ ðŸ”¨ Created function Pricer.download_model_to_folder.\n",
      "â”œâ”€â”€ ðŸ”¨ Created function Pricer.*.\n",
      "â”œâ”€â”€ | Creating function Pricer.price...\n",
      "â””â”€â”€ | Creating function Pricer.wake_up...\n",
      "- Creating objects...\n",
      "â”œâ”€â”€ ðŸ”¨ Created mount \n",
      "â”‚   C:\\Users\\QIRAT\\Desktop\\DigitalPayments\\MachineLearning\\LLMs\\llm_engineering\n",
      "â”‚   \\week8\\pricer_service2.py\n",
      "â”œâ”€â”€ ðŸ”¨ Created function Pricer.download_model_to_folder.\n",
      "â”œâ”€â”€ ðŸ”¨ Created function Pricer.*.\n",
      "â”œâ”€â”€ ðŸ”¨ Created function Pricer.price.\n",
      "â””â”€â”€ ðŸ”¨ Created function Pricer.wake_up.\n",
      "| Creating objects...\n",
      "â”œâ”€â”€ ðŸ”¨ Created mount \n",
      "â”‚   C:\\Users\\QIRAT\\Desktop\\DigitalPayments\\MachineLearning\\LLMs\\llm_engineering\n",
      "â”‚   \\week8\\pricer_service2.py\n",
      "â”œâ”€â”€ ðŸ”¨ Created function Pricer.download_model_to_folder.\n",
      "â”œâ”€â”€ ðŸ”¨ Created function Pricer.*.\n",
      "â”œâ”€â”€ ðŸ”¨ Created function Pricer.price.\n",
      "â””â”€â”€ ðŸ”¨ Created function Pricer.wake_up.\n",
      "- Creating objects...\n",
      "â”œâ”€â”€ ðŸ”¨ Created mount \n",
      "â”‚   C:\\Users\\QIRAT\\Desktop\\DigitalPayments\\MachineLearning\\LLMs\\llm_engineering\n",
      "â”‚   \\week8\\pricer_service2.py\n",
      "â”œâ”€â”€ ðŸ”¨ Created function Pricer.download_model_to_folder.\n",
      "â”œâ”€â”€ ðŸ”¨ Created function Pricer.*.\n",
      "â”œâ”€â”€ ðŸ”¨ Created function Pricer.price.\n",
      "â””â”€â”€ ðŸ”¨ Created function Pricer.wake_up.\n",
      "\n",
      "âœ“ Created objects.\n",
      "â”œâ”€â”€ ðŸ”¨ Created mount \n",
      "â”‚   C:\\Users\\QIRAT\\Desktop\\DigitalPayments\\MachineLearning\\LLMs\\llm_engineering\n",
      "â”‚   \\week8\\pricer_service2.py\n",
      "â”œâ”€â”€ ðŸ”¨ Created function Pricer.download_model_to_folder.\n",
      "â”œâ”€â”€ ðŸ”¨ Created function Pricer.*.\n",
      "â”œâ”€â”€ ðŸ”¨ Created function Pricer.price.\n",
      "â””â”€â”€ ðŸ”¨ Created function Pricer.wake_up.\n",
      "âœ“ App deployed in 6.889s! ðŸŽ‰\n",
      "\n",
      "View Deployment: \n",
      "https://modal.com/apps/talatmasood1988/main/deployed/pricer-service\n"
     ]
    }
   ],
   "source": [
    "!modal deploy pricer_service2"
   ]
  },
  {
   "cell_type": "code",
   "execution_count": null,
   "id": "be38f159-c6e5-4ce7-b849-a7b539cf1f6b",
   "metadata": {},
   "outputs": [],
   "source": [
    "Pricer = modal.Cls.lookup(\"pricer-service\", \"Pricer\")\n",
    "pricer = Pricer()\n",
    "reply = pricer.price.remote(\"Quadcast HyperX condenser mic, connects via usb-c to your computer for crystal clear audio\")\n",
    "print(reply)"
   ]
  },
  {
   "cell_type": "code",
   "execution_count": null,
   "id": "2835121b-e5af-4249-b574-d5aa4b485138",
   "metadata": {},
   "outputs": [],
   "source": []
  }
 ],
 "metadata": {
  "kernelspec": {
   "display_name": "Python 3 (ipykernel)",
   "language": "python",
   "name": "python3"
  },
  "language_info": {
   "codemirror_mode": {
    "name": "ipython",
    "version": 3
   },
   "file_extension": ".py",
   "mimetype": "text/x-python",
   "name": "python",
   "nbconvert_exporter": "python",
   "pygments_lexer": "ipython3",
   "version": "3.11.10"
  }
 },
 "nbformat": 4,
 "nbformat_minor": 5
}

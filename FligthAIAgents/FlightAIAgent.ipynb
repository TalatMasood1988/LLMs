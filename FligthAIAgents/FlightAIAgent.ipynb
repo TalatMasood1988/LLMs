{
 "cells": [
  {
   "cell_type": "code",
   "execution_count": 53,
   "id": "49861e61-a102-405d-bb79-cd498c3cc898",
   "metadata": {},
   "outputs": [],
   "source": [
    "import os\n",
    "import json\n",
    "from dotenv import load_dotenv\n",
    "from openai import OpenAI\n",
    "import gradio as gr"
   ]
  },
  {
   "cell_type": "code",
   "execution_count": 54,
   "id": "0b920770-5d82-4ad3-9a57-1f4d87ae2c63",
   "metadata": {},
   "outputs": [],
   "source": [
    "load_dotenv()\n",
    "os.environ['OPENAI_API_KEY'] = os. getenv('OPENAI_API_KEY', 'your-key-if-not-using-env')\n",
    "MODEL = 'gpt-4o-mini'\n",
    "openai = OpenAI()"
   ]
  },
  {
   "cell_type": "code",
   "execution_count": 55,
   "id": "3095ebea-92d6-44ee-9d09-1f1d5b36734b",
   "metadata": {},
   "outputs": [],
   "source": [
    "system_message = \"You are a helpful assistant for an Airline called FlightAI. \"\n",
    "system_message += \"Give short, courteous answers, no more than 1 sentence. \"\n",
    "system_message += \"Always be accurate. If you don't know the answer, say so.\""
   ]
  },
  {
   "cell_type": "code",
   "execution_count": 56,
   "id": "b0fcbc17-ddac-4dbe-a93a-eef0e4b77e58",
   "metadata": {},
   "outputs": [
    {
     "name": "stderr",
     "output_type": "stream",
     "text": [
      "C:\\Users\\QIRAT\\anaconda3\\envs\\llms\\Lib\\site-packages\\gradio\\components\\chatbot.py:229: UserWarning: The 'tuples' format for chatbot messages is deprecated and will be removed in a future version of Gradio. Please set type='messages' instead, which uses openai-style 'role' and 'content' keys.\n",
      "  warnings.warn(\n"
     ]
    },
    {
     "name": "stdout",
     "output_type": "stream",
     "text": [
      "* Running on local URL:  http://127.0.0.1:7867\n",
      "\n",
      "To create a public link, set `share=True` in `launch()`.\n"
     ]
    },
    {
     "data": {
      "text/html": [
       "<div><iframe src=\"http://127.0.0.1:7867/\" width=\"100%\" height=\"500\" allow=\"autoplay; camera; microphone; clipboard-read; clipboard-write;\" frameborder=\"0\" allowfullscreen></iframe></div>"
      ],
      "text/plain": [
       "<IPython.core.display.HTML object>"
      ]
     },
     "metadata": {},
     "output_type": "display_data"
    },
    {
     "data": {
      "text/plain": []
     },
     "execution_count": 56,
     "metadata": {},
     "output_type": "execute_result"
    }
   ],
   "source": [
    "def chat(message, history):\n",
    "    messages = [{\"role\":\"system\", \"content\" : system_message}]\n",
    "    for human, assistant in history:\n",
    "        messages.append ({\"role\": \"user\", \"content\": human})\n",
    "        messages.append ({\"role\": \"assistant\", \"content\": assistant})\n",
    "    messages.append({\"role\":\"user\", \"content\": message})\n",
    "    response = openai.chat.completions.create(model=MODEL, messages = messages)\n",
    "    return response.choices[0].message.content\n",
    "\n",
    "gr.ChatInterface(fn=chat).launch()"
   ]
  },
  {
   "cell_type": "code",
   "execution_count": 57,
   "id": "16bfbcc9-c718-4510-8d64-f8cc5a7cb64f",
   "metadata": {},
   "outputs": [],
   "source": [
    "ticket_prices = {\"london\": \"$799\", \"paris\": \"$899\", \"tokyo\": \"$1400\", \"berlin\": \"$499\", \"sialkot\": \"$399\"}\n",
    "\n",
    "def get_ticket_price(destination_city):\n",
    "    print(f\"Tool get_ticket_price called for {destination_city}\")\n",
    "    city = destination_city.lower()\n",
    "    \n",
    "    return ticket_prices.get(city, \"Unknown\")"
   ]
  },
  {
   "cell_type": "code",
   "execution_count": 58,
   "id": "4f253cbe-c7f9-4501-a06c-76ec03a44f55",
   "metadata": {},
   "outputs": [
    {
     "name": "stdout",
     "output_type": "stream",
     "text": [
      "Tool get_ticket_price called for Sialkot\n"
     ]
    },
    {
     "data": {
      "text/plain": [
       "'$399'"
      ]
     },
     "execution_count": 58,
     "metadata": {},
     "output_type": "execute_result"
    }
   ],
   "source": [
    "get_ticket_price(\"Sialkot\")"
   ]
  },
  {
   "cell_type": "code",
   "execution_count": 59,
   "id": "b5a8e833-70e2-48c0-8ab5-c0d33a4d6d95",
   "metadata": {},
   "outputs": [],
   "source": [
    "price_function = {\n",
    "    \"name\": \"get_ticket_price\",\n",
    "    \"description\": \"Get the price of a return ticket to the destination city. Call this whenever you need to know the ticket price, for example when a customer asks 'How much is a ticket to this city'\",\n",
    "    \"parameters\": {\n",
    "        \"type\": \"object\",\n",
    "        \"properties\": {\n",
    "            \"destination_city\": {\n",
    "                \"type\": \"string\",\n",
    "                \"description\": \"The city that the customer wants to travel to\",\n",
    "            },\n",
    "        },\n",
    "        \"required\": [\"destination_city\"],\n",
    "        \"additionalProperties\": False\n",
    "    }\n",
    "}"
   ]
  },
  {
   "cell_type": "code",
   "execution_count": 60,
   "id": "7cf708f6-b8f2-4212-b25c-d186fd205d73",
   "metadata": {},
   "outputs": [],
   "source": [
    "tools = [{\"type\":\"function\", \"function\":price_function}]"
   ]
  },
  {
   "cell_type": "code",
   "execution_count": 61,
   "id": "e8f542eb-134b-4273-af64-2d435cb89509",
   "metadata": {},
   "outputs": [],
   "source": [
    "def chat(message, history):\n",
    "    messages = [{\"role\": \"system\", \"content\": system_message}]\n",
    "    for human, assistant in history:\n",
    "        messages.append({\"role\": \"user\", \"content\": human})\n",
    "        messages.append({\"role\": \"assistant\", \"content\": assistant})\n",
    "    messages.append({\"role\": \"user\", \"content\": message})\n",
    "    response = openai.chat.completions.create(model=MODEL, messages=messages, tools=tools)\n",
    "\n",
    "    if response.choices[0].finish_reason==\"tool_calls\":\n",
    "        message = response.choices[0].message\n",
    "        response, city = handle_tool_call(message)\n",
    "        messages.append(message)\n",
    "        messages.append(response)\n",
    "        response = openai.chat.completions.create(model=MODEL, messages=messages)\n",
    "    \n",
    "    return response.choices[0].message.content"
   ]
  },
  {
   "cell_type": "code",
   "execution_count": 62,
   "id": "ffaf4763-ec91-49a3-83f2-37be700f4123",
   "metadata": {},
   "outputs": [],
   "source": [
    "def handle_tool_call(message):\n",
    "    tool_call = message.tool_calls[0]\n",
    "    arguments = json.loads(tool_call.function.arguments)\n",
    "    city = arguments.get('destination_city')\n",
    "    price = get_ticket_price(city)\n",
    "    response = {\n",
    "        \"role\": \"tool\",\n",
    "        \"content\": json.dumps({\"destination_city\": city,\"price\": price}),\n",
    "        \"tool_call_id\": message.tool_calls[0].id\n",
    "    }\n",
    "    return response, city"
   ]
  },
  {
   "cell_type": "code",
   "execution_count": 63,
   "id": "0777582f-f761-4397-99e8-861d0e077429",
   "metadata": {},
   "outputs": [
    {
     "name": "stderr",
     "output_type": "stream",
     "text": [
      "C:\\Users\\QIRAT\\anaconda3\\envs\\llms\\Lib\\site-packages\\gradio\\components\\chatbot.py:229: UserWarning: The 'tuples' format for chatbot messages is deprecated and will be removed in a future version of Gradio. Please set type='messages' instead, which uses openai-style 'role' and 'content' keys.\n",
      "  warnings.warn(\n"
     ]
    },
    {
     "name": "stdout",
     "output_type": "stream",
     "text": [
      "* Running on local URL:  http://127.0.0.1:7868\n",
      "\n",
      "To create a public link, set `share=True` in `launch()`.\n"
     ]
    },
    {
     "data": {
      "text/html": [
       "<div><iframe src=\"http://127.0.0.1:7868/\" width=\"100%\" height=\"500\" allow=\"autoplay; camera; microphone; clipboard-read; clipboard-write;\" frameborder=\"0\" allowfullscreen></iframe></div>"
      ],
      "text/plain": [
       "<IPython.core.display.HTML object>"
      ]
     },
     "metadata": {},
     "output_type": "display_data"
    },
    {
     "data": {
      "text/plain": []
     },
     "execution_count": 63,
     "metadata": {},
     "output_type": "execute_result"
    }
   ],
   "source": [
    "gr.ChatInterface(fn=chat).launch()"
   ]
  },
  {
   "cell_type": "markdown",
   "id": "973cb64e-b83e-4f66-93fa-17082d85756e",
   "metadata": {},
   "source": [
    "# DALL-E-3, the image generation model behind GPT-4o"
   ]
  },
  {
   "cell_type": "code",
   "execution_count": 76,
   "id": "8f7b0c15-c3a7-41f1-973d-48bcd2aabb41",
   "metadata": {},
   "outputs": [],
   "source": [
    "import base64\n",
    "from io import BytesIO\n",
    "from PIL import Image\n"
   ]
  },
  {
   "cell_type": "code",
   "execution_count": 86,
   "id": "ca185bfd-fb80-4b08-af81-ef530b422fb9",
   "metadata": {},
   "outputs": [],
   "source": [
    "def ImageGeneration(info):\n",
    "    image_response = openai.images.generate(\n",
    "            model=\"dall-e-3\",\n",
    "            prompt=f\"An image representing a vacation in {info}, showing tourist spots and everything unique about {info}, in a vibrant pop-art style\",\n",
    "            size=\"1024x1024\",\n",
    "            n=1,\n",
    "            response_format=\"b64_json\",\n",
    "        )\n",
    "    image_base64 = image_response.data[0].b64_json\n",
    "    image_data = base64.b64decode(image_base64)\n",
    "    return Image.open(BytesIO(image_data))"
   ]
  },
  {
   "cell_type": "code",
   "execution_count": 83,
   "id": "d1ee921c-ecb6-4177-b005-b68c02cc50fc",
   "metadata": {},
   "outputs": [
    {
     "ename": "NameError",
     "evalue": "name 'city' is not defined",
     "output_type": "error",
     "traceback": [
      "\u001b[1;31m---------------------------------------------------------------------------\u001b[0m",
      "\u001b[1;31mNameError\u001b[0m                                 Traceback (most recent call last)",
      "Cell \u001b[1;32mIn[83], line 1\u001b[0m\n\u001b[1;32m----> 1\u001b[0m image \u001b[38;5;241m=\u001b[39m \u001b[43mImageGeneration\u001b[49m\u001b[43m(\u001b[49m\u001b[38;5;124;43m\"\u001b[39;49m\u001b[38;5;124;43mBurj Khalifa\u001b[39;49m\u001b[38;5;124;43m\"\u001b[39;49m\u001b[43m)\u001b[49m\n\u001b[0;32m      2\u001b[0m display(image)\n",
      "Cell \u001b[1;32mIn[82], line 4\u001b[0m, in \u001b[0;36mImageGeneration\u001b[1;34m(info)\u001b[0m\n\u001b[0;32m      1\u001b[0m \u001b[38;5;28;01mdef\u001b[39;00m \u001b[38;5;21mImageGeneration\u001b[39m(info):\n\u001b[0;32m      2\u001b[0m     image_response \u001b[38;5;241m=\u001b[39m openai\u001b[38;5;241m.\u001b[39mimages\u001b[38;5;241m.\u001b[39mgenerate(\n\u001b[0;32m      3\u001b[0m             model\u001b[38;5;241m=\u001b[39m\u001b[38;5;124m\"\u001b[39m\u001b[38;5;124mdall-e-3\u001b[39m\u001b[38;5;124m\"\u001b[39m,\n\u001b[1;32m----> 4\u001b[0m             prompt\u001b[38;5;241m=\u001b[39m\u001b[38;5;124mf\u001b[39m\u001b[38;5;124m\"\u001b[39m\u001b[38;5;124mAn image representing a vacation in \u001b[39m\u001b[38;5;132;01m{\u001b[39;00m\u001b[43mcity\u001b[49m\u001b[38;5;132;01m}\u001b[39;00m\u001b[38;5;124m, showing tourist spots and everything unique about \u001b[39m\u001b[38;5;132;01m{\u001b[39;00mcity\u001b[38;5;132;01m}\u001b[39;00m\u001b[38;5;124m, in a vibrant pop-art style\u001b[39m\u001b[38;5;124m\"\u001b[39m,\n\u001b[0;32m      5\u001b[0m             size\u001b[38;5;241m=\u001b[39m\u001b[38;5;124m\"\u001b[39m\u001b[38;5;124m1024x1024\u001b[39m\u001b[38;5;124m\"\u001b[39m,\n\u001b[0;32m      6\u001b[0m             n\u001b[38;5;241m=\u001b[39m\u001b[38;5;241m1\u001b[39m,\n\u001b[0;32m      7\u001b[0m             response_format\u001b[38;5;241m=\u001b[39m\u001b[38;5;124m\"\u001b[39m\u001b[38;5;124mb64_json\u001b[39m\u001b[38;5;124m\"\u001b[39m,\n\u001b[0;32m      8\u001b[0m         )\n\u001b[0;32m      9\u001b[0m     image_base64 \u001b[38;5;241m=\u001b[39m image_response\u001b[38;5;241m.\u001b[39mdata[\u001b[38;5;241m0\u001b[39m]\u001b[38;5;241m.\u001b[39mb64_json\n\u001b[0;32m     10\u001b[0m     image_data \u001b[38;5;241m=\u001b[39m base64\u001b[38;5;241m.\u001b[39mb64decode(image_base64)\n",
      "\u001b[1;31mNameError\u001b[0m: name 'city' is not defined"
     ]
    }
   ],
   "source": [
    "image = ImageGeneration(\"Burj Khalifa\")\n",
    "display(image)"
   ]
  },
  {
   "cell_type": "markdown",
   "id": "01b0a473-bfed-49f5-94eb-aa1c370509b3",
   "metadata": {},
   "source": [
    "## Audio\n"
   ]
  },
  {
   "cell_type": "code",
   "execution_count": 64,
   "id": "caf02aaf-2e37-4c6a-ad8c-6ec41d6528c3",
   "metadata": {},
   "outputs": [],
   "source": [
    "import pygame\n",
    "import io\n",
    "from time import sleep\n",
    "\n",
    "def talker(message):\n",
    "    try:\n",
    "        # Initialize pygame mixer\n",
    "        pygame.mixer.init()\n",
    "        \n",
    "        # Create speech\n",
    "        print(\"Generating speech...\")\n",
    "        response = openai.audio.speech.create(\n",
    "            model=\"tts-1\",\n",
    "            voice=\"nova\",\n",
    "            input=message\n",
    "        )\n",
    "        \n",
    "        # Load audio data into memory\n",
    "        print(\"Processing audio...\")\n",
    "        audio_data = io.BytesIO(response.content)\n",
    "        \n",
    "        # Load and play the audio\n",
    "        print(\"Playing audio...\")\n",
    "        pygame.mixer.music.load(audio_data)\n",
    "        pygame.mixer.music.play()\n",
    "        \n",
    "        # Wait for the audio to finish playing\n",
    "        while pygame.mixer.music.get_busy():\n",
    "            sleep(0.1)\n",
    "            \n",
    "        print(\"Audio playback completed!\")\n",
    "        \n",
    "        # Cleanup\n",
    "        pygame.mixer.quit()\n",
    "        \n",
    "    except Exception as e:\n",
    "        print(f\"Error: {type(e).__name__} - {str(e)}\")\n",
    "        pygame.mixer.quit()\n",
    "        return None"
   ]
  },
  {
   "cell_type": "code",
   "execution_count": 65,
   "id": "fe257cc4-4877-46ef-9c02-b1566a5a736d",
   "metadata": {},
   "outputs": [
    {
     "name": "stdout",
     "output_type": "stream",
     "text": [
      "Generating speech...\n",
      "Processing audio...\n",
      "Playing audio...\n",
      "Audio playback completed!\n"
     ]
    }
   ],
   "source": [
    "#print(f\"Temporary directory1: {tempfile.tempdir}\")\n",
    "talker(\"Well, hi there\")"
   ]
  },
  {
   "cell_type": "markdown",
   "id": "4ec358d5-ac71-439e-a91c-04e41de076c9",
   "metadata": {},
   "source": [
    "# Agent Framework"
   ]
  },
  {
   "cell_type": "code",
   "execution_count": 80,
   "id": "03d65d5b-2ffc-4243-9a4f-329b57a0fad2",
   "metadata": {},
   "outputs": [],
   "source": [
    "def chat(message, history):\n",
    "    image = None\n",
    "    conversation = [{\"role\": \"system\", \"content\":system_message}]\n",
    "    for human, assistant in history:\n",
    "        conversation.append({\"role\": \"user\", \"content\": human})\n",
    "        conversation.append({\"role\": \"assistant\", \"content\": assistant})\n",
    "    conversation.append({\"role\": \"user\", \"content\": message})\n",
    "    response = openai.chat.completions.create(model=MODEL, messages=conversation, tools=tools)\n",
    "\n",
    "    if response.choices[0].finish_reason == \"tool_calls\":\n",
    "        message = tool_call = response.choices[0].message\n",
    "        response,city = handle_tool_call(message)\n",
    "        conversation.append(message)\n",
    "        conversation.append(response)\n",
    "        image = ImageGeneration(city)\n",
    "        response = openai.chat.completions.create(model = MODEL, messages = conversation)\n",
    "\n",
    "    reply = response.choices[0].message.content\n",
    "    talker(reply)\n",
    "    return reply, image\n",
    "        \n",
    "    "
   ]
  },
  {
   "cell_type": "code",
   "execution_count": 87,
   "id": "9fd02a33-5099-4323-a7d5-13a0ae558626",
   "metadata": {},
   "outputs": [
    {
     "name": "stderr",
     "output_type": "stream",
     "text": [
      "C:\\Users\\QIRAT\\anaconda3\\envs\\llms\\Lib\\site-packages\\gradio\\components\\chatbot.py:223: UserWarning: You have not specified a value for the `type` parameter. Defaulting to the 'tuples' format for chatbot messages, but this is deprecated and will be removed in a future version of Gradio. Please set type='messages' instead, which uses openai-style 'role' and 'content' keys.\n",
      "  warnings.warn(\n"
     ]
    },
    {
     "name": "stdout",
     "output_type": "stream",
     "text": [
      "* Running on local URL:  http://127.0.0.1:7877\n",
      "\n",
      "To create a public link, set `share=True` in `launch()`.\n"
     ]
    },
    {
     "data": {
      "text/html": [
       "<div><iframe src=\"http://127.0.0.1:7877/\" width=\"100%\" height=\"500\" allow=\"autoplay; camera; microphone; clipboard-read; clipboard-write;\" frameborder=\"0\" allowfullscreen></iframe></div>"
      ],
      "text/plain": [
       "<IPython.core.display.HTML object>"
      ]
     },
     "metadata": {},
     "output_type": "display_data"
    },
    {
     "data": {
      "text/plain": []
     },
     "execution_count": 87,
     "metadata": {},
     "output_type": "execute_result"
    },
    {
     "name": "stdout",
     "output_type": "stream",
     "text": [
      "Generating speech...\n",
      "Processing audio...\n",
      "Playing audio...\n",
      "Audio playback completed!\n",
      "Tool get_ticket_price called for Sialkot\n",
      "Generating speech...\n",
      "Processing audio...\n",
      "Playing audio...\n",
      "Audio playback completed!\n"
     ]
    }
   ],
   "source": [
    "with gr.Blocks() as ui:\n",
    "    with gr.Row():\n",
    "        chatbot = gr.Chatbot(height=500)\n",
    "        image_output = gr.Image(height=500)\n",
    "    with gr.Row():\n",
    "        msg = gr.Textbox(label=\"Chat with our AI Assistant:\")\n",
    "    with gr.Row():\n",
    "        clear = gr.Button(\"Clear\")\n",
    "\n",
    "    def user(user_message, history):\n",
    "        return \"\", history + [[user_message, None]]\n",
    "\n",
    "    def bot(history):\n",
    "        user_message = history[-1][0]\n",
    "        bot_message, image = chat(user_message, history[:-1])\n",
    "        history[-1][1] = bot_message\n",
    "        return history, image\n",
    "\n",
    "    msg.submit(user, [msg, chatbot], [msg, chatbot], queue=False).then(\n",
    "        bot, chatbot, [chatbot, image_output]\n",
    "    )\n",
    "    clear.click(lambda: None, None, chatbot, queue=False)\n",
    "\n",
    "ui.launch()"
   ]
  },
  {
   "cell_type": "code",
   "execution_count": null,
   "id": "213a337b-d8d1-4cd5-8b44-78af65ae80e4",
   "metadata": {},
   "outputs": [],
   "source": []
  }
 ],
 "metadata": {
  "kernelspec": {
   "display_name": "Python 3 (ipykernel)",
   "language": "python",
   "name": "python3"
  },
  "language_info": {
   "codemirror_mode": {
    "name": "ipython",
    "version": 3
   },
   "file_extension": ".py",
   "mimetype": "text/x-python",
   "name": "python",
   "nbconvert_exporter": "python",
   "pygments_lexer": "ipython3",
   "version": "3.11.10"
  }
 },
 "nbformat": 4,
 "nbformat_minor": 5
}
